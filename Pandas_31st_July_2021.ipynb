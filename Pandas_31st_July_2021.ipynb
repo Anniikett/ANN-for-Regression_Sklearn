{
  "nbformat": 4,
  "nbformat_minor": 0,
  "metadata": {
    "kernelspec": {
      "display_name": "Python 3",
      "language": "python",
      "name": "python3"
    },
    "language_info": {
      "codemirror_mode": {
        "name": "ipython",
        "version": 3
      },
      "file_extension": ".py",
      "mimetype": "text/x-python",
      "name": "python",
      "nbconvert_exporter": "python",
      "pygments_lexer": "ipython3",
      "version": "3.7.4"
    },
    "latex_envs": {
      "LaTeX_envs_menu_present": true,
      "autoclose": false,
      "autocomplete": true,
      "bibliofile": "biblio.bib",
      "cite_by": "apalike",
      "current_citInitial": 1,
      "eqLabelWithNumbers": true,
      "eqNumInitial": 1,
      "hotkeys": {
        "equation": "Ctrl-E",
        "itemize": "Ctrl-I"
      },
      "labels_anchors": false,
      "latex_user_defs": false,
      "report_style_numbering": false,
      "user_envs_cfg": false
    },
    "toc": {
      "base_numbering": 1,
      "nav_menu": {},
      "number_sections": false,
      "sideBar": true,
      "skip_h1_title": false,
      "title_cell": "Table of Contents",
      "title_sidebar": "Contents",
      "toc_cell": false,
      "toc_position": {},
      "toc_section_display": true,
      "toc_window_display": false
    },
    "colab": {
      "provenance": [],
      "collapsed_sections": [
        "5rfkezgv5fb2",
        "4hFt7EW45fb4",
        "7REX5ftF5fcD",
        "uXG5MjX35fcD",
        "8qrg_USl5fcD",
        "NrIAxZqL5fcD",
        "kxaBMUo_5fcD",
        "iewBUu_w5fcD",
        "Pu9U6W475fcE",
        "SIV2KQ_M5fcE",
        "MTTHZPR85fcE",
        "SaX9I3O75fcF",
        "s6bD0sV25fcF",
        "c7eenWlC5fcG",
        "C5iv8_sM5fcG",
        "o6v-kWis5fcG",
        "Nt9gYLCG5fcH",
        "qNmQ4Ay_5fcH",
        "fRVnUZ315fcH",
        "LhJtRI195fcH",
        "Cu3-MwHk5fcH",
        "gfbLlONt5fcH",
        "8lGP5NwU5fcQ",
        "PneS7MO55fcQ",
        "lbLY22mW5fcR"
      ],
      "include_colab_link": true
    }
  },
  "cells": [
    {
      "cell_type": "markdown",
      "metadata": {
        "id": "view-in-github",
        "colab_type": "text"
      },
      "source": [
        "<a href=\"https://colab.research.google.com/github/Anniikett/ANN-for-Regression_Sklearn/blob/main/Pandas_31st_July_2021.ipynb\" target=\"_parent\"><img src=\"https://colab.research.google.com/assets/colab-badge.svg\" alt=\"Open In Colab\"/></a>"
      ]
    },
    {
      "cell_type": "markdown",
      "metadata": {
        "id": "se23BF0W5fbq"
      },
      "source": [
        "# Pandas: An Introduction"
      ]
    },
    {
      "cell_type": "markdown",
      "metadata": {
        "id": "KcAP8sE05fbs"
      },
      "source": [
        "- Pandas is a python package providing fast, flexible, and expressive data structures designed to make working with “relational” or “labeled” data both easy and intuitive.\n",
        "- It aims to be the fundamental high-level building block for doing practical, real world data analysis in Python.\n",
        "- It has the broader goal of becoming the most powerful and flexible open source data analysis / manipulation tool available in any language."
      ]
    },
    {
      "cell_type": "markdown",
      "metadata": {
        "id": "-AI8SA_H5fbt"
      },
      "source": [
        "![](../all_images/pandas.png)"
      ]
    },
    {
      "cell_type": "markdown",
      "metadata": {
        "id": "wyX-O5BM5fbt"
      },
      "source": [
        "### Features of Pandas\n",
        "\n",
        "Here are just a few of the things that pandas does well:\n",
        "\n",
        "- Easy to manipulate missing data(represented as NaN).\n",
        "- Provide capability to reshaping and pivoting.\n",
        "- Good for merging ang joining data sets.\n",
        "- Provide a robust IO tools for loading data from flat files (CSV), Excel files, databases and HDFS.\n",
        "- Size mutability: columns can be inserted and deleted from DataFrame and higher dimensional objects\n",
        "- Automatic and explicit data alignment: objects can be explicitly aligned to a set of labels, or the user can simply ignore the labels and let Series, DataFrame, etc. automatically align the data for you in computations\n",
        "- Powerful, flexible group by functionality to perform split-apply-combine operations on data sets, for both aggregating and transforming data\n",
        "- Make it easy to convert ragged, differently-indexed data in other Python and NumPy data structures into DataFrame objects\n",
        "- Intelligent label-based slicing, fancy indexing, and subsetting of large data sets\n",
        "- Hierarchical labeling of axes (possible to have multiple labels per tick)\n",
        "- Time series-specific functionality: date range generation and frequency conversion, moving window statistics, date shifting and lagging.\n",
        "\n",
        "Source: https://github.com/pandas-dev/pandas#installation-from-sources"
      ]
    },
    {
      "cell_type": "markdown",
      "metadata": {
        "id": "Stkgw8ra5fbt"
      },
      "source": [
        "## Pandas Installation"
      ]
    },
    {
      "cell_type": "markdown",
      "metadata": {
        "id": "tlbvw9FC5fbu"
      },
      "source": [
        "`pip install pandas`"
      ]
    },
    {
      "cell_type": "markdown",
      "metadata": {
        "id": "FUPzqKGT5fbu"
      },
      "source": [
        "### Pandas Dependencies\n",
        "\n",
        "- NumPy\n",
        "- python-dateutil\n",
        "- pytz"
      ]
    },
    {
      "cell_type": "markdown",
      "metadata": {
        "id": "kCUzVbmT5fbv"
      },
      "source": [
        "### Import Pandas"
      ]
    },
    {
      "cell_type": "code",
      "metadata": {
        "id": "_FK8nCqf5fbv"
      },
      "source": [
        "import pandas as pd\n",
        "import numpy as np"
      ],
      "execution_count": null,
      "outputs": []
    },
    {
      "cell_type": "markdown",
      "metadata": {
        "id": "t_hSpmTG5fbw"
      },
      "source": [
        "## Create: Pandas Objects"
      ]
    },
    {
      "cell_type": "markdown",
      "metadata": {
        "id": "sHG_kEyt5fbw"
      },
      "source": [
        "Pandas mainly works with following objects,\n",
        "- Series\n",
        "- Data Frames"
      ]
    },
    {
      "cell_type": "code",
      "metadata": {
        "id": "KS25dBqb5fbw"
      },
      "source": [],
      "execution_count": null,
      "outputs": []
    },
    {
      "cell_type": "code",
      "metadata": {
        "id": "1sw7d6x65fbw"
      },
      "source": [],
      "execution_count": null,
      "outputs": []
    },
    {
      "cell_type": "markdown",
      "metadata": {
        "id": "3SGjm3M95fbx"
      },
      "source": [
        "## Working with Series\n",
        "\n",
        "Series is a one-dimensional labeled array that can holding any data type (integers, strings, floating point numbers, Python objects, etc.)."
      ]
    },
    {
      "cell_type": "code",
      "metadata": {
        "ExecuteTime": {
          "end_time": "2021-07-31T08:23:48.915625Z",
          "start_time": "2021-07-31T08:23:48.909668Z"
        },
        "scrolled": true,
        "id": "t3cxqyQz5fbx"
      },
      "source": [
        "# Syntax\n",
        "# s = pd.Series(data, index=index)"
      ],
      "execution_count": null,
      "outputs": []
    },
    {
      "cell_type": "markdown",
      "metadata": {
        "id": "C8VDD2Lv5fbx"
      },
      "source": [
        "Here, data can be,\n",
        "\n",
        "- a Python dict\n",
        "\n",
        "- an ndarray\n",
        "\n",
        "- a scalar value (like 5)\n",
        "\n",
        "The passed index is a list of __axis labels__.\n",
        "\n",
        "If data is an ndarray, index must be the same length as data. If no index is passed, one will be created having values [0, ..., len(data) - 1]."
      ]
    },
    {
      "cell_type": "code",
      "metadata": {
        "ExecuteTime": {
          "end_time": "2021-07-31T08:23:49.399551Z",
          "start_time": "2021-07-31T08:23:49.379611Z"
        },
        "id": "Qoj6RkAN5fby"
      },
      "source": [
        "s = pd.Series(np.random.randn(6), index=['a', 'v', 'w', 'x', 'y','z'])"
      ],
      "execution_count": null,
      "outputs": []
    },
    {
      "cell_type": "code",
      "metadata": {
        "ExecuteTime": {
          "end_time": "2021-07-31T08:23:49.697801Z",
          "start_time": "2021-07-31T08:23:49.685798Z"
        },
        "id": "qy9FkiTt5fby",
        "colab": {
          "base_uri": "https://localhost:8080/"
        },
        "outputId": "2827fdf5-3b89-4d6c-c42f-67f99770b779"
      },
      "source": [
        "s"
      ],
      "execution_count": null,
      "outputs": [
        {
          "output_type": "execute_result",
          "data": {
            "text/plain": [
              "a    0.471035\n",
              "v    0.127004\n",
              "w   -0.877910\n",
              "x   -1.508325\n",
              "y    1.318487\n",
              "z    1.799807\n",
              "dtype: float64"
            ]
          },
          "metadata": {
            "tags": []
          },
          "execution_count": 6
        }
      ]
    },
    {
      "cell_type": "code",
      "metadata": {
        "ExecuteTime": {
          "end_time": "2021-07-31T08:23:50.044855Z",
          "start_time": "2021-07-31T08:23:50.032903Z"
        },
        "id": "pLtcHx_O5fbz",
        "colab": {
          "base_uri": "https://localhost:8080/"
        },
        "outputId": "f94c0be0-523a-42b1-aed9-ab599ff117d9"
      },
      "source": [
        "s.index"
      ],
      "execution_count": null,
      "outputs": [
        {
          "output_type": "execute_result",
          "data": {
            "text/plain": [
              "Index(['a', 'v', 'w', 'x', 'y', 'z'], dtype='object')"
            ]
          },
          "metadata": {
            "tags": []
          },
          "execution_count": 7
        }
      ]
    },
    {
      "cell_type": "code",
      "metadata": {
        "ExecuteTime": {
          "end_time": "2021-07-31T08:23:50.361573Z",
          "start_time": "2021-07-31T08:23:50.353554Z"
        },
        "id": "ih1S9eGm5fbz",
        "colab": {
          "base_uri": "https://localhost:8080/"
        },
        "outputId": "9311c26b-fdb4-4e28-a26d-2e93d845de0c"
      },
      "source": [
        "pd.Series(np.random.randn(6))"
      ],
      "execution_count": null,
      "outputs": [
        {
          "output_type": "execute_result",
          "data": {
            "text/plain": [
              "0    1.291648\n",
              "1   -0.160484\n",
              "2   -1.600818\n",
              "3   -1.135344\n",
              "4   -1.286713\n",
              "5   -1.460832\n",
              "dtype: float64"
            ]
          },
          "metadata": {
            "tags": []
          },
          "execution_count": 9
        }
      ]
    },
    {
      "cell_type": "markdown",
      "metadata": {
        "id": "qIKtXpaA5fbz"
      },
      "source": [
        "### From dictionary\n",
        "\n",
        "Series can be instantiated from dictionary"
      ]
    },
    {
      "cell_type": "code",
      "metadata": {
        "ExecuteTime": {
          "end_time": "2021-07-31T08:23:50.913152Z",
          "start_time": "2021-07-31T08:23:50.908163Z"
        },
        "id": "0u7R-kIy5fb0"
      },
      "source": [
        "d = {'abc': 1, 'pqw': 4, 'xyz': 2}"
      ],
      "execution_count": null,
      "outputs": []
    },
    {
      "cell_type": "code",
      "metadata": {
        "ExecuteTime": {
          "end_time": "2021-07-31T08:23:51.245401Z",
          "start_time": "2021-07-31T08:23:51.238420Z"
        },
        "id": "DGrOt4f15fb0",
        "colab": {
          "base_uri": "https://localhost:8080/"
        },
        "outputId": "51dbc1b5-2a51-42fb-ddbf-d9d74f045399"
      },
      "source": [
        "pd.Series(d)"
      ],
      "execution_count": null,
      "outputs": [
        {
          "output_type": "execute_result",
          "data": {
            "text/plain": [
              "abc    1\n",
              "pqw    4\n",
              "xyz    2\n",
              "dtype: int64"
            ]
          },
          "metadata": {
            "tags": []
          },
          "execution_count": 11
        }
      ]
    },
    {
      "cell_type": "markdown",
      "metadata": {
        "id": "c3Ji2qHa5fb0"
      },
      "source": [
        "### Note\n",
        "\n",
        "- When the data is a dict, and an index is not passed, the Series index will be ordered by the dict’s insertion order, if you’re using Python version >= 3.6 and Pandas version >= 0.23.\n",
        "\n",
        "- If user using Python < 3.6 or Pandas < 0.23, and an index is not passed, the Series index will be the lexically ordered list of dict keys."
      ]
    },
    {
      "cell_type": "markdown",
      "metadata": {
        "id": "DqfY-afm5fb0"
      },
      "source": [
        "If an index is passed, the values in data corresponding to the labels in the index will be pulled out."
      ]
    },
    {
      "cell_type": "code",
      "metadata": {
        "ExecuteTime": {
          "end_time": "2021-07-31T08:23:52.621439Z",
          "start_time": "2021-07-31T08:23:52.608473Z"
        },
        "id": "ToN84d_D5fb1"
      },
      "source": [
        "d = {'a': 0., 'b': 4, 'c': 2.}"
      ],
      "execution_count": null,
      "outputs": []
    },
    {
      "cell_type": "code",
      "metadata": {
        "ExecuteTime": {
          "end_time": "2021-07-31T08:23:53.140461Z",
          "start_time": "2021-07-31T08:23:53.132485Z"
        },
        "id": "OCvznGyq5fb1",
        "colab": {
          "base_uri": "https://localhost:8080/"
        },
        "outputId": "48497d12-f48f-46b9-ab78-2c9aca8f7fde"
      },
      "source": [
        "pd.Series(d)    # Create object without index"
      ],
      "execution_count": null,
      "outputs": [
        {
          "output_type": "execute_result",
          "data": {
            "text/plain": [
              "a    0.0\n",
              "b    4.0\n",
              "c    2.0\n",
              "dtype: float64"
            ]
          },
          "metadata": {
            "tags": []
          },
          "execution_count": 19
        }
      ]
    },
    {
      "cell_type": "code",
      "metadata": {
        "ExecuteTime": {
          "end_time": "2021-07-31T08:23:53.646933Z",
          "start_time": "2021-07-31T08:23:53.641934Z"
        },
        "id": "tA8dQKNt5fb1",
        "colab": {
          "base_uri": "https://localhost:8080/"
        },
        "outputId": "7d884620-fb69-45d7-a2ea-cf635a62dddc"
      },
      "source": [
        "pd.Series(d, index=['b', 'c', 'd', 'a'])    # Create object with index"
      ],
      "execution_count": null,
      "outputs": [
        {
          "output_type": "execute_result",
          "data": {
            "text/plain": [
              "b    4.0\n",
              "c    2.0\n",
              "d    NaN\n",
              "a    0.0\n",
              "dtype: float64"
            ]
          },
          "metadata": {
            "tags": []
          },
          "execution_count": 20
        }
      ]
    },
    {
      "cell_type": "markdown",
      "metadata": {
        "id": "5rfkezgv5fb2"
      },
      "source": [
        "### Note\n",
        "\n",
        "NaN (not a number) is the standard missing data marker used in pandas."
      ]
    },
    {
      "cell_type": "markdown",
      "metadata": {
        "id": "gJA9TkY05fb2"
      },
      "source": [
        "### From Scalar Value\n",
        "\n",
        "If data is a scalar value, an index must be provided. The value will be repeated to match the length of index."
      ]
    },
    {
      "cell_type": "code",
      "metadata": {
        "ExecuteTime": {
          "end_time": "2021-07-31T08:23:54.962787Z",
          "start_time": "2021-07-31T08:23:54.943838Z"
        },
        "id": "3aFk_Ago5fb3",
        "colab": {
          "base_uri": "https://localhost:8080/"
        },
        "outputId": "7b7a618e-aedb-4155-e179-ec1a0acedc1c"
      },
      "source": [
        "pd.Series(6., index=['A', 'aNI', 'cAT', 'dog', 'elle'])"
      ],
      "execution_count": null,
      "outputs": [
        {
          "output_type": "execute_result",
          "data": {
            "text/plain": [
              "A       6.0\n",
              "aNI     6.0\n",
              "cAT     6.0\n",
              "dog     6.0\n",
              "elle    6.0\n",
              "dtype: float64"
            ]
          },
          "metadata": {
            "tags": []
          },
          "execution_count": 24
        }
      ]
    },
    {
      "cell_type": "code",
      "metadata": {
        "id": "AFcSDUV15fb3"
      },
      "source": [],
      "execution_count": null,
      "outputs": []
    },
    {
      "cell_type": "markdown",
      "metadata": {
        "id": "X2Y4NqRV5fb3"
      },
      "source": [
        "## Working with DataFrame\n",
        "\n",
        "The most commonly used pandas object, DataFrame, is a 2-dimensional labeled data structure with columns of potentially different types. Like Series, DataFrame works with many types of input,\n",
        "\n",
        "- Dict of 1D ndarrays, lists, dicts, or Series\n",
        "\n",
        "- 2-D numpy.ndarray\n",
        "\n",
        "- Structured or record ndarray\n",
        "\n",
        "- A Series\n",
        "\n",
        "- Another DataFrame\n",
        "\n",
        "Along with the data, we can optionally pass index (row labels) and columns (column labels) arguments.\n",
        "\n",
        "If axis labels are not passed, they will be constructed from the input data."
      ]
    },
    {
      "cell_type": "markdown",
      "metadata": {
        "id": "4hFt7EW45fb4"
      },
      "source": [
        "### Note\n",
        "\n",
        "- When the data is a dict, and columns is not specified, the DataFrame columns will be ordered by the dict’s insertion order, if you are using Python version >= 3.6 and Pandas >= 0.23.\n",
        "\n",
        "- If user are using Python < 3.6 or Pandas < 0.23, and columns is not specified, the DataFrame columns will be the lexically ordered list of dict keys."
      ]
    },
    {
      "cell_type": "markdown",
      "metadata": {
        "id": "Mk0dIPbi5fb6"
      },
      "source": [
        "## From dict of Series or dicts¶"
      ]
    },
    {
      "cell_type": "markdown",
      "metadata": {
        "id": "7XM0AYij5fb7"
      },
      "source": [
        "The resulting index will be the union of the indexes of the various Series. If there are any nested dicts, these will first be converted to Series. If no columns are passed, the columns will be the ordered list of dict keys."
      ]
    },
    {
      "cell_type": "code",
      "metadata": {
        "ExecuteTime": {
          "end_time": "2021-07-31T08:24:06.659455Z",
          "start_time": "2021-07-31T08:24:06.640504Z"
        },
        "id": "ql9VCcFS5fb8"
      },
      "source": [
        "d = {'one': pd.Series([1., 2., 3.,6], index=['a', 'b', 'c','d']),'two': pd.Series([1., 2., 3., 4.], index=['a', 'b', 'c', 'd'])}"
      ],
      "execution_count": null,
      "outputs": []
    },
    {
      "cell_type": "code",
      "metadata": {
        "ExecuteTime": {
          "end_time": "2021-07-31T08:24:07.054634Z",
          "start_time": "2021-07-31T08:24:07.044660Z"
        },
        "id": "gRu6MHaT5fb8"
      },
      "source": [
        "df = pd.DataFrame(d)"
      ],
      "execution_count": null,
      "outputs": []
    },
    {
      "cell_type": "code",
      "metadata": {
        "ExecuteTime": {
          "end_time": "2021-07-31T08:24:07.464540Z",
          "start_time": "2021-07-31T08:24:07.457582Z"
        },
        "id": "Bxmn3gMQ5fb9",
        "colab": {
          "base_uri": "https://localhost:8080/",
          "height": 173
        },
        "outputId": "8e4aec95-ec53-4dcc-a9ba-8a3b0fed986a"
      },
      "source": [
        "df\n"
      ],
      "execution_count": null,
      "outputs": [
        {
          "output_type": "execute_result",
          "data": {
            "text/html": [
              "<div>\n",
              "<style scoped>\n",
              "    .dataframe tbody tr th:only-of-type {\n",
              "        vertical-align: middle;\n",
              "    }\n",
              "\n",
              "    .dataframe tbody tr th {\n",
              "        vertical-align: top;\n",
              "    }\n",
              "\n",
              "    .dataframe thead th {\n",
              "        text-align: right;\n",
              "    }\n",
              "</style>\n",
              "<table border=\"1\" class=\"dataframe\">\n",
              "  <thead>\n",
              "    <tr style=\"text-align: right;\">\n",
              "      <th></th>\n",
              "      <th>one</th>\n",
              "      <th>two</th>\n",
              "    </tr>\n",
              "  </thead>\n",
              "  <tbody>\n",
              "    <tr>\n",
              "      <th>a</th>\n",
              "      <td>1.0</td>\n",
              "      <td>1.0</td>\n",
              "    </tr>\n",
              "    <tr>\n",
              "      <th>b</th>\n",
              "      <td>2.0</td>\n",
              "      <td>2.0</td>\n",
              "    </tr>\n",
              "    <tr>\n",
              "      <th>c</th>\n",
              "      <td>3.0</td>\n",
              "      <td>3.0</td>\n",
              "    </tr>\n",
              "    <tr>\n",
              "      <th>d</th>\n",
              "      <td>6.0</td>\n",
              "      <td>4.0</td>\n",
              "    </tr>\n",
              "  </tbody>\n",
              "</table>\n",
              "</div>"
            ],
            "text/plain": [
              "   one  two\n",
              "a  1.0  1.0\n",
              "b  2.0  2.0\n",
              "c  3.0  3.0\n",
              "d  6.0  4.0"
            ]
          },
          "metadata": {
            "tags": []
          },
          "execution_count": 38
        }
      ]
    },
    {
      "cell_type": "code",
      "metadata": {
        "ExecuteTime": {
          "end_time": "2021-07-31T08:24:12.052350Z",
          "start_time": "2021-07-31T08:24:12.043329Z"
        },
        "id": "Bbrx-Fmh5fb-"
      },
      "source": [
        "df = pd.DataFrame(d, index=['d', 'b', 'a']) # define index"
      ],
      "execution_count": null,
      "outputs": []
    },
    {
      "cell_type": "code",
      "metadata": {
        "ExecuteTime": {
          "end_time": "2021-07-31T08:24:17.547605Z",
          "start_time": "2021-07-31T08:24:17.538630Z"
        },
        "id": "vcYSA-a05fb-"
      },
      "source": [
        "df = pd.DataFrame(d, index=['d', 'b', 'a'], columns=['two', 'three'])  # define index and column name"
      ],
      "execution_count": null,
      "outputs": []
    },
    {
      "cell_type": "markdown",
      "metadata": {
        "id": "bmTmqVfC5fb-"
      },
      "source": [
        "**Note**\n",
        "When a particular set of columns is passed along with a dict of data, the passed columns override the keys in the dict."
      ]
    },
    {
      "cell_type": "code",
      "metadata": {
        "ExecuteTime": {
          "end_time": "2021-07-31T08:24:18.530906Z",
          "start_time": "2021-07-31T08:24:18.518975Z"
        },
        "id": "E8I34DHF5fb_",
        "colab": {
          "base_uri": "https://localhost:8080/"
        },
        "outputId": "99db5ee8-9335-470a-ca1e-2f1f4df04f94"
      },
      "source": [
        "df.index"
      ],
      "execution_count": null,
      "outputs": [
        {
          "output_type": "execute_result",
          "data": {
            "text/plain": [
              "Index(['d', 'b', 'a'], dtype='object')"
            ]
          },
          "metadata": {
            "tags": []
          },
          "execution_count": 33
        }
      ]
    },
    {
      "cell_type": "code",
      "metadata": {
        "ExecuteTime": {
          "end_time": "2021-07-31T08:24:19.225680Z",
          "start_time": "2021-07-31T08:24:19.218707Z"
        },
        "id": "wpMip0mb5fb_",
        "colab": {
          "base_uri": "https://localhost:8080/"
        },
        "outputId": "b9004a77-7522-46b8-caa3-03d4c154282d"
      },
      "source": [
        "df.columns"
      ],
      "execution_count": null,
      "outputs": [
        {
          "output_type": "execute_result",
          "data": {
            "text/plain": [
              "Index(['two', 'three'], dtype='object')"
            ]
          },
          "metadata": {
            "tags": []
          },
          "execution_count": 41
        }
      ]
    },
    {
      "cell_type": "markdown",
      "metadata": {
        "id": "_9Jx5KHe5fcA"
      },
      "source": [
        "### From dict of ndarrays / lists\n",
        "\n",
        "The ndarrays must all be the same length. If an index is passed, it must clearly also be the same length as the arrays. If no index is passed, the result will be range(n), where n is the array length."
      ]
    },
    {
      "cell_type": "code",
      "metadata": {
        "ExecuteTime": {
          "end_time": "2021-07-31T08:24:20.621828Z",
          "start_time": "2021-07-31T08:24:20.606869Z"
        },
        "id": "-logZJts5fcA"
      },
      "source": [
        "d = {'one': [1., 2., 3., 4.],'two': [4., 3., 2., 1.],'three': [6.,8.,8.,9.]}"
      ],
      "execution_count": null,
      "outputs": []
    },
    {
      "cell_type": "code",
      "metadata": {
        "ExecuteTime": {
          "end_time": "2021-07-31T08:24:22.505119Z",
          "start_time": "2021-07-31T08:24:22.483167Z"
        },
        "id": "_wR9uFSd5fcA",
        "colab": {
          "base_uri": "https://localhost:8080/",
          "height": 173
        },
        "outputId": "6242b50a-8ffe-4dd3-a835-d5cc4e16e834"
      },
      "source": [
        "pd.DataFrame(d)"
      ],
      "execution_count": null,
      "outputs": [
        {
          "output_type": "execute_result",
          "data": {
            "text/html": [
              "<div>\n",
              "<style scoped>\n",
              "    .dataframe tbody tr th:only-of-type {\n",
              "        vertical-align: middle;\n",
              "    }\n",
              "\n",
              "    .dataframe tbody tr th {\n",
              "        vertical-align: top;\n",
              "    }\n",
              "\n",
              "    .dataframe thead th {\n",
              "        text-align: right;\n",
              "    }\n",
              "</style>\n",
              "<table border=\"1\" class=\"dataframe\">\n",
              "  <thead>\n",
              "    <tr style=\"text-align: right;\">\n",
              "      <th></th>\n",
              "      <th>one</th>\n",
              "      <th>two</th>\n",
              "      <th>three</th>\n",
              "    </tr>\n",
              "  </thead>\n",
              "  <tbody>\n",
              "    <tr>\n",
              "      <th>0</th>\n",
              "      <td>1.0</td>\n",
              "      <td>4.0</td>\n",
              "      <td>6.0</td>\n",
              "    </tr>\n",
              "    <tr>\n",
              "      <th>1</th>\n",
              "      <td>2.0</td>\n",
              "      <td>3.0</td>\n",
              "      <td>8.0</td>\n",
              "    </tr>\n",
              "    <tr>\n",
              "      <th>2</th>\n",
              "      <td>3.0</td>\n",
              "      <td>2.0</td>\n",
              "      <td>8.0</td>\n",
              "    </tr>\n",
              "    <tr>\n",
              "      <th>3</th>\n",
              "      <td>4.0</td>\n",
              "      <td>1.0</td>\n",
              "      <td>9.0</td>\n",
              "    </tr>\n",
              "  </tbody>\n",
              "</table>\n",
              "</div>"
            ],
            "text/plain": [
              "   one  two  three\n",
              "0  1.0  4.0    6.0\n",
              "1  2.0  3.0    8.0\n",
              "2  3.0  2.0    8.0\n",
              "3  4.0  1.0    9.0"
            ]
          },
          "metadata": {
            "tags": []
          },
          "execution_count": 45
        }
      ]
    },
    {
      "cell_type": "code",
      "metadata": {
        "ExecuteTime": {
          "end_time": "2021-07-31T08:24:23.240859Z",
          "start_time": "2021-07-31T08:24:23.218918Z"
        },
        "id": "qeKd1-8l5fcB",
        "colab": {
          "base_uri": "https://localhost:8080/",
          "height": 173
        },
        "outputId": "8b3929eb-abe4-4fb9-f997-0115ce56ece6"
      },
      "source": [
        "pd.DataFrame(d, index=['a', 'b', 'c', 'd'])"
      ],
      "execution_count": null,
      "outputs": [
        {
          "output_type": "execute_result",
          "data": {
            "text/html": [
              "<div>\n",
              "<style scoped>\n",
              "    .dataframe tbody tr th:only-of-type {\n",
              "        vertical-align: middle;\n",
              "    }\n",
              "\n",
              "    .dataframe tbody tr th {\n",
              "        vertical-align: top;\n",
              "    }\n",
              "\n",
              "    .dataframe thead th {\n",
              "        text-align: right;\n",
              "    }\n",
              "</style>\n",
              "<table border=\"1\" class=\"dataframe\">\n",
              "  <thead>\n",
              "    <tr style=\"text-align: right;\">\n",
              "      <th></th>\n",
              "      <th>one</th>\n",
              "      <th>two</th>\n",
              "      <th>three</th>\n",
              "    </tr>\n",
              "  </thead>\n",
              "  <tbody>\n",
              "    <tr>\n",
              "      <th>a</th>\n",
              "      <td>1.0</td>\n",
              "      <td>4.0</td>\n",
              "      <td>6.0</td>\n",
              "    </tr>\n",
              "    <tr>\n",
              "      <th>b</th>\n",
              "      <td>2.0</td>\n",
              "      <td>3.0</td>\n",
              "      <td>8.0</td>\n",
              "    </tr>\n",
              "    <tr>\n",
              "      <th>c</th>\n",
              "      <td>3.0</td>\n",
              "      <td>2.0</td>\n",
              "      <td>8.0</td>\n",
              "    </tr>\n",
              "    <tr>\n",
              "      <th>d</th>\n",
              "      <td>4.0</td>\n",
              "      <td>1.0</td>\n",
              "      <td>9.0</td>\n",
              "    </tr>\n",
              "  </tbody>\n",
              "</table>\n",
              "</div>"
            ],
            "text/plain": [
              "   one  two  three\n",
              "a  1.0  4.0    6.0\n",
              "b  2.0  3.0    8.0\n",
              "c  3.0  2.0    8.0\n",
              "d  4.0  1.0    9.0"
            ]
          },
          "metadata": {
            "tags": []
          },
          "execution_count": 46
        }
      ]
    },
    {
      "cell_type": "code",
      "metadata": {
        "colab": {
          "base_uri": "https://localhost:8080/",
          "height": 173
        },
        "id": "a9fAC2W_gfUd",
        "outputId": "e9da5e46-5633-447d-8529-b47d0ffac68c"
      },
      "source": [
        "pd.DataFrame(d, columns=['one','two'])"
      ],
      "execution_count": null,
      "outputs": [
        {
          "output_type": "execute_result",
          "data": {
            "text/html": [
              "<div>\n",
              "<style scoped>\n",
              "    .dataframe tbody tr th:only-of-type {\n",
              "        vertical-align: middle;\n",
              "    }\n",
              "\n",
              "    .dataframe tbody tr th {\n",
              "        vertical-align: top;\n",
              "    }\n",
              "\n",
              "    .dataframe thead th {\n",
              "        text-align: right;\n",
              "    }\n",
              "</style>\n",
              "<table border=\"1\" class=\"dataframe\">\n",
              "  <thead>\n",
              "    <tr style=\"text-align: right;\">\n",
              "      <th></th>\n",
              "      <th>one</th>\n",
              "      <th>two</th>\n",
              "    </tr>\n",
              "  </thead>\n",
              "  <tbody>\n",
              "    <tr>\n",
              "      <th>0</th>\n",
              "      <td>1.0</td>\n",
              "      <td>4.0</td>\n",
              "    </tr>\n",
              "    <tr>\n",
              "      <th>1</th>\n",
              "      <td>2.0</td>\n",
              "      <td>3.0</td>\n",
              "    </tr>\n",
              "    <tr>\n",
              "      <th>2</th>\n",
              "      <td>3.0</td>\n",
              "      <td>2.0</td>\n",
              "    </tr>\n",
              "    <tr>\n",
              "      <th>3</th>\n",
              "      <td>4.0</td>\n",
              "      <td>1.0</td>\n",
              "    </tr>\n",
              "  </tbody>\n",
              "</table>\n",
              "</div>"
            ],
            "text/plain": [
              "   one  two\n",
              "0  1.0  4.0\n",
              "1  2.0  3.0\n",
              "2  3.0  2.0\n",
              "3  4.0  1.0"
            ]
          },
          "metadata": {
            "tags": []
          },
          "execution_count": 49
        }
      ]
    },
    {
      "cell_type": "markdown",
      "metadata": {
        "id": "kygWXELG5fcB"
      },
      "source": [
        "## Indexing and Selecting Data"
      ]
    },
    {
      "cell_type": "markdown",
      "metadata": {
        "id": "O3BVcve55fcB"
      },
      "source": [
        "The Python and NumPy indexing operator \"[]\" and attribute operator \".\" provide quick and easy access to Pandas data structures across a wide range of use cases. However, since the type of the data to be accessed isn’t known in advance, directly using standard operators has some optimization limits. For production code, we recommend that you take advantage of the optimized pandas data access methods explained in this chapter.\n",
        "\n",
        "Pandas now supports three types of Multi-axes indexing; the three types are mentioned in the following table −"
      ]
    },
    {
      "cell_type": "markdown",
      "metadata": {
        "id": "rBI7IL6K5fcB"
      },
      "source": [
        "![](../all_images/pandas_index.PNG)"
      ]
    },
    {
      "cell_type": "markdown",
      "metadata": {
        "id": "u5YN9p3p5fcB"
      },
      "source": [
        "## Indexing with .loc()"
      ]
    },
    {
      "cell_type": "markdown",
      "metadata": {
        "id": "TPKqex3a5fcB"
      },
      "source": [
        ".loc()\n",
        "Pandas provide various methods to have purely label based indexing. When slicing, the start bound is also included. Integers are valid labels, but they refer to the label and not the position.\n",
        "\n",
        ".loc() has multiple access methods like −\n",
        "\n",
        "- A single scalar label\n",
        "- A list of labels\n",
        "- A slice object\n",
        "- A Boolean array\n",
        "\n",
        "loc takes two single/list/range operator separated by ','. The first one indicates the row and the second one indicates columns."
      ]
    },
    {
      "cell_type": "markdown",
      "metadata": {
        "id": "GTBNWVyt5fcB"
      },
      "source": [
        "### Example 1\n"
      ]
    },
    {
      "cell_type": "code",
      "metadata": {
        "id": "PnkcXcIf5fcB",
        "colab": {
          "base_uri": "https://localhost:8080/"
        },
        "outputId": "0cd744e8-9a27-4827-b502-2ff8822fa4ff"
      },
      "source": [
        "df = pd.DataFrame(np.random.randn(8, 4), index = ['p','q','r','s','t','u','v','w'], columns = ['A', 'B', 'C', 'D'])\n",
        "\n",
        "#select all rows for a specific column\n",
        "print (df.loc[:,['A','B']])"
      ],
      "execution_count": null,
      "outputs": [
        {
          "output_type": "stream",
          "text": [
            "          A         B\n",
            "p  0.398420  0.711926\n",
            "q  1.077872 -0.534324\n",
            "r -1.002289 -1.562597\n",
            "s  1.598471  1.056596\n",
            "t  0.273088  0.745970\n",
            "u  0.548374  1.133914\n",
            "v -0.028706  0.542413\n",
            "w  1.938033 -0.155026\n"
          ],
          "name": "stdout"
        }
      ]
    },
    {
      "cell_type": "markdown",
      "metadata": {
        "id": "c3pXkWwP5fcB"
      },
      "source": [
        "### Example 2"
      ]
    },
    {
      "cell_type": "code",
      "metadata": {
        "id": "nBv47Llg5fcC",
        "colab": {
          "base_uri": "https://localhost:8080/"
        },
        "outputId": "43c7d47b-1424-4b01-b714-f80d403e10d9"
      },
      "source": [
        "df = pd.DataFrame(np.random.randn(8, 4), index = ['p','q','r','s','t','u','v','w'], columns = ['A', 'B', 'C', 'D'])\n",
        "\n",
        "# Select all rows for multiple columns, say list[]\n",
        "print (df.loc[:,['A','C']])"
      ],
      "execution_count": null,
      "outputs": [
        {
          "output_type": "stream",
          "text": [
            "          A         C\n",
            "p  1.434930 -0.334578\n",
            "q  1.078887  0.433718\n",
            "r  1.542215  0.231899\n",
            "s  0.430660  0.335655\n",
            "t  0.709492  0.670342\n",
            "u -1.429457  0.083551\n",
            "v -0.756878  0.056669\n",
            "w -0.085846  0.825350\n"
          ],
          "name": "stdout"
        }
      ]
    },
    {
      "cell_type": "markdown",
      "metadata": {
        "id": "-Z69MoKy5fcC"
      },
      "source": [
        "### Example 3"
      ]
    },
    {
      "cell_type": "code",
      "metadata": {
        "id": "XbdmvCd35fcC",
        "colab": {
          "base_uri": "https://localhost:8080/"
        },
        "outputId": "5c4e05bd-d5d1-4c6f-b399-3c58ccfdd267"
      },
      "source": [
        "df = pd.DataFrame(np.random.randn(8, 4),\n",
        "index = ['a','b','c','d','e','f','g','h'], columns = ['A', 'B', 'C', 'D'])\n",
        "\n",
        "# Select few rows for multiple columns\n",
        "print (df.loc[['a','b','f','h','c'],['A','C']])"
      ],
      "execution_count": null,
      "outputs": [
        {
          "output_type": "stream",
          "text": [
            "          A         C\n",
            "a -1.758092  0.898988\n",
            "b  0.508384 -0.520305\n",
            "f -0.508791  1.993296\n",
            "h -0.317209 -1.768228\n",
            "c  0.011300 -0.912864\n"
          ],
          "name": "stdout"
        }
      ]
    },
    {
      "cell_type": "markdown",
      "metadata": {
        "id": "p4ArHAYo5fcC"
      },
      "source": [
        "### Example 4"
      ]
    },
    {
      "cell_type": "code",
      "metadata": {
        "id": "nS230hvq5fcC",
        "colab": {
          "base_uri": "https://localhost:8080/"
        },
        "outputId": "8dfaf956-2a7c-45aa-aee9-e59ee5a9bad5"
      },
      "source": [
        "df = pd.DataFrame(np.random.randn(8, 4),\n",
        "index = ['p','q','r','s','t','u','v','w'], columns = ['A', 'B', 'C', 'D'])\n",
        "\n",
        "# Select range of rows for all columns\n",
        "print (df.loc[:'p',['A']])"
      ],
      "execution_count": null,
      "outputs": [
        {
          "output_type": "stream",
          "text": [
            "          A\n",
            "p -0.618017\n"
          ],
          "name": "stdout"
        }
      ]
    },
    {
      "cell_type": "markdown",
      "metadata": {
        "id": "EXIH9jkI5fcC"
      },
      "source": [
        "### Example 5: Conditional Access"
      ]
    },
    {
      "cell_type": "code",
      "metadata": {
        "id": "DUp9XC2j5fcC",
        "colab": {
          "base_uri": "https://localhost:8080/"
        },
        "outputId": "56b16148-ff37-483e-a561-743720ffbb66"
      },
      "source": [
        "df = pd.DataFrame(np.random.randn(8, 4),\n",
        "index = ['p','q','r','s','t','u','v','w'], columns = ['A', 'B', 'C', 'D'])\n",
        "\n",
        "# for getting values with a boolean array\n",
        "print (df.loc['p']>0)"
      ],
      "execution_count": null,
      "outputs": [
        {
          "output_type": "stream",
          "text": [
            "A    False\n",
            "B     True\n",
            "C     True\n",
            "D    False\n",
            "Name: p, dtype: bool\n"
          ],
          "name": "stdout"
        }
      ]
    },
    {
      "cell_type": "markdown",
      "metadata": {
        "id": "XiAWqkPm5fcC"
      },
      "source": [
        "## Indexing with .iloc()\n",
        "\n",
        "Pandas provide various methods in order to get purely integer based indexing. Like python and numpy, these are 0-based indexing.\n",
        "\n",
        "The various access methods are as follows −\n",
        "\n",
        "- An Integer\n",
        "- A list of integers\n",
        "- A range of values"
      ]
    },
    {
      "cell_type": "markdown",
      "metadata": {
        "id": "HhNxbWBp5fcC"
      },
      "source": [
        "### Example 1"
      ]
    },
    {
      "cell_type": "code",
      "metadata": {
        "id": "Gn0nlhIp5fcC",
        "colab": {
          "base_uri": "https://localhost:8080/"
        },
        "outputId": "a1045a52-abbf-4dff-f67c-cf9a29be3fbe"
      },
      "source": [
        "df = pd.DataFrame(np.random.randn(8, 4), columns = ['a', 'b', 'c', 'd'])\n",
        "\n",
        "# select all rows for a specific column\n",
        "print (df.iloc[:5])"
      ],
      "execution_count": null,
      "outputs": [
        {
          "output_type": "stream",
          "text": [
            "          a         b         c         d\n",
            "0  0.725704  0.713317  0.371636  0.231735\n",
            "1 -0.817570 -1.084684 -0.680529  0.390748\n",
            "2  1.258741 -0.048734  0.191638  2.007468\n",
            "3  0.858931 -1.707586 -0.758776 -0.223419\n",
            "4  0.407815 -0.580032  1.199409  1.722013\n"
          ],
          "name": "stdout"
        }
      ]
    },
    {
      "cell_type": "markdown",
      "metadata": {
        "id": "7REX5ftF5fcD"
      },
      "source": [
        "### Example 2"
      ]
    },
    {
      "cell_type": "code",
      "metadata": {
        "id": "sWQ40DgU5fcD",
        "colab": {
          "base_uri": "https://localhost:8080/"
        },
        "outputId": "30a4cec4-3497-464c-9abe-4e946ddfaf4b"
      },
      "source": [
        "df = pd.DataFrame(np.random.randn(8, 4), columns = ['a', 'b', 'c', 'd'])\n",
        "\n",
        "# Integer slicing\n",
        "print (df.iloc[:4])\n",
        "print (df.iloc[1:5, 2:4])"
      ],
      "execution_count": null,
      "outputs": [
        {
          "output_type": "stream",
          "text": [
            "          a         b         c         d\n",
            "0 -2.163014  0.738825  1.022891  1.051634\n",
            "1 -1.676197 -0.133618 -1.242150  1.883163\n",
            "2 -0.216755 -1.563479 -1.589782  1.047341\n",
            "3  1.161928 -1.006856  1.631386  1.680996\n",
            "          c         d\n",
            "1 -1.242150  1.883163\n",
            "2 -1.589782  1.047341\n",
            "3  1.631386  1.680996\n",
            "4 -1.271577  1.579576\n"
          ],
          "name": "stdout"
        }
      ]
    },
    {
      "cell_type": "code",
      "metadata": {
        "colab": {
          "base_uri": "https://localhost:8080/"
        },
        "id": "-rUimO58pYiV",
        "outputId": "1ba5b418-362a-4a9f-a986-7786ed619da2"
      },
      "source": [
        "print (df.iloc[1:5])"
      ],
      "execution_count": null,
      "outputs": [
        {
          "output_type": "stream",
          "text": [
            "          a         b         c         d\n",
            "1 -1.676197 -0.133618 -1.242150  1.883163\n",
            "2 -0.216755 -1.563479 -1.589782  1.047341\n",
            "3  1.161928 -1.006856  1.631386  1.680996\n",
            "4 -1.992811 -0.363524 -1.271577  1.579576\n"
          ],
          "name": "stdout"
        }
      ]
    },
    {
      "cell_type": "code",
      "metadata": {
        "colab": {
          "base_uri": "https://localhost:8080/"
        },
        "id": "1ZloDhRMpYfO",
        "outputId": "0bcbcbc1-1d46-4d4e-be32-5b3f31e5e32e"
      },
      "source": [
        "print (df.iloc[:,1:3])"
      ],
      "execution_count": null,
      "outputs": [
        {
          "output_type": "stream",
          "text": [
            "          b         c\n",
            "0  0.738825  1.022891\n",
            "1 -0.133618 -1.242150\n",
            "2 -1.563479 -1.589782\n",
            "3 -1.006856  1.631386\n",
            "4 -0.363524 -1.271577\n",
            "5 -0.442509 -0.310681\n",
            "6 -0.090376  0.022645\n",
            "7  0.948892 -0.084910\n"
          ],
          "name": "stdout"
        }
      ]
    },
    {
      "cell_type": "code",
      "metadata": {
        "id": "G-QKC_kOpYcW"
      },
      "source": [],
      "execution_count": null,
      "outputs": []
    },
    {
      "cell_type": "code",
      "metadata": {
        "id": "bLgm8ipQpYZ3"
      },
      "source": [],
      "execution_count": null,
      "outputs": []
    },
    {
      "cell_type": "markdown",
      "metadata": {
        "id": "uXG5MjX35fcD"
      },
      "source": [
        "### Example 3"
      ]
    },
    {
      "cell_type": "code",
      "metadata": {
        "id": "w4M_s9z85fcD"
      },
      "source": [
        "df = pd.DataFrame(np.random.randn(8, 4), columns = ['a', 'b', 'c', 'd'])\n",
        "# Slicing through list of values\n",
        "print (df.iloc[[1, 3, 5], [1, 3]])\n",
        "print (df.iloc[1:3, :])\n",
        "print (df.iloc[:,1:3])"
      ],
      "execution_count": null,
      "outputs": []
    },
    {
      "cell_type": "code",
      "metadata": {
        "id": "5hPjdA6C5fcD"
      },
      "source": [],
      "execution_count": null,
      "outputs": []
    },
    {
      "cell_type": "markdown",
      "metadata": {
        "id": "8qrg_USl5fcD"
      },
      "source": [
        "## Use of Notations\n",
        "\n",
        "Getting values from the Pandas object with Multi-axes indexing uses the following notation −"
      ]
    },
    {
      "cell_type": "markdown",
      "metadata": {
        "id": "3eOp-HxF5fcD"
      },
      "source": [
        "![](../all_images/pandas_noti.PNG)"
      ]
    },
    {
      "cell_type": "markdown",
      "metadata": {
        "id": "NrIAxZqL5fcD"
      },
      "source": [
        "### Indexing with []"
      ]
    },
    {
      "cell_type": "markdown",
      "metadata": {
        "id": "7mpWeFf35fcD"
      },
      "source": [
        "Let us now see how each operation can be performed on the DataFrame object. We will use the basic indexing operator '[ ]'"
      ]
    },
    {
      "cell_type": "markdown",
      "metadata": {
        "id": "kxaBMUo_5fcD"
      },
      "source": [
        "### Example 1"
      ]
    },
    {
      "cell_type": "code",
      "metadata": {
        "id": "j3aNQOoB5fcD",
        "outputId": "73e99430-9cd8-4c04-ee12-4eadfd255911",
        "colab": {
          "base_uri": "https://localhost:8080/",
          "height": 181
        }
      },
      "source": [
        "df = pd.DataFrame(np.random.randn(8, 4), columns = ['c_0', 'c_1', 'c_2', 'c_3'])\n",
        "print (df['c_2'])"
      ],
      "execution_count": null,
      "outputs": [
        {
          "output_type": "error",
          "ename": "NameError",
          "evalue": "ignored",
          "traceback": [
            "\u001b[0;31m---------------------------------------------------------------------------\u001b[0m",
            "\u001b[0;31mNameError\u001b[0m                                 Traceback (most recent call last)",
            "\u001b[0;32m<ipython-input-1-695370dd3a29>\u001b[0m in \u001b[0;36m<module>\u001b[0;34m()\u001b[0m\n\u001b[0;32m----> 1\u001b[0;31m \u001b[0mdf\u001b[0m \u001b[0;34m=\u001b[0m \u001b[0mpd\u001b[0m\u001b[0;34m.\u001b[0m\u001b[0mDataFrame\u001b[0m\u001b[0;34m(\u001b[0m\u001b[0mnp\u001b[0m\u001b[0;34m.\u001b[0m\u001b[0mrandom\u001b[0m\u001b[0;34m.\u001b[0m\u001b[0mrandn\u001b[0m\u001b[0;34m(\u001b[0m\u001b[0;36m8\u001b[0m\u001b[0;34m,\u001b[0m \u001b[0;36m4\u001b[0m\u001b[0;34m)\u001b[0m\u001b[0;34m,\u001b[0m \u001b[0mcolumns\u001b[0m \u001b[0;34m=\u001b[0m \u001b[0;34m[\u001b[0m\u001b[0;34m'c_0'\u001b[0m\u001b[0;34m,\u001b[0m \u001b[0;34m'c_1'\u001b[0m\u001b[0;34m,\u001b[0m \u001b[0;34m'c_2'\u001b[0m\u001b[0;34m,\u001b[0m \u001b[0;34m'c_3'\u001b[0m\u001b[0;34m]\u001b[0m\u001b[0;34m)\u001b[0m\u001b[0;34m\u001b[0m\u001b[0;34m\u001b[0m\u001b[0m\n\u001b[0m\u001b[1;32m      2\u001b[0m \u001b[0mprint\u001b[0m \u001b[0;34m(\u001b[0m\u001b[0mdf\u001b[0m\u001b[0;34m[\u001b[0m\u001b[0;34m'c_2'\u001b[0m\u001b[0;34m]\u001b[0m\u001b[0;34m)\u001b[0m\u001b[0;34m\u001b[0m\u001b[0;34m\u001b[0m\u001b[0m\n",
            "\u001b[0;31mNameError\u001b[0m: name 'pd' is not defined"
          ]
        }
      ]
    },
    {
      "cell_type": "markdown",
      "metadata": {
        "id": "ihvP6uyn5fcD"
      },
      "source": [
        "Note − We can pass a list of values to [ ] to select those columns."
      ]
    },
    {
      "cell_type": "markdown",
      "metadata": {
        "id": "iewBUu_w5fcD"
      },
      "source": [
        "### Example 2"
      ]
    },
    {
      "cell_type": "code",
      "metadata": {
        "id": "L3cAHKPp5fcE"
      },
      "source": [
        "df = pd.DataFrame(np.random.randn(8, 4), columns = ['c_0', 'c_1', 'c_2', 'c_3'])\n",
        "\n",
        "print (df[['c_1','c_2']])"
      ],
      "execution_count": null,
      "outputs": []
    },
    {
      "cell_type": "markdown",
      "metadata": {
        "id": "Pu9U6W475fcE"
      },
      "source": [
        "### Example 3"
      ]
    },
    {
      "cell_type": "code",
      "metadata": {
        "id": "upXi-Ehx5fcE"
      },
      "source": [
        "df = pd.DataFrame(np.random.randn(8, 4), columns = ['c_0', 'c_1', 'c_2', 'c_3'])\n",
        "print(df[0:2])"
      ],
      "execution_count": null,
      "outputs": []
    },
    {
      "cell_type": "markdown",
      "metadata": {
        "id": "SIV2KQ_M5fcE"
      },
      "source": [
        "### Attribute Access\n",
        "Columns can be selected using the attribute operator '.'."
      ]
    },
    {
      "cell_type": "markdown",
      "metadata": {
        "id": "MTTHZPR85fcE"
      },
      "source": [
        "### Example"
      ]
    },
    {
      "cell_type": "code",
      "metadata": {
        "id": "_sBLpowh5fcE"
      },
      "source": [
        "df = pd.DataFrame(np.random.randn(9, 5), columns = ['v_0', 'v_1', 'v_2', 'v_3','v_4'])\n",
        "print (df.v_1)"
      ],
      "execution_count": null,
      "outputs": []
    },
    {
      "cell_type": "code",
      "metadata": {
        "id": "tAlgEg645fcE"
      },
      "source": [],
      "execution_count": null,
      "outputs": []
    },
    {
      "cell_type": "markdown",
      "metadata": {
        "id": "LK00ZinT5fcF"
      },
      "source": [
        "## Pandas - Missing Data"
      ]
    },
    {
      "cell_type": "markdown",
      "metadata": {
        "id": "RpcZpVce5fcF"
      },
      "source": [
        "Missing data is always a problem in real life scenarios. Areas like machine learning and data mining face severe issues in the accuracy of their model predictions because of poor quality of data caused by missing values. In these areas, missing value treatment is a major point of focus to make their models more accurate and valid."
      ]
    },
    {
      "cell_type": "markdown",
      "metadata": {
        "id": "SaX9I3O75fcF"
      },
      "source": [
        "### When and Why Is Data Missed?"
      ]
    },
    {
      "cell_type": "markdown",
      "metadata": {
        "id": "JPP9vTgd5fcF"
      },
      "source": [
        "Let us consider an online survey for a product. Many a times, people do not share all the information related to them. Few people share their experience, but not how long they are using the product; few people share how long they are using the product, their experience but not their contact information. Thus, in some or the other way a part of data is always missing, and this is very common in real time.\n",
        "\n",
        "Let us now see how we can handle missing values (say NA or NaN) using Pandas."
      ]
    },
    {
      "cell_type": "code",
      "metadata": {
        "id": "kyqSy9wH5fcF"
      },
      "source": [
        "# import the pandas library\n",
        "import pandas as pd\n",
        "import numpy as np\n",
        "\n",
        "df = pd.DataFrame(np.random.randn(8, 3), index=['a', 'c', 'e', 'f', 'h','b','d','g'],columns=['one', 'two', 'three'])\n",
        "\n",
        "df = df.reindex(['a', 'b', 'c', 'd', 'e', 'f', 'g', 'h'])\n",
        "\n",
        "print (df)"
      ],
      "execution_count": null,
      "outputs": []
    },
    {
      "cell_type": "markdown",
      "metadata": {
        "id": "vpfVvZUy5fcF"
      },
      "source": [
        "Using reindexing, we have created a DataFrame with missing values. In the output, NaN means Not a Number."
      ]
    },
    {
      "cell_type": "markdown",
      "metadata": {
        "id": "EgYoZym05fcF"
      },
      "source": [
        "### Checking for Missing Values\n",
        "\n",
        "Pandas provides the following functions:\n",
        "\n",
        "- isnull()\n",
        "- notnull()\n",
        "\n",
        "which are also methods on Series and DataFrame objects −\n",
        "\n",
        "### Example 1"
      ]
    },
    {
      "cell_type": "code",
      "metadata": {
        "id": "DzIfqS2h5fcF",
        "colab": {
          "base_uri": "https://localhost:8080/"
        },
        "outputId": "51fd9b22-cb86-489c-b6e9-7743d4e1f62d"
      },
      "source": [
        "import pandas as pd\n",
        "import numpy as np\n",
        "\n",
        "df = pd.DataFrame(np.random.randn(8, 3), index=['a', 'c', 'e', 'f', 'h','b','d','g'],columns=['one', 'two', 'three'])\n",
        "df = df.reindex(['a', 'b', 'c', 'd', 'e', 'f', 'g', 'h'])\n",
        "\n",
        "print (df['one'].isnull())"
      ],
      "execution_count": null,
      "outputs": [
        {
          "output_type": "stream",
          "text": [
            "a    False\n",
            "b    False\n",
            "c    False\n",
            "d    False\n",
            "e    False\n",
            "f    False\n",
            "g    False\n",
            "h    False\n",
            "Name: one, dtype: bool\n"
          ],
          "name": "stdout"
        }
      ]
    },
    {
      "cell_type": "markdown",
      "metadata": {
        "id": "z_gMixnh5fcF"
      },
      "source": [
        "### Example 2"
      ]
    },
    {
      "cell_type": "code",
      "metadata": {
        "id": "-SHi8iwo5fcF",
        "colab": {
          "base_uri": "https://localhost:8080/"
        },
        "outputId": "dc428e94-c003-4e55-befd-00357540ee41"
      },
      "source": [
        "df = pd.DataFrame(np.random.randn(5, 3), index=['a', 'c', 'e', 'f',\n",
        "'h'],columns=['one', 'two', 'three'])\n",
        "\n",
        "df = df.reindex(['a', 'b', 'c', 'd', 'e', 'f', 'g', 'h'])    # reindexing introduces missing values\n",
        "\n",
        "print(df)\n",
        "print (df['one'].notnull())"
      ],
      "execution_count": null,
      "outputs": [
        {
          "output_type": "stream",
          "text": [
            "        one       two     three\n",
            "a -0.431609  2.015424 -0.392797\n",
            "b       NaN       NaN       NaN\n",
            "c  0.174413 -0.051818 -0.728680\n",
            "d       NaN       NaN       NaN\n",
            "e -0.808368 -0.870889  0.633081\n",
            "f  0.532451 -1.647495 -0.826276\n",
            "g       NaN       NaN       NaN\n",
            "h  1.111245 -0.356226  1.215791\n",
            "a     True\n",
            "b    False\n",
            "c     True\n",
            "d    False\n",
            "e     True\n",
            "f     True\n",
            "g    False\n",
            "h     True\n",
            "Name: one, dtype: bool\n"
          ],
          "name": "stdout"
        }
      ]
    },
    {
      "cell_type": "code",
      "metadata": {
        "colab": {
          "base_uri": "https://localhost:8080/"
        },
        "id": "_m0-Q3NCyP-O",
        "outputId": "3a5807f2-56b2-4dc0-b09c-1994fef1fe4e"
      },
      "source": [
        "df.sum()"
      ],
      "execution_count": null,
      "outputs": [
        {
          "output_type": "execute_result",
          "data": {
            "text/plain": [
              "one      0.578131\n",
              "two     -0.911004\n",
              "three   -0.098881\n",
              "dtype: float64"
            ]
          },
          "metadata": {
            "tags": []
          },
          "execution_count": 102
        }
      ]
    },
    {
      "cell_type": "code",
      "metadata": {
        "colab": {
          "base_uri": "https://localhost:8080/"
        },
        "id": "2UGtS95WySOj",
        "outputId": "f180ceb8-1ee8-4237-aa10-1e24c28683b9"
      },
      "source": [
        "df['one'].value_counts()"
      ],
      "execution_count": null,
      "outputs": [
        {
          "output_type": "execute_result",
          "data": {
            "text/plain": [
              " 0.532451    1\n",
              "-0.808368    1\n",
              "-0.431609    1\n",
              " 1.111245    1\n",
              " 0.174413    1\n",
              "Name: one, dtype: int64"
            ]
          },
          "metadata": {
            "tags": []
          },
          "execution_count": 104
        }
      ]
    },
    {
      "cell_type": "code",
      "metadata": {
        "colab": {
          "base_uri": "https://localhost:8080/"
        },
        "id": "AYQHNoiYyhVx",
        "outputId": "22227d96-bb3c-4ebc-8db7-f5870d4ad14f"
      },
      "source": [
        "df.kurtosis()"
      ],
      "execution_count": null,
      "outputs": [
        {
          "output_type": "execute_result",
          "data": {
            "text/plain": [
              "one     -1.204805\n",
              "two      2.017468\n",
              "three   -1.908317\n",
              "dtype: float64"
            ]
          },
          "metadata": {
            "tags": []
          },
          "execution_count": 107
        }
      ]
    },
    {
      "cell_type": "markdown",
      "metadata": {
        "id": "s6bD0sV25fcF"
      },
      "source": [
        "### Calculations with Missing Data\n",
        "\n",
        "- When summing data, NA will be treated as Zero\n",
        "- If the data are all NA, then the result will be NA"
      ]
    },
    {
      "cell_type": "markdown",
      "metadata": {
        "id": "c7eenWlC5fcG"
      },
      "source": [
        "### Example 1"
      ]
    },
    {
      "cell_type": "code",
      "metadata": {
        "id": "9oKNAjxp5fcG",
        "colab": {
          "base_uri": "https://localhost:8080/"
        },
        "outputId": "ae51925c-3d5c-4ce7-c5ed-daccddddce0e"
      },
      "source": [
        "df = pd.DataFrame(np.random.randn(5, 3), index=['a', 'c', 'e', 'f', 'h'], columns=['one', 'two', 'three'])\n",
        "\n",
        "df = df.reindex(['a', 'b', 'c', 'd', 'e', 'f', 'g', 'h'])\n",
        "\n",
        "print(df[['one','two']])\n",
        "print(df[['one','two']].sum())\n",
        "print(df['one'].count())   # Number of non-missing values"
      ],
      "execution_count": null,
      "outputs": [
        {
          "output_type": "stream",
          "text": [
            "        one       two\n",
            "a  0.973959 -0.308990\n",
            "b       NaN       NaN\n",
            "c -1.098104  1.051052\n",
            "d       NaN       NaN\n",
            "e  0.702328 -1.073407\n",
            "f -1.268975 -2.065424\n",
            "g       NaN       NaN\n",
            "h -0.093894  0.629744\n",
            "one   -0.784687\n",
            "two   -1.767025\n",
            "dtype: float64\n",
            "5\n"
          ],
          "name": "stdout"
        }
      ]
    },
    {
      "cell_type": "markdown",
      "metadata": {
        "id": "W9RsqJBm5fcG"
      },
      "source": [
        "### Example 2"
      ]
    },
    {
      "cell_type": "code",
      "metadata": {
        "id": "pG3vQr_r5fcG",
        "colab": {
          "base_uri": "https://localhost:8080/"
        },
        "outputId": "0d093cc6-2d51-47de-e8fd-b213b8ac90ec"
      },
      "source": [
        "df = pd.DataFrame(index=[0,1,2,3,4,5],columns=['one','two'])\n",
        "print (df['one'].sum())"
      ],
      "execution_count": null,
      "outputs": [
        {
          "output_type": "stream",
          "text": [
            "0\n"
          ],
          "name": "stdout"
        }
      ]
    },
    {
      "cell_type": "markdown",
      "metadata": {
        "id": "C5iv8_sM5fcG"
      },
      "source": [
        "## Cleaning / Filling Missing Data\n",
        "\n",
        "Pandas provides various methods for cleaning the missing values. The fillna function can “fill in” NA values with non-null data in a couple of ways, which we have illustrated in the following sections.\n",
        "\n",
        "## Replace NaN with a Scalar Value\n",
        "\n",
        "The following program shows how you can replace \"NaN\" with \"0\"."
      ]
    },
    {
      "cell_type": "code",
      "metadata": {
        "ExecuteTime": {
          "end_time": "2021-07-31T08:51:40.631235Z",
          "start_time": "2021-07-31T08:51:40.608267Z"
        },
        "id": "Tp0GrGmJ5fcG",
        "colab": {
          "base_uri": "https://localhost:8080/"
        },
        "outputId": "fd0fb9a9-8cd9-496b-d2ee-38d6729ca386"
      },
      "source": [
        "import pandas as pd\n",
        "import numpy as np\n",
        "\n",
        "df = pd.DataFrame(np.random.randn(3, 3), index=['a', 'c', 'e'],columns=['one','two', 'three'])\n",
        "\n",
        "df = df.reindex(['a', 'b', 'c'])\n",
        "\n",
        "print (df)\n",
        "print()\n",
        "print ((\"NaN replaced with '0':\"))\n",
        "print (df.fillna(0))"
      ],
      "execution_count": null,
      "outputs": [
        {
          "output_type": "stream",
          "text": [
            "        one       two     three\n",
            "a  0.572735  1.132871 -2.220538\n",
            "b       NaN       NaN       NaN\n",
            "c  0.247240 -0.450648  0.079623\n",
            "\n",
            "NaN replaced with '0':\n",
            "        one       two     three\n",
            "a  0.572735  1.132871 -2.220538\n",
            "b  0.000000  0.000000  0.000000\n",
            "c  0.247240 -0.450648  0.079623\n"
          ],
          "name": "stdout"
        }
      ]
    },
    {
      "cell_type": "markdown",
      "metadata": {
        "id": "TPgEUjjA5fcG"
      },
      "source": [
        "Here, we are filling with value zero; instead we can also fill with any other value."
      ]
    },
    {
      "cell_type": "markdown",
      "metadata": {
        "id": "o6v-kWis5fcG"
      },
      "source": [
        "## Fill NA Forward and Backward\n",
        "\n",
        "Using the concepts of filling we will fill the missing values."
      ]
    },
    {
      "cell_type": "markdown",
      "metadata": {
        "id": "unFKa-d45fcG"
      },
      "source": [
        "![](../all_images/pandas_missing.PNG)"
      ]
    },
    {
      "cell_type": "markdown",
      "metadata": {
        "id": "Nt9gYLCG5fcH"
      },
      "source": [
        "### Example 1"
      ]
    },
    {
      "cell_type": "code",
      "metadata": {
        "ExecuteTime": {
          "end_time": "2021-07-31T08:51:03.684305Z",
          "start_time": "2021-07-31T08:51:03.664335Z"
        },
        "id": "pkijXlj95fcH",
        "colab": {
          "base_uri": "https://localhost:8080/"
        },
        "outputId": "f0b43964-de29-4b9e-916d-023ba523d432"
      },
      "source": [
        "import numpy as np\n",
        "import pandas as pd\n",
        "\n",
        "df = pd.DataFrame(np.random.randn(5, 3), index=['a', 'c', 'e', 'f', 'h'],columns=['m-0', 'm-1', 'm-2'])\n",
        "\n",
        "df = df.reindex(['a', 'b', 'c', 'd', 'e', 'f', 'g', 'h'])\n",
        "\n",
        "print(df)\n",
        "print()\n",
        "print (df.fillna(method='pad'))"
      ],
      "execution_count": null,
      "outputs": [
        {
          "output_type": "stream",
          "text": [
            "        m-0       m-1       m-2\n",
            "a -0.929071  1.529504 -0.447521\n",
            "b       NaN       NaN       NaN\n",
            "c  1.950010 -0.670011  1.320880\n",
            "d       NaN       NaN       NaN\n",
            "e  0.841382  0.989278  0.098697\n",
            "f -0.301466 -1.094925 -1.135479\n",
            "g       NaN       NaN       NaN\n",
            "h  1.172717  0.154625 -0.435339\n",
            "\n",
            "        m-0       m-1       m-2\n",
            "a -0.929071  1.529504 -0.447521\n",
            "b -0.929071  1.529504 -0.447521\n",
            "c  1.950010 -0.670011  1.320880\n",
            "d  1.950010 -0.670011  1.320880\n",
            "e  0.841382  0.989278  0.098697\n",
            "f -0.301466 -1.094925 -1.135479\n",
            "g -0.301466 -1.094925 -1.135479\n",
            "h  1.172717  0.154625 -0.435339\n"
          ],
          "name": "stdout"
        }
      ]
    },
    {
      "cell_type": "code",
      "metadata": {
        "colab": {
          "base_uri": "https://localhost:8080/"
        },
        "id": "w5GAQ55v4ayD",
        "outputId": "56e277c2-a785-4f53-ba0a-ad0523d880f3"
      },
      "source": [
        "print (df.fillna(method='pad'))"
      ],
      "execution_count": null,
      "outputs": [
        {
          "output_type": "stream",
          "text": [
            "        m-0       m-1       m-2\n",
            "a -0.929071  1.529504 -0.447521\n",
            "b -0.929071  1.529504 -0.447521\n",
            "c  1.950010 -0.670011  1.320880\n",
            "d  1.950010 -0.670011  1.320880\n",
            "e  0.841382  0.989278  0.098697\n",
            "f -0.301466 -1.094925 -1.135479\n",
            "g -0.301466 -1.094925 -1.135479\n",
            "h  1.172717  0.154625 -0.435339\n"
          ],
          "name": "stdout"
        }
      ]
    },
    {
      "cell_type": "markdown",
      "metadata": {
        "id": "qNmQ4Ay_5fcH"
      },
      "source": [
        "### Example 2"
      ]
    },
    {
      "cell_type": "code",
      "metadata": {
        "ExecuteTime": {
          "end_time": "2021-07-31T08:51:16.774069Z",
          "start_time": "2021-07-31T08:51:16.760131Z"
        },
        "id": "gt5dQyPe5fcH",
        "colab": {
          "base_uri": "https://localhost:8080/"
        },
        "outputId": "5da88f88-5407-4f1e-8449-f0c63757ab3f"
      },
      "source": [
        "df = pd.DataFrame(np.random.randn(5, 3), index=['a', 'c', 'e', 'f', 'h'],columns=['m-0', 'm-1', 'm-2'])\n",
        "\n",
        "df = df.reindex(['a', 'b', 'c', 'd', 'e', 'f', 'g', 'h'])\n",
        "\n",
        "print(df)\n",
        "print()\n",
        "print (df.fillna(method='backfill'))"
      ],
      "execution_count": null,
      "outputs": [
        {
          "output_type": "stream",
          "text": [
            "        m-0       m-1       m-2\n",
            "a  1.356476 -1.099245 -0.570105\n",
            "b       NaN       NaN       NaN\n",
            "c -0.176436  0.745693  0.135245\n",
            "d       NaN       NaN       NaN\n",
            "e -0.667939 -2.151491 -0.549879\n",
            "f -1.018427 -0.491915  0.030991\n",
            "g       NaN       NaN       NaN\n",
            "h  0.056854  0.041621 -0.273440\n",
            "\n",
            "        m-0       m-1       m-2\n",
            "a  1.356476 -1.099245 -0.570105\n",
            "b -0.176436  0.745693  0.135245\n",
            "c -0.176436  0.745693  0.135245\n",
            "d -0.667939 -2.151491 -0.549879\n",
            "e -0.667939 -2.151491 -0.549879\n",
            "f -1.018427 -0.491915  0.030991\n",
            "g  0.056854  0.041621 -0.273440\n",
            "h  0.056854  0.041621 -0.273440\n"
          ],
          "name": "stdout"
        }
      ]
    },
    {
      "cell_type": "markdown",
      "metadata": {
        "id": "gJnO7DQk5fcH"
      },
      "source": [
        "## Drop Missing Values\n",
        "\n",
        "If user want to simply exclude the missing values, then use the dropna function along with the axis argument. By default, axis=0, i.e., along row, which means that if any value within a row is NA then the whole row is excluded."
      ]
    },
    {
      "cell_type": "markdown",
      "metadata": {
        "id": "fRVnUZ315fcH"
      },
      "source": [
        "### Example 1\n"
      ]
    },
    {
      "cell_type": "code",
      "metadata": {
        "id": "a-drxgsE5fcH",
        "colab": {
          "base_uri": "https://localhost:8080/"
        },
        "outputId": "3251521f-29c1-413d-be54-fe05ebda3391"
      },
      "source": [
        "df = pd.DataFrame(np.random.randn(5, 3), index=['a', 'c', 'e', 'f', 'h'],columns=['one', 'two', 'three'])\n",
        "\n",
        "df = df.reindex(['a', 'b', 'c', 'd', 'e', 'f', 'g', 'h'])\n",
        "print (df.dropna())"
      ],
      "execution_count": null,
      "outputs": [
        {
          "output_type": "stream",
          "text": [
            "        one       two     three\n",
            "a -1.362721 -0.426807  0.538944\n",
            "c -0.246444  2.922275  1.022782\n",
            "e -0.183150 -0.030727  1.111933\n",
            "f -0.630718 -1.553115 -0.166965\n",
            "h -0.787478 -1.053094 -0.720156\n"
          ],
          "name": "stdout"
        }
      ]
    },
    {
      "cell_type": "markdown",
      "metadata": {
        "id": "LhJtRI195fcH"
      },
      "source": [
        "### Example 2"
      ]
    },
    {
      "cell_type": "code",
      "metadata": {
        "id": "iK6yshf35fcH",
        "colab": {
          "base_uri": "https://localhost:8080/"
        },
        "outputId": "1eef5fe9-bda2-41a5-dab6-7e008ddb2b6e"
      },
      "source": [
        "df = pd.DataFrame(np.random.randn(5, 3), index=['a', 'c', 'e', 'f', 'h'],columns=['one', 'two', 'three'])\n",
        "\n",
        "df = df.reindex(['a', 'b', 'c', 'd', 'e', 'f', 'g', 'h'])\n",
        "print (df.dropna(axis=1))"
      ],
      "execution_count": null,
      "outputs": [
        {
          "output_type": "stream",
          "text": [
            "Empty DataFrame\n",
            "Columns: []\n",
            "Index: [a, b, c, d, e, f, g, h]\n"
          ],
          "name": "stdout"
        }
      ]
    },
    {
      "cell_type": "markdown",
      "metadata": {
        "id": "Cu3-MwHk5fcH"
      },
      "source": [
        "## Replace Missing (or) Generic Values\n",
        "\n",
        "Many times, we have to replace a generic value with some specific value. We can achieve this by applying the replace method.\n",
        "\n",
        "Replacing NA with a scalar value is equivalent behavior of the fillna() function.\n",
        "\n",
        "### Example 1"
      ]
    },
    {
      "cell_type": "code",
      "metadata": {
        "id": "44_wHkLm5fcH"
      },
      "source": [
        "df = pd.DataFrame({'one':[10.1,20.2,30.3,40,50,2000], 'two':[1000.00,0,30,40,50,60]})\n",
        "print(df)\n",
        "print (df.replace({1000.00:10,2000:60.66}))"
      ],
      "execution_count": null,
      "outputs": []
    },
    {
      "cell_type": "markdown",
      "metadata": {
        "id": "gfbLlONt5fcH"
      },
      "source": [
        "### Example 2"
      ]
    },
    {
      "cell_type": "code",
      "metadata": {
        "id": "lDuOQ5um5fcI",
        "colab": {
          "base_uri": "https://localhost:8080/"
        },
        "outputId": "b1a69651-3d22-40ff-e083-e1495daee5c1"
      },
      "source": [
        "df = pd.DataFrame({'one':[10,20,30,40,50,2000], 'two':[1000,0,30,40,50,60]})\n",
        "print(df)\n",
        "print(df.replace({1000:10,2000:60}))"
      ],
      "execution_count": null,
      "outputs": [
        {
          "output_type": "stream",
          "text": [
            "    one   two\n",
            "0    10  1000\n",
            "1    20     0\n",
            "2    30    30\n",
            "3    40    40\n",
            "4    50    50\n",
            "5  2000    60\n",
            "   one  two\n",
            "0   10   10\n",
            "1   20    0\n",
            "2   30   30\n",
            "3   40   40\n",
            "4   50   50\n",
            "5   60   60\n"
          ],
          "name": "stdout"
        }
      ]
    },
    {
      "cell_type": "code",
      "metadata": {
        "id": "XixEyuef5fcI"
      },
      "source": [],
      "execution_count": null,
      "outputs": []
    },
    {
      "cell_type": "code",
      "metadata": {
        "ExecuteTime": {
          "end_time": "2021-07-31T08:45:29.521783Z",
          "start_time": "2021-07-31T08:45:29.514803Z"
        },
        "id": "yGhvOzbt5fcI"
      },
      "source": [
        "## Practice Example:"
      ],
      "execution_count": null,
      "outputs": []
    },
    {
      "cell_type": "code",
      "metadata": {
        "id": "4tk1inuO5fcI",
        "colab": {
          "base_uri": "https://localhost:8080/",
          "height": 142
        },
        "outputId": "06d8d067-2c1f-4fe8-ec4d-60a4071837b1"
      },
      "source": [
        "data = (['Amit',40],['Nikita',23],['Clara',40])\n",
        "df = pd.DataFrame(data,columns=[\"Name\",\"Age\"])\n",
        "#print(df)\n",
        "\n",
        "df.columns=[\"First_Name\",\"Age\"]\n",
        "\n",
        "df"
      ],
      "execution_count": null,
      "outputs": [
        {
          "output_type": "execute_result",
          "data": {
            "text/html": [
              "<div>\n",
              "<style scoped>\n",
              "    .dataframe tbody tr th:only-of-type {\n",
              "        vertical-align: middle;\n",
              "    }\n",
              "\n",
              "    .dataframe tbody tr th {\n",
              "        vertical-align: top;\n",
              "    }\n",
              "\n",
              "    .dataframe thead th {\n",
              "        text-align: right;\n",
              "    }\n",
              "</style>\n",
              "<table border=\"1\" class=\"dataframe\">\n",
              "  <thead>\n",
              "    <tr style=\"text-align: right;\">\n",
              "      <th></th>\n",
              "      <th>First_Name</th>\n",
              "      <th>Age</th>\n",
              "    </tr>\n",
              "  </thead>\n",
              "  <tbody>\n",
              "    <tr>\n",
              "      <th>0</th>\n",
              "      <td>Amit</td>\n",
              "      <td>40</td>\n",
              "    </tr>\n",
              "    <tr>\n",
              "      <th>1</th>\n",
              "      <td>Nikita</td>\n",
              "      <td>23</td>\n",
              "    </tr>\n",
              "    <tr>\n",
              "      <th>2</th>\n",
              "      <td>Clara</td>\n",
              "      <td>40</td>\n",
              "    </tr>\n",
              "  </tbody>\n",
              "</table>\n",
              "</div>"
            ],
            "text/plain": [
              "  First_Name  Age\n",
              "0       Amit   40\n",
              "1     Nikita   23\n",
              "2      Clara   40"
            ]
          },
          "metadata": {
            "tags": []
          },
          "execution_count": 172
        }
      ]
    },
    {
      "cell_type": "code",
      "metadata": {
        "ExecuteTime": {
          "end_time": "2021-07-31T07:19:29.328687Z",
          "start_time": "2021-07-31T07:19:29.305665Z"
        },
        "id": "6dD4AavQ5fcI",
        "colab": {
          "base_uri": "https://localhost:8080/",
          "height": 142
        },
        "outputId": "6cfa38a2-f4d8-49ce-9b31-fd744d3e01e2"
      },
      "source": [
        "#indexed data frame from dict\n",
        "data = {'Name':['Amit', 'Bunty', 'Clara'],'Age':[10,20,30]}\n",
        "df= pd.DataFrame(data)\n",
        "df\n",
        ""
      ],
      "execution_count": null,
      "outputs": [
        {
          "output_type": "execute_result",
          "data": {
            "text/html": [
              "<div>\n",
              "<style scoped>\n",
              "    .dataframe tbody tr th:only-of-type {\n",
              "        vertical-align: middle;\n",
              "    }\n",
              "\n",
              "    .dataframe tbody tr th {\n",
              "        vertical-align: top;\n",
              "    }\n",
              "\n",
              "    .dataframe thead th {\n",
              "        text-align: right;\n",
              "    }\n",
              "</style>\n",
              "<table border=\"1\" class=\"dataframe\">\n",
              "  <thead>\n",
              "    <tr style=\"text-align: right;\">\n",
              "      <th></th>\n",
              "      <th>Name</th>\n",
              "      <th>Age</th>\n",
              "    </tr>\n",
              "  </thead>\n",
              "  <tbody>\n",
              "    <tr>\n",
              "      <th>0</th>\n",
              "      <td>Amit</td>\n",
              "      <td>10</td>\n",
              "    </tr>\n",
              "    <tr>\n",
              "      <th>1</th>\n",
              "      <td>Bunty</td>\n",
              "      <td>20</td>\n",
              "    </tr>\n",
              "    <tr>\n",
              "      <th>2</th>\n",
              "      <td>Clara</td>\n",
              "      <td>30</td>\n",
              "    </tr>\n",
              "  </tbody>\n",
              "</table>\n",
              "</div>"
            ],
            "text/plain": [
              "    Name  Age\n",
              "0   Amit   10\n",
              "1  Bunty   20\n",
              "2  Clara   30"
            ]
          },
          "metadata": {
            "tags": []
          },
          "execution_count": 173
        }
      ]
    },
    {
      "cell_type": "code",
      "metadata": {
        "ExecuteTime": {
          "end_time": "2021-07-31T07:19:48.587585Z",
          "start_time": "2021-07-31T07:19:48.577639Z"
        },
        "id": "8OnR332B5fcI",
        "colab": {
          "base_uri": "https://localhost:8080/",
          "height": 142
        },
        "outputId": "b237284e-9a55-4a9d-a017-322f77c54c01"
      },
      "source": [
        "df = pd.DataFrame(data, index=['rank1','rank2','rank3'])#row labels will be added on top of the index numbers\n",
        "#df = pd.DataFrame(data, index=list(range(1001,1004)))#row indexes will replace the original index numbers\n",
        "df"
      ],
      "execution_count": null,
      "outputs": [
        {
          "output_type": "execute_result",
          "data": {
            "text/html": [
              "<div>\n",
              "<style scoped>\n",
              "    .dataframe tbody tr th:only-of-type {\n",
              "        vertical-align: middle;\n",
              "    }\n",
              "\n",
              "    .dataframe tbody tr th {\n",
              "        vertical-align: top;\n",
              "    }\n",
              "\n",
              "    .dataframe thead th {\n",
              "        text-align: right;\n",
              "    }\n",
              "</style>\n",
              "<table border=\"1\" class=\"dataframe\">\n",
              "  <thead>\n",
              "    <tr style=\"text-align: right;\">\n",
              "      <th></th>\n",
              "      <th>Name</th>\n",
              "      <th>Age</th>\n",
              "    </tr>\n",
              "  </thead>\n",
              "  <tbody>\n",
              "    <tr>\n",
              "      <th>rank1</th>\n",
              "      <td>Amit</td>\n",
              "      <td>10</td>\n",
              "    </tr>\n",
              "    <tr>\n",
              "      <th>rank2</th>\n",
              "      <td>Bunty</td>\n",
              "      <td>20</td>\n",
              "    </tr>\n",
              "    <tr>\n",
              "      <th>rank3</th>\n",
              "      <td>Clara</td>\n",
              "      <td>30</td>\n",
              "    </tr>\n",
              "  </tbody>\n",
              "</table>\n",
              "</div>"
            ],
            "text/plain": [
              "        Name  Age\n",
              "rank1   Amit   10\n",
              "rank2  Bunty   20\n",
              "rank3  Clara   30"
            ]
          },
          "metadata": {
            "tags": []
          },
          "execution_count": 174
        }
      ]
    },
    {
      "cell_type": "code",
      "metadata": {
        "ExecuteTime": {
          "end_time": "2021-07-31T07:20:01.659878Z",
          "start_time": "2021-07-31T07:20:01.639894Z"
        },
        "id": "IvGwCkVJ5fcI",
        "colab": {
          "base_uri": "https://localhost:8080/"
        },
        "outputId": "19438739-3005-44c1-f7ca-6747163ff008"
      },
      "source": [
        "a=df[\"Name\"]\n",
        "print(type(a))\n",
        "a"
      ],
      "execution_count": null,
      "outputs": [
        {
          "output_type": "stream",
          "text": [
            "<class 'pandas.core.series.Series'>\n"
          ],
          "name": "stdout"
        },
        {
          "output_type": "execute_result",
          "data": {
            "text/plain": [
              "rank1     Amit\n",
              "rank2    Bunty\n",
              "rank3    Clara\n",
              "Name: Name, dtype: object"
            ]
          },
          "metadata": {
            "tags": []
          },
          "execution_count": 175
        }
      ]
    },
    {
      "cell_type": "code",
      "metadata": {
        "ExecuteTime": {
          "end_time": "2021-07-31T07:20:13.681375Z",
          "start_time": "2021-07-31T07:20:13.661400Z"
        },
        "id": "f5N7Tf0A5fcI",
        "colab": {
          "base_uri": "https://localhost:8080/",
          "height": 159
        },
        "outputId": "0c29a7ad-4d3d-44d4-8ce4-68ef699e6869"
      },
      "source": [
        "b=df[[\"Name\",\"Age\"]]\n",
        "print(type(b))\n",
        "b"
      ],
      "execution_count": null,
      "outputs": [
        {
          "output_type": "stream",
          "text": [
            "<class 'pandas.core.frame.DataFrame'>\n"
          ],
          "name": "stdout"
        },
        {
          "output_type": "execute_result",
          "data": {
            "text/html": [
              "<div>\n",
              "<style scoped>\n",
              "    .dataframe tbody tr th:only-of-type {\n",
              "        vertical-align: middle;\n",
              "    }\n",
              "\n",
              "    .dataframe tbody tr th {\n",
              "        vertical-align: top;\n",
              "    }\n",
              "\n",
              "    .dataframe thead th {\n",
              "        text-align: right;\n",
              "    }\n",
              "</style>\n",
              "<table border=\"1\" class=\"dataframe\">\n",
              "  <thead>\n",
              "    <tr style=\"text-align: right;\">\n",
              "      <th></th>\n",
              "      <th>Name</th>\n",
              "      <th>Age</th>\n",
              "    </tr>\n",
              "  </thead>\n",
              "  <tbody>\n",
              "    <tr>\n",
              "      <th>rank1</th>\n",
              "      <td>Amit</td>\n",
              "      <td>10</td>\n",
              "    </tr>\n",
              "    <tr>\n",
              "      <th>rank2</th>\n",
              "      <td>Bunty</td>\n",
              "      <td>20</td>\n",
              "    </tr>\n",
              "    <tr>\n",
              "      <th>rank3</th>\n",
              "      <td>Clara</td>\n",
              "      <td>30</td>\n",
              "    </tr>\n",
              "  </tbody>\n",
              "</table>\n",
              "</div>"
            ],
            "text/plain": [
              "        Name  Age\n",
              "rank1   Amit   10\n",
              "rank2  Bunty   20\n",
              "rank3  Clara   30"
            ]
          },
          "metadata": {
            "tags": []
          },
          "execution_count": 176
        }
      ]
    },
    {
      "cell_type": "code",
      "metadata": {
        "ExecuteTime": {
          "end_time": "2021-07-31T07:20:14.331841Z",
          "start_time": "2021-07-31T07:20:14.321868Z"
        },
        "id": "c87Lh4Dt5fcI",
        "colab": {
          "base_uri": "https://localhost:8080/"
        },
        "outputId": "4c5511b8-b492-477b-aa98-362f38d10af6"
      },
      "source": [
        "df.columns"
      ],
      "execution_count": null,
      "outputs": [
        {
          "output_type": "execute_result",
          "data": {
            "text/plain": [
              "Index(['Name', 'Age'], dtype='object')"
            ]
          },
          "metadata": {
            "tags": []
          },
          "execution_count": 177
        }
      ]
    },
    {
      "cell_type": "code",
      "metadata": {
        "ExecuteTime": {
          "end_time": "2021-07-31T07:20:28.377388Z",
          "start_time": "2021-07-31T07:20:28.364424Z"
        },
        "id": "oFPorw9d5fcI",
        "colab": {
          "base_uri": "https://localhost:8080/",
          "height": 142
        },
        "outputId": "d1064ed2-0f07-46d0-8485-d17f4da8f9f5"
      },
      "source": [
        "#adding a column\n",
        "\n",
        "df['address']=[\"Mumbai\",\"Pune\",\"Mumbai\"]\n",
        "df\n"
      ],
      "execution_count": null,
      "outputs": [
        {
          "output_type": "execute_result",
          "data": {
            "text/html": [
              "<div>\n",
              "<style scoped>\n",
              "    .dataframe tbody tr th:only-of-type {\n",
              "        vertical-align: middle;\n",
              "    }\n",
              "\n",
              "    .dataframe tbody tr th {\n",
              "        vertical-align: top;\n",
              "    }\n",
              "\n",
              "    .dataframe thead th {\n",
              "        text-align: right;\n",
              "    }\n",
              "</style>\n",
              "<table border=\"1\" class=\"dataframe\">\n",
              "  <thead>\n",
              "    <tr style=\"text-align: right;\">\n",
              "      <th></th>\n",
              "      <th>Name</th>\n",
              "      <th>Age</th>\n",
              "      <th>address</th>\n",
              "    </tr>\n",
              "  </thead>\n",
              "  <tbody>\n",
              "    <tr>\n",
              "      <th>rank1</th>\n",
              "      <td>Amit</td>\n",
              "      <td>10</td>\n",
              "      <td>Mumbai</td>\n",
              "    </tr>\n",
              "    <tr>\n",
              "      <th>rank2</th>\n",
              "      <td>Bunty</td>\n",
              "      <td>20</td>\n",
              "      <td>Pune</td>\n",
              "    </tr>\n",
              "    <tr>\n",
              "      <th>rank3</th>\n",
              "      <td>Clara</td>\n",
              "      <td>30</td>\n",
              "      <td>Mumbai</td>\n",
              "    </tr>\n",
              "  </tbody>\n",
              "</table>\n",
              "</div>"
            ],
            "text/plain": [
              "        Name  Age address\n",
              "rank1   Amit   10  Mumbai\n",
              "rank2  Bunty   20    Pune\n",
              "rank3  Clara   30  Mumbai"
            ]
          },
          "metadata": {
            "tags": []
          },
          "execution_count": 178
        }
      ]
    },
    {
      "cell_type": "code",
      "metadata": {
        "ExecuteTime": {
          "end_time": "2021-07-31T07:20:38.525872Z",
          "start_time": "2021-07-31T07:20:38.506887Z"
        },
        "id": "xkF87tYZ5fcI",
        "colab": {
          "base_uri": "https://localhost:8080/",
          "height": 142
        },
        "outputId": "07b56fd8-64e7-4ad8-d2ca-203eb5fd61f6"
      },
      "source": [
        "df=df[['Name', 'address','Age']]\n",
        "df\n",
        "\n",
        "#X1 X2 Y X3 X4\n",
        "#X1 X2 X3 X4 Y"
      ],
      "execution_count": null,
      "outputs": [
        {
          "output_type": "execute_result",
          "data": {
            "text/html": [
              "<div>\n",
              "<style scoped>\n",
              "    .dataframe tbody tr th:only-of-type {\n",
              "        vertical-align: middle;\n",
              "    }\n",
              "\n",
              "    .dataframe tbody tr th {\n",
              "        vertical-align: top;\n",
              "    }\n",
              "\n",
              "    .dataframe thead th {\n",
              "        text-align: right;\n",
              "    }\n",
              "</style>\n",
              "<table border=\"1\" class=\"dataframe\">\n",
              "  <thead>\n",
              "    <tr style=\"text-align: right;\">\n",
              "      <th></th>\n",
              "      <th>Name</th>\n",
              "      <th>address</th>\n",
              "      <th>Age</th>\n",
              "    </tr>\n",
              "  </thead>\n",
              "  <tbody>\n",
              "    <tr>\n",
              "      <th>rank1</th>\n",
              "      <td>Amit</td>\n",
              "      <td>Mumbai</td>\n",
              "      <td>10</td>\n",
              "    </tr>\n",
              "    <tr>\n",
              "      <th>rank2</th>\n",
              "      <td>Bunty</td>\n",
              "      <td>Pune</td>\n",
              "      <td>20</td>\n",
              "    </tr>\n",
              "    <tr>\n",
              "      <th>rank3</th>\n",
              "      <td>Clara</td>\n",
              "      <td>Mumbai</td>\n",
              "      <td>30</td>\n",
              "    </tr>\n",
              "  </tbody>\n",
              "</table>\n",
              "</div>"
            ],
            "text/plain": [
              "        Name address  Age\n",
              "rank1   Amit  Mumbai   10\n",
              "rank2  Bunty    Pune   20\n",
              "rank3  Clara  Mumbai   30"
            ]
          },
          "metadata": {
            "tags": []
          },
          "execution_count": 179
        }
      ]
    },
    {
      "cell_type": "code",
      "metadata": {
        "ExecuteTime": {
          "end_time": "2021-07-31T07:20:42.481360Z",
          "start_time": "2021-07-31T07:20:42.464399Z"
        },
        "id": "Ph1ddqUm5fcI",
        "colab": {
          "base_uri": "https://localhost:8080/"
        },
        "outputId": "dfacfd84-dd48-4aae-b688-89afaa4156cd"
      },
      "source": [
        "df.columns"
      ],
      "execution_count": null,
      "outputs": [
        {
          "output_type": "execute_result",
          "data": {
            "text/plain": [
              "Index(['Name', 'address', 'Age'], dtype='object')"
            ]
          },
          "metadata": {
            "tags": []
          },
          "execution_count": 180
        }
      ]
    },
    {
      "cell_type": "code",
      "metadata": {
        "ExecuteTime": {
          "end_time": "2021-07-31T07:20:57.785060Z",
          "start_time": "2021-07-31T07:20:57.762162Z"
        },
        "id": "kmVlvlrZ5fcI",
        "colab": {
          "base_uri": "https://localhost:8080/",
          "height": 244
        },
        "outputId": "f8f81226-891a-4d74-a467-8477b70252fc"
      },
      "source": [
        "df[\"Newcol\"]=[5,10,12]\n",
        "df"
      ],
      "execution_count": null,
      "outputs": [
        {
          "output_type": "stream",
          "text": [
            "/usr/local/lib/python3.7/dist-packages/ipykernel_launcher.py:1: SettingWithCopyWarning: \n",
            "A value is trying to be set on a copy of a slice from a DataFrame.\n",
            "Try using .loc[row_indexer,col_indexer] = value instead\n",
            "\n",
            "See the caveats in the documentation: https://pandas.pydata.org/pandas-docs/stable/user_guide/indexing.html#returning-a-view-versus-a-copy\n",
            "  \"\"\"Entry point for launching an IPython kernel.\n"
          ],
          "name": "stderr"
        },
        {
          "output_type": "execute_result",
          "data": {
            "text/html": [
              "<div>\n",
              "<style scoped>\n",
              "    .dataframe tbody tr th:only-of-type {\n",
              "        vertical-align: middle;\n",
              "    }\n",
              "\n",
              "    .dataframe tbody tr th {\n",
              "        vertical-align: top;\n",
              "    }\n",
              "\n",
              "    .dataframe thead th {\n",
              "        text-align: right;\n",
              "    }\n",
              "</style>\n",
              "<table border=\"1\" class=\"dataframe\">\n",
              "  <thead>\n",
              "    <tr style=\"text-align: right;\">\n",
              "      <th></th>\n",
              "      <th>Name</th>\n",
              "      <th>address</th>\n",
              "      <th>Age</th>\n",
              "      <th>Newcol</th>\n",
              "    </tr>\n",
              "  </thead>\n",
              "  <tbody>\n",
              "    <tr>\n",
              "      <th>rank1</th>\n",
              "      <td>Amit</td>\n",
              "      <td>Mumbai</td>\n",
              "      <td>10</td>\n",
              "      <td>5</td>\n",
              "    </tr>\n",
              "    <tr>\n",
              "      <th>rank2</th>\n",
              "      <td>Bunty</td>\n",
              "      <td>Pune</td>\n",
              "      <td>20</td>\n",
              "      <td>10</td>\n",
              "    </tr>\n",
              "    <tr>\n",
              "      <th>rank3</th>\n",
              "      <td>Clara</td>\n",
              "      <td>Mumbai</td>\n",
              "      <td>30</td>\n",
              "      <td>12</td>\n",
              "    </tr>\n",
              "  </tbody>\n",
              "</table>\n",
              "</div>"
            ],
            "text/plain": [
              "        Name address  Age  Newcol\n",
              "rank1   Amit  Mumbai   10       5\n",
              "rank2  Bunty    Pune   20      10\n",
              "rank3  Clara  Mumbai   30      12"
            ]
          },
          "metadata": {
            "tags": []
          },
          "execution_count": 181
        }
      ]
    },
    {
      "cell_type": "code",
      "metadata": {
        "ExecuteTime": {
          "end_time": "2021-07-31T07:21:08.295910Z",
          "start_time": "2021-07-31T07:21:08.278969Z"
        },
        "id": "DmDqqN_d5fcJ",
        "colab": {
          "base_uri": "https://localhost:8080/",
          "height": 244
        },
        "outputId": "d682088a-2f68-4889-9259-60161fad0a21"
      },
      "source": [
        "df[\"Revised_Col\"]=df[\"Newcol\"]*2\n",
        "df"
      ],
      "execution_count": null,
      "outputs": [
        {
          "output_type": "stream",
          "text": [
            "/usr/local/lib/python3.7/dist-packages/ipykernel_launcher.py:1: SettingWithCopyWarning: \n",
            "A value is trying to be set on a copy of a slice from a DataFrame.\n",
            "Try using .loc[row_indexer,col_indexer] = value instead\n",
            "\n",
            "See the caveats in the documentation: https://pandas.pydata.org/pandas-docs/stable/user_guide/indexing.html#returning-a-view-versus-a-copy\n",
            "  \"\"\"Entry point for launching an IPython kernel.\n"
          ],
          "name": "stderr"
        },
        {
          "output_type": "execute_result",
          "data": {
            "text/html": [
              "<div>\n",
              "<style scoped>\n",
              "    .dataframe tbody tr th:only-of-type {\n",
              "        vertical-align: middle;\n",
              "    }\n",
              "\n",
              "    .dataframe tbody tr th {\n",
              "        vertical-align: top;\n",
              "    }\n",
              "\n",
              "    .dataframe thead th {\n",
              "        text-align: right;\n",
              "    }\n",
              "</style>\n",
              "<table border=\"1\" class=\"dataframe\">\n",
              "  <thead>\n",
              "    <tr style=\"text-align: right;\">\n",
              "      <th></th>\n",
              "      <th>Name</th>\n",
              "      <th>address</th>\n",
              "      <th>Age</th>\n",
              "      <th>Newcol</th>\n",
              "      <th>Revised_Col</th>\n",
              "    </tr>\n",
              "  </thead>\n",
              "  <tbody>\n",
              "    <tr>\n",
              "      <th>rank1</th>\n",
              "      <td>Amit</td>\n",
              "      <td>Mumbai</td>\n",
              "      <td>10</td>\n",
              "      <td>5</td>\n",
              "      <td>10</td>\n",
              "    </tr>\n",
              "    <tr>\n",
              "      <th>rank2</th>\n",
              "      <td>Bunty</td>\n",
              "      <td>Pune</td>\n",
              "      <td>20</td>\n",
              "      <td>10</td>\n",
              "      <td>20</td>\n",
              "    </tr>\n",
              "    <tr>\n",
              "      <th>rank3</th>\n",
              "      <td>Clara</td>\n",
              "      <td>Mumbai</td>\n",
              "      <td>30</td>\n",
              "      <td>12</td>\n",
              "      <td>24</td>\n",
              "    </tr>\n",
              "  </tbody>\n",
              "</table>\n",
              "</div>"
            ],
            "text/plain": [
              "        Name address  Age  Newcol  Revised_Col\n",
              "rank1   Amit  Mumbai   10       5           10\n",
              "rank2  Bunty    Pune   20      10           20\n",
              "rank3  Clara  Mumbai   30      12           24"
            ]
          },
          "metadata": {
            "tags": []
          },
          "execution_count": 182
        }
      ]
    },
    {
      "cell_type": "code",
      "metadata": {
        "ExecuteTime": {
          "end_time": "2021-07-31T07:21:14.264763Z",
          "start_time": "2021-07-31T07:21:14.253793Z"
        },
        "id": "9nhwOhiJ5fcJ",
        "colab": {
          "base_uri": "https://localhost:8080/",
          "height": 142
        },
        "outputId": "6cf0ab23-cf07-42c2-edc5-5978a665ba84"
      },
      "source": [
        "#deleting a column\n",
        "del df[\"Newcol\"]\n",
        "df"
      ],
      "execution_count": null,
      "outputs": [
        {
          "output_type": "execute_result",
          "data": {
            "text/html": [
              "<div>\n",
              "<style scoped>\n",
              "    .dataframe tbody tr th:only-of-type {\n",
              "        vertical-align: middle;\n",
              "    }\n",
              "\n",
              "    .dataframe tbody tr th {\n",
              "        vertical-align: top;\n",
              "    }\n",
              "\n",
              "    .dataframe thead th {\n",
              "        text-align: right;\n",
              "    }\n",
              "</style>\n",
              "<table border=\"1\" class=\"dataframe\">\n",
              "  <thead>\n",
              "    <tr style=\"text-align: right;\">\n",
              "      <th></th>\n",
              "      <th>Name</th>\n",
              "      <th>address</th>\n",
              "      <th>Age</th>\n",
              "      <th>Revised_Col</th>\n",
              "    </tr>\n",
              "  </thead>\n",
              "  <tbody>\n",
              "    <tr>\n",
              "      <th>rank1</th>\n",
              "      <td>Amit</td>\n",
              "      <td>Mumbai</td>\n",
              "      <td>10</td>\n",
              "      <td>10</td>\n",
              "    </tr>\n",
              "    <tr>\n",
              "      <th>rank2</th>\n",
              "      <td>Bunty</td>\n",
              "      <td>Pune</td>\n",
              "      <td>20</td>\n",
              "      <td>20</td>\n",
              "    </tr>\n",
              "    <tr>\n",
              "      <th>rank3</th>\n",
              "      <td>Clara</td>\n",
              "      <td>Mumbai</td>\n",
              "      <td>30</td>\n",
              "      <td>24</td>\n",
              "    </tr>\n",
              "  </tbody>\n",
              "</table>\n",
              "</div>"
            ],
            "text/plain": [
              "        Name address  Age  Revised_Col\n",
              "rank1   Amit  Mumbai   10           10\n",
              "rank2  Bunty    Pune   20           20\n",
              "rank3  Clara  Mumbai   30           24"
            ]
          },
          "metadata": {
            "tags": []
          },
          "execution_count": 183
        }
      ]
    },
    {
      "cell_type": "code",
      "metadata": {
        "ExecuteTime": {
          "end_time": "2021-07-31T07:21:30.423619Z",
          "start_time": "2021-07-31T07:21:30.402658Z"
        },
        "scrolled": true,
        "id": "b26sjXqc5fcJ",
        "colab": {
          "base_uri": "https://localhost:8080/"
        },
        "outputId": "700102dc-0aad-487a-9047-6871f63d8c97"
      },
      "source": [
        "# Dropping columns\n",
        "\n",
        "#df=df.drop('rank1')\n",
        "#df=df.drop(['Revised_Col'],axis=1)\n",
        "df.drop('rank1',inplace=True)\n",
        "\n",
        "#axis=0-->rows (default)\n",
        "#axis=1-->cols"
      ],
      "execution_count": null,
      "outputs": [
        {
          "output_type": "stream",
          "text": [
            "/usr/local/lib/python3.7/dist-packages/pandas/core/frame.py:4174: SettingWithCopyWarning: \n",
            "A value is trying to be set on a copy of a slice from a DataFrame\n",
            "\n",
            "See the caveats in the documentation: https://pandas.pydata.org/pandas-docs/stable/user_guide/indexing.html#returning-a-view-versus-a-copy\n",
            "  errors=errors,\n"
          ],
          "name": "stderr"
        }
      ]
    },
    {
      "cell_type": "code",
      "metadata": {
        "ExecuteTime": {
          "end_time": "2021-07-31T07:21:33.951031Z",
          "start_time": "2021-07-31T07:21:33.929076Z"
        },
        "scrolled": true,
        "id": "wffRfb5N5fcJ",
        "colab": {
          "base_uri": "https://localhost:8080/",
          "height": 111
        },
        "outputId": "fc4fabb6-f217-411f-b62d-c1d5cb8aebcc"
      },
      "source": [
        "df"
      ],
      "execution_count": null,
      "outputs": [
        {
          "output_type": "execute_result",
          "data": {
            "text/html": [
              "<div>\n",
              "<style scoped>\n",
              "    .dataframe tbody tr th:only-of-type {\n",
              "        vertical-align: middle;\n",
              "    }\n",
              "\n",
              "    .dataframe tbody tr th {\n",
              "        vertical-align: top;\n",
              "    }\n",
              "\n",
              "    .dataframe thead th {\n",
              "        text-align: right;\n",
              "    }\n",
              "</style>\n",
              "<table border=\"1\" class=\"dataframe\">\n",
              "  <thead>\n",
              "    <tr style=\"text-align: right;\">\n",
              "      <th></th>\n",
              "      <th>Name</th>\n",
              "      <th>address</th>\n",
              "      <th>Age</th>\n",
              "      <th>Revised_Col</th>\n",
              "    </tr>\n",
              "  </thead>\n",
              "  <tbody>\n",
              "    <tr>\n",
              "      <th>rank2</th>\n",
              "      <td>Bunty</td>\n",
              "      <td>Pune</td>\n",
              "      <td>20</td>\n",
              "      <td>20</td>\n",
              "    </tr>\n",
              "    <tr>\n",
              "      <th>rank3</th>\n",
              "      <td>Clara</td>\n",
              "      <td>Mumbai</td>\n",
              "      <td>30</td>\n",
              "      <td>24</td>\n",
              "    </tr>\n",
              "  </tbody>\n",
              "</table>\n",
              "</div>"
            ],
            "text/plain": [
              "        Name address  Age  Revised_Col\n",
              "rank2  Bunty    Pune   20           20\n",
              "rank3  Clara  Mumbai   30           24"
            ]
          },
          "metadata": {
            "tags": []
          },
          "execution_count": 185
        }
      ]
    },
    {
      "cell_type": "code",
      "metadata": {
        "ExecuteTime": {
          "end_time": "2021-07-31T07:23:05.854388Z",
          "start_time": "2021-07-31T07:23:05.831416Z"
        },
        "scrolled": true,
        "id": "hDgSfc7j5fcJ",
        "colab": {
          "base_uri": "https://localhost:8080/",
          "height": 80
        },
        "outputId": "2bd5dd91-97a5-4638-fc7a-e69298588297"
      },
      "source": [
        "# Dropping rows\n",
        "\n",
        "df.drop(df[(df.Name==\"Bunty\") & (df.Age<=20)].index,axis=0)"
      ],
      "execution_count": null,
      "outputs": [
        {
          "output_type": "execute_result",
          "data": {
            "text/html": [
              "<div>\n",
              "<style scoped>\n",
              "    .dataframe tbody tr th:only-of-type {\n",
              "        vertical-align: middle;\n",
              "    }\n",
              "\n",
              "    .dataframe tbody tr th {\n",
              "        vertical-align: top;\n",
              "    }\n",
              "\n",
              "    .dataframe thead th {\n",
              "        text-align: right;\n",
              "    }\n",
              "</style>\n",
              "<table border=\"1\" class=\"dataframe\">\n",
              "  <thead>\n",
              "    <tr style=\"text-align: right;\">\n",
              "      <th></th>\n",
              "      <th>Name</th>\n",
              "      <th>address</th>\n",
              "      <th>Age</th>\n",
              "      <th>Revised_Col</th>\n",
              "    </tr>\n",
              "  </thead>\n",
              "  <tbody>\n",
              "    <tr>\n",
              "      <th>rank3</th>\n",
              "      <td>Clara</td>\n",
              "      <td>Mumbai</td>\n",
              "      <td>30</td>\n",
              "      <td>24</td>\n",
              "    </tr>\n",
              "  </tbody>\n",
              "</table>\n",
              "</div>"
            ],
            "text/plain": [
              "        Name address  Age  Revised_Col\n",
              "rank3  Clara  Mumbai   30           24"
            ]
          },
          "metadata": {
            "tags": []
          },
          "execution_count": 186
        }
      ]
    },
    {
      "cell_type": "code",
      "metadata": {
        "ExecuteTime": {
          "end_time": "2021-07-31T07:23:35.947608Z",
          "start_time": "2021-07-31T07:23:35.928598Z"
        },
        "scrolled": false,
        "id": "asXzcdad5fcJ",
        "colab": {
          "base_uri": "https://localhost:8080/",
          "height": 111
        },
        "outputId": "a79d9d58-98b7-48b5-85cd-383bf7ff105b"
      },
      "source": [
        "df"
      ],
      "execution_count": null,
      "outputs": [
        {
          "output_type": "execute_result",
          "data": {
            "text/html": [
              "<div>\n",
              "<style scoped>\n",
              "    .dataframe tbody tr th:only-of-type {\n",
              "        vertical-align: middle;\n",
              "    }\n",
              "\n",
              "    .dataframe tbody tr th {\n",
              "        vertical-align: top;\n",
              "    }\n",
              "\n",
              "    .dataframe thead th {\n",
              "        text-align: right;\n",
              "    }\n",
              "</style>\n",
              "<table border=\"1\" class=\"dataframe\">\n",
              "  <thead>\n",
              "    <tr style=\"text-align: right;\">\n",
              "      <th></th>\n",
              "      <th>Name</th>\n",
              "      <th>address</th>\n",
              "      <th>Age</th>\n",
              "      <th>Revised_Col</th>\n",
              "    </tr>\n",
              "  </thead>\n",
              "  <tbody>\n",
              "    <tr>\n",
              "      <th>rank2</th>\n",
              "      <td>Bunty</td>\n",
              "      <td>Pune</td>\n",
              "      <td>20</td>\n",
              "      <td>20</td>\n",
              "    </tr>\n",
              "    <tr>\n",
              "      <th>rank3</th>\n",
              "      <td>Clara</td>\n",
              "      <td>Mumbai</td>\n",
              "      <td>30</td>\n",
              "      <td>24</td>\n",
              "    </tr>\n",
              "  </tbody>\n",
              "</table>\n",
              "</div>"
            ],
            "text/plain": [
              "        Name address  Age  Revised_Col\n",
              "rank2  Bunty    Pune   20           20\n",
              "rank3  Clara  Mumbai   30           24"
            ]
          },
          "metadata": {
            "tags": []
          },
          "execution_count": 187
        }
      ]
    },
    {
      "cell_type": "code",
      "metadata": {
        "id": "ZMTFyR6v5fcJ"
      },
      "source": [
        "# Export as CSV\n",
        "df.to_csv(r\"C:\\Users\\Jayanti\\Documents\\Imarticus - PGAA\\Batch 8\\sampledf.csv\",index=True,header=True)"
      ],
      "execution_count": null,
      "outputs": []
    },
    {
      "cell_type": "code",
      "metadata": {
        "id": "jxwjTm835fcJ"
      },
      "source": [
        "# Export as XLSX\n",
        "df.to_excel(\"sample.xlsx\",index=False,header=True)"
      ],
      "execution_count": null,
      "outputs": []
    },
    {
      "cell_type": "code",
      "metadata": {
        "id": "fpbbABbP5fcJ"
      },
      "source": [],
      "execution_count": null,
      "outputs": []
    },
    {
      "cell_type": "code",
      "metadata": {
        "ExecuteTime": {
          "end_time": "2021-07-31T07:25:25.080121Z",
          "start_time": "2021-07-31T07:25:25.071146Z"
        },
        "id": "-KrKsURl5fcJ"
      },
      "source": [
        "new_df=pd.DataFrame.copy(df)"
      ],
      "execution_count": null,
      "outputs": []
    },
    {
      "cell_type": "code",
      "metadata": {
        "ExecuteTime": {
          "end_time": "2021-07-31T07:25:25.744040Z",
          "start_time": "2021-07-31T07:25:25.723079Z"
        },
        "id": "gxpJOjsN5fcJ",
        "colab": {
          "base_uri": "https://localhost:8080/",
          "height": 111
        },
        "outputId": "d40c7d18-a058-467d-efb5-912559f62ce7"
      },
      "source": [
        "new_df"
      ],
      "execution_count": null,
      "outputs": [
        {
          "output_type": "execute_result",
          "data": {
            "text/html": [
              "<div>\n",
              "<style scoped>\n",
              "    .dataframe tbody tr th:only-of-type {\n",
              "        vertical-align: middle;\n",
              "    }\n",
              "\n",
              "    .dataframe tbody tr th {\n",
              "        vertical-align: top;\n",
              "    }\n",
              "\n",
              "    .dataframe thead th {\n",
              "        text-align: right;\n",
              "    }\n",
              "</style>\n",
              "<table border=\"1\" class=\"dataframe\">\n",
              "  <thead>\n",
              "    <tr style=\"text-align: right;\">\n",
              "      <th></th>\n",
              "      <th>Name</th>\n",
              "      <th>address</th>\n",
              "      <th>Age</th>\n",
              "      <th>Revised_Col</th>\n",
              "    </tr>\n",
              "  </thead>\n",
              "  <tbody>\n",
              "    <tr>\n",
              "      <th>rank2</th>\n",
              "      <td>Bunty</td>\n",
              "      <td>Pune</td>\n",
              "      <td>20</td>\n",
              "      <td>20</td>\n",
              "    </tr>\n",
              "    <tr>\n",
              "      <th>rank3</th>\n",
              "      <td>Clara</td>\n",
              "      <td>Mumbai</td>\n",
              "      <td>30</td>\n",
              "      <td>24</td>\n",
              "    </tr>\n",
              "  </tbody>\n",
              "</table>\n",
              "</div>"
            ],
            "text/plain": [
              "        Name address  Age  Revised_Col\n",
              "rank2  Bunty    Pune   20           20\n",
              "rank3  Clara  Mumbai   30           24"
            ]
          },
          "metadata": {
            "tags": []
          },
          "execution_count": 192
        }
      ]
    },
    {
      "cell_type": "markdown",
      "metadata": {
        "id": "SU8bXRs55fcJ"
      },
      "source": [
        "## From CSV and XlSX Files\n",
        "\n",
        "### Pandas - IO Tools\n",
        "\n",
        "The Pandas I/O API is a set of top level reader functions accessed like pd.read_csv() and read_excel() that generally return a Pandas object."
      ]
    },
    {
      "cell_type": "code",
      "metadata": {
        "ExecuteTime": {
          "end_time": "2021-07-31T07:25:28.712819Z",
          "start_time": "2021-07-31T07:25:28.701848Z"
        },
        "id": "iYvshQvh5fcJ",
        "colab": {
          "base_uri": "https://localhost:8080/",
          "height": 37
        },
        "outputId": "c8b0ccd8-8a81-420d-ffa3-c3acf29f1b10"
      },
      "source": [
        "import os\n",
        "os.getcwd()\n"
      ],
      "execution_count": null,
      "outputs": [
        {
          "output_type": "execute_result",
          "data": {
            "application/vnd.google.colaboratory.intrinsic+json": {
              "type": "string"
            },
            "text/plain": [
              "'/content'"
            ]
          },
          "metadata": {
            "tags": []
          },
          "execution_count": 149
        }
      ]
    },
    {
      "cell_type": "code",
      "metadata": {
        "ExecuteTime": {
          "end_time": "2021-07-31T07:25:58.971759Z",
          "start_time": "2021-07-31T07:25:58.961706Z"
        },
        "scrolled": false,
        "id": "p1X_6RWo5fcJ",
        "colab": {
          "base_uri": "https://localhost:8080/",
          "height": 111
        },
        "outputId": "d5b59ffd-0124-457a-8bad-6f643396fef2"
      },
      "source": [
        "#reading df from a file\n",
        "import pandas as pd\n",
        "df = pd.read_csv(r'C:\\Users\\Jayanti\\Documents\\Imarticus - PGAA\\Batch 8\\sampledf.csv', index_col=0,header=0)\n",
        "df"
      ],
      "execution_count": null,
      "outputs": [
        {
          "output_type": "execute_result",
          "data": {
            "text/html": [
              "<div>\n",
              "<style scoped>\n",
              "    .dataframe tbody tr th:only-of-type {\n",
              "        vertical-align: middle;\n",
              "    }\n",
              "\n",
              "    .dataframe tbody tr th {\n",
              "        vertical-align: top;\n",
              "    }\n",
              "\n",
              "    .dataframe thead th {\n",
              "        text-align: right;\n",
              "    }\n",
              "</style>\n",
              "<table border=\"1\" class=\"dataframe\">\n",
              "  <thead>\n",
              "    <tr style=\"text-align: right;\">\n",
              "      <th></th>\n",
              "      <th>Name</th>\n",
              "      <th>address</th>\n",
              "      <th>Age</th>\n",
              "      <th>Revised_Col</th>\n",
              "    </tr>\n",
              "  </thead>\n",
              "  <tbody>\n",
              "    <tr>\n",
              "      <th>rank2</th>\n",
              "      <td>Bunty</td>\n",
              "      <td>Pune</td>\n",
              "      <td>20</td>\n",
              "      <td>20</td>\n",
              "    </tr>\n",
              "    <tr>\n",
              "      <th>rank3</th>\n",
              "      <td>Clara</td>\n",
              "      <td>Mumbai</td>\n",
              "      <td>30</td>\n",
              "      <td>24</td>\n",
              "    </tr>\n",
              "  </tbody>\n",
              "</table>\n",
              "</div>"
            ],
            "text/plain": [
              "        Name address  Age  Revised_Col\n",
              "rank2  Bunty    Pune   20           20\n",
              "rank3  Clara  Mumbai   30           24"
            ]
          },
          "metadata": {
            "tags": []
          },
          "execution_count": 150
        }
      ]
    },
    {
      "cell_type": "code",
      "metadata": {
        "ExecuteTime": {
          "end_time": "2021-07-31T07:26:06.912473Z",
          "start_time": "2021-07-31T07:26:06.875525Z"
        },
        "id": "LQKK9kwQ5fcK"
      },
      "source": [
        "?pd.read_csv"
      ],
      "execution_count": null,
      "outputs": []
    },
    {
      "cell_type": "code",
      "metadata": {
        "scrolled": false,
        "id": "EQMsVbeV5fcK",
        "colab": {
          "base_uri": "https://localhost:8080/",
          "height": 111
        },
        "outputId": "357b8bdb-df79-4fc0-a9e4-5e5d67db64bb"
      },
      "source": [
        "df3=pd.read_excel('sample.xlsx',header=0)\n",
        "df3"
      ],
      "execution_count": null,
      "outputs": [
        {
          "output_type": "execute_result",
          "data": {
            "text/html": [
              "<div>\n",
              "<style scoped>\n",
              "    .dataframe tbody tr th:only-of-type {\n",
              "        vertical-align: middle;\n",
              "    }\n",
              "\n",
              "    .dataframe tbody tr th {\n",
              "        vertical-align: top;\n",
              "    }\n",
              "\n",
              "    .dataframe thead th {\n",
              "        text-align: right;\n",
              "    }\n",
              "</style>\n",
              "<table border=\"1\" class=\"dataframe\">\n",
              "  <thead>\n",
              "    <tr style=\"text-align: right;\">\n",
              "      <th></th>\n",
              "      <th>Name</th>\n",
              "      <th>address</th>\n",
              "      <th>Age</th>\n",
              "      <th>Revised_Col</th>\n",
              "    </tr>\n",
              "  </thead>\n",
              "  <tbody>\n",
              "    <tr>\n",
              "      <th>0</th>\n",
              "      <td>Bunty</td>\n",
              "      <td>Pune</td>\n",
              "      <td>20</td>\n",
              "      <td>20</td>\n",
              "    </tr>\n",
              "    <tr>\n",
              "      <th>1</th>\n",
              "      <td>Clara</td>\n",
              "      <td>Mumbai</td>\n",
              "      <td>30</td>\n",
              "      <td>24</td>\n",
              "    </tr>\n",
              "  </tbody>\n",
              "</table>\n",
              "</div>"
            ],
            "text/plain": [
              "    Name address  Age  Revised_Col\n",
              "0  Bunty    Pune   20           20\n",
              "1  Clara  Mumbai   30           24"
            ]
          },
          "metadata": {
            "tags": []
          },
          "execution_count": 152
        }
      ]
    },
    {
      "cell_type": "code",
      "metadata": {
        "ExecuteTime": {
          "end_time": "2021-07-31T07:26:27.134339Z",
          "start_time": "2021-07-31T07:26:27.127348Z"
        },
        "id": "3tseJj9N5fcK",
        "colab": {
          "base_uri": "https://localhost:8080/"
        },
        "outputId": "854ef084-b8fb-4aef-f242-10d642f8e588"
      },
      "source": [
        "#Preparing the data\n",
        "#print(df.dtypes)\n",
        "#print(df.Age.dtype)\n",
        "#print(df.shape)\n",
        "df.info()\n"
      ],
      "execution_count": null,
      "outputs": [
        {
          "output_type": "stream",
          "text": [
            "<class 'pandas.core.frame.DataFrame'>\n",
            "Index: 2 entries, rank2 to rank3\n",
            "Data columns (total 4 columns):\n",
            " #   Column       Non-Null Count  Dtype \n",
            "---  ------       --------------  ----- \n",
            " 0   Name         2 non-null      object\n",
            " 1   address      2 non-null      object\n",
            " 2   Age          2 non-null      int64 \n",
            " 3   Revised_Col  2 non-null      int64 \n",
            "dtypes: int64(2), object(2)\n",
            "memory usage: 80.0+ bytes\n"
          ],
          "name": "stdout"
        }
      ]
    },
    {
      "cell_type": "code",
      "metadata": {
        "ExecuteTime": {
          "end_time": "2021-07-31T07:26:35.005657Z",
          "start_time": "2021-07-31T07:26:34.992691Z"
        },
        "id": "SfvY3YuN5fcK",
        "colab": {
          "base_uri": "https://localhost:8080/",
          "height": 111
        },
        "outputId": "f86501da-f369-472f-b16c-e30653a159f4"
      },
      "source": [
        "df"
      ],
      "execution_count": null,
      "outputs": [
        {
          "output_type": "execute_result",
          "data": {
            "text/html": [
              "<div>\n",
              "<style scoped>\n",
              "    .dataframe tbody tr th:only-of-type {\n",
              "        vertical-align: middle;\n",
              "    }\n",
              "\n",
              "    .dataframe tbody tr th {\n",
              "        vertical-align: top;\n",
              "    }\n",
              "\n",
              "    .dataframe thead th {\n",
              "        text-align: right;\n",
              "    }\n",
              "</style>\n",
              "<table border=\"1\" class=\"dataframe\">\n",
              "  <thead>\n",
              "    <tr style=\"text-align: right;\">\n",
              "      <th></th>\n",
              "      <th>Name</th>\n",
              "      <th>address</th>\n",
              "      <th>Age</th>\n",
              "      <th>Revised_Col</th>\n",
              "    </tr>\n",
              "  </thead>\n",
              "  <tbody>\n",
              "    <tr>\n",
              "      <th>rank2</th>\n",
              "      <td>Bunty</td>\n",
              "      <td>Pune</td>\n",
              "      <td>20</td>\n",
              "      <td>20</td>\n",
              "    </tr>\n",
              "    <tr>\n",
              "      <th>rank3</th>\n",
              "      <td>Clara</td>\n",
              "      <td>Mumbai</td>\n",
              "      <td>30</td>\n",
              "      <td>24</td>\n",
              "    </tr>\n",
              "  </tbody>\n",
              "</table>\n",
              "</div>"
            ],
            "text/plain": [
              "        Name address  Age  Revised_Col\n",
              "rank2  Bunty    Pune   20           20\n",
              "rank3  Clara  Mumbai   30           24"
            ]
          },
          "metadata": {
            "tags": []
          },
          "execution_count": 154
        }
      ]
    },
    {
      "cell_type": "code",
      "metadata": {
        "ExecuteTime": {
          "end_time": "2021-07-31T07:26:36.215426Z",
          "start_time": "2021-07-31T07:26:36.193485Z"
        },
        "scrolled": true,
        "id": "ulmugLFl5fcK"
      },
      "source": [
        "df.at[\"rank3\", [\"Name\",\"address\"]]=[\"Ramesh\",\"Pune\"]"
      ],
      "execution_count": null,
      "outputs": []
    },
    {
      "cell_type": "code",
      "metadata": {
        "ExecuteTime": {
          "end_time": "2021-07-31T07:26:38.303842Z",
          "start_time": "2021-07-31T07:26:38.292872Z"
        },
        "id": "KgJgld2G5fcK",
        "colab": {
          "base_uri": "https://localhost:8080/",
          "height": 111
        },
        "outputId": "f50fe92c-be9c-4940-c9fe-43d11db8c9bf"
      },
      "source": [
        "df"
      ],
      "execution_count": null,
      "outputs": [
        {
          "output_type": "execute_result",
          "data": {
            "text/html": [
              "<div>\n",
              "<style scoped>\n",
              "    .dataframe tbody tr th:only-of-type {\n",
              "        vertical-align: middle;\n",
              "    }\n",
              "\n",
              "    .dataframe tbody tr th {\n",
              "        vertical-align: top;\n",
              "    }\n",
              "\n",
              "    .dataframe thead th {\n",
              "        text-align: right;\n",
              "    }\n",
              "</style>\n",
              "<table border=\"1\" class=\"dataframe\">\n",
              "  <thead>\n",
              "    <tr style=\"text-align: right;\">\n",
              "      <th></th>\n",
              "      <th>Name</th>\n",
              "      <th>address</th>\n",
              "      <th>Age</th>\n",
              "      <th>Revised_Col</th>\n",
              "    </tr>\n",
              "  </thead>\n",
              "  <tbody>\n",
              "    <tr>\n",
              "      <th>rank2</th>\n",
              "      <td>Bunty</td>\n",
              "      <td>Pune</td>\n",
              "      <td>20</td>\n",
              "      <td>20</td>\n",
              "    </tr>\n",
              "    <tr>\n",
              "      <th>rank3</th>\n",
              "      <td>Ramesh</td>\n",
              "      <td>Pune</td>\n",
              "      <td>30</td>\n",
              "      <td>24</td>\n",
              "    </tr>\n",
              "  </tbody>\n",
              "</table>\n",
              "</div>"
            ],
            "text/plain": [
              "         Name address  Age  Revised_Col\n",
              "rank2   Bunty    Pune   20           20\n",
              "rank3  Ramesh    Pune   30           24"
            ]
          },
          "metadata": {
            "tags": []
          },
          "execution_count": 156
        }
      ]
    },
    {
      "cell_type": "code",
      "metadata": {
        "ExecuteTime": {
          "end_time": "2021-07-31T07:27:28.096177Z",
          "start_time": "2021-07-31T07:27:28.083212Z"
        },
        "id": "jj1TnRkt5fcK"
      },
      "source": [
        "df.at[\"rank1\", [\"Name\",\"address\"]]=[\"Ramesh\",\"Bangalore\"]"
      ],
      "execution_count": null,
      "outputs": []
    },
    {
      "cell_type": "code",
      "metadata": {
        "ExecuteTime": {
          "end_time": "2021-07-31T07:27:28.683077Z",
          "start_time": "2021-07-31T07:27:28.668118Z"
        },
        "id": "7UDn0IwL5fcK",
        "colab": {
          "base_uri": "https://localhost:8080/",
          "height": 142
        },
        "outputId": "34f93626-4456-4c93-a005-56f090c71a91"
      },
      "source": [
        "df"
      ],
      "execution_count": null,
      "outputs": [
        {
          "output_type": "execute_result",
          "data": {
            "text/html": [
              "<div>\n",
              "<style scoped>\n",
              "    .dataframe tbody tr th:only-of-type {\n",
              "        vertical-align: middle;\n",
              "    }\n",
              "\n",
              "    .dataframe tbody tr th {\n",
              "        vertical-align: top;\n",
              "    }\n",
              "\n",
              "    .dataframe thead th {\n",
              "        text-align: right;\n",
              "    }\n",
              "</style>\n",
              "<table border=\"1\" class=\"dataframe\">\n",
              "  <thead>\n",
              "    <tr style=\"text-align: right;\">\n",
              "      <th></th>\n",
              "      <th>Name</th>\n",
              "      <th>address</th>\n",
              "      <th>Age</th>\n",
              "      <th>Revised_Col</th>\n",
              "    </tr>\n",
              "  </thead>\n",
              "  <tbody>\n",
              "    <tr>\n",
              "      <th>rank2</th>\n",
              "      <td>Bunty</td>\n",
              "      <td>Pune</td>\n",
              "      <td>20.0</td>\n",
              "      <td>20.0</td>\n",
              "    </tr>\n",
              "    <tr>\n",
              "      <th>rank3</th>\n",
              "      <td>Ramesh</td>\n",
              "      <td>Pune</td>\n",
              "      <td>30.0</td>\n",
              "      <td>24.0</td>\n",
              "    </tr>\n",
              "    <tr>\n",
              "      <th>rank1</th>\n",
              "      <td>Ramesh</td>\n",
              "      <td>Bangalore</td>\n",
              "      <td>NaN</td>\n",
              "      <td>NaN</td>\n",
              "    </tr>\n",
              "  </tbody>\n",
              "</table>\n",
              "</div>"
            ],
            "text/plain": [
              "         Name    address   Age  Revised_Col\n",
              "rank2   Bunty       Pune  20.0         20.0\n",
              "rank3  Ramesh       Pune  30.0         24.0\n",
              "rank1  Ramesh  Bangalore   NaN          NaN"
            ]
          },
          "metadata": {
            "tags": []
          },
          "execution_count": 158
        }
      ]
    },
    {
      "cell_type": "code",
      "metadata": {
        "ExecuteTime": {
          "end_time": "2021-07-31T07:28:10.539214Z",
          "start_time": "2021-07-31T07:28:10.531235Z"
        },
        "id": "SnIvCoO_5fcK"
      },
      "source": [
        "import numpy as np\n",
        "df.loc[(df.Name == \"Ramesh\") & (df.address==\"Pune\") ,[ \"address\",\"Name\"]] =[\"Bangalore\",\"Rahul\"]"
      ],
      "execution_count": null,
      "outputs": []
    },
    {
      "cell_type": "code",
      "metadata": {
        "ExecuteTime": {
          "end_time": "2021-07-31T07:28:13.219929Z",
          "start_time": "2021-07-31T07:28:13.204970Z"
        },
        "scrolled": false,
        "id": "dlGrNzEq5fcK",
        "colab": {
          "base_uri": "https://localhost:8080/",
          "height": 142
        },
        "outputId": "7cbe6790-271a-4cba-fd8c-3f54192a6acf"
      },
      "source": [
        "df"
      ],
      "execution_count": null,
      "outputs": [
        {
          "output_type": "execute_result",
          "data": {
            "text/html": [
              "<div>\n",
              "<style scoped>\n",
              "    .dataframe tbody tr th:only-of-type {\n",
              "        vertical-align: middle;\n",
              "    }\n",
              "\n",
              "    .dataframe tbody tr th {\n",
              "        vertical-align: top;\n",
              "    }\n",
              "\n",
              "    .dataframe thead th {\n",
              "        text-align: right;\n",
              "    }\n",
              "</style>\n",
              "<table border=\"1\" class=\"dataframe\">\n",
              "  <thead>\n",
              "    <tr style=\"text-align: right;\">\n",
              "      <th></th>\n",
              "      <th>Name</th>\n",
              "      <th>address</th>\n",
              "      <th>Age</th>\n",
              "      <th>Revised_Col</th>\n",
              "    </tr>\n",
              "  </thead>\n",
              "  <tbody>\n",
              "    <tr>\n",
              "      <th>rank2</th>\n",
              "      <td>Bunty</td>\n",
              "      <td>Pune</td>\n",
              "      <td>20.0</td>\n",
              "      <td>20.0</td>\n",
              "    </tr>\n",
              "    <tr>\n",
              "      <th>rank3</th>\n",
              "      <td>Rahul</td>\n",
              "      <td>Bangalore</td>\n",
              "      <td>30.0</td>\n",
              "      <td>24.0</td>\n",
              "    </tr>\n",
              "    <tr>\n",
              "      <th>rank1</th>\n",
              "      <td>Ramesh</td>\n",
              "      <td>Bangalore</td>\n",
              "      <td>NaN</td>\n",
              "      <td>NaN</td>\n",
              "    </tr>\n",
              "  </tbody>\n",
              "</table>\n",
              "</div>"
            ],
            "text/plain": [
              "         Name    address   Age  Revised_Col\n",
              "rank2   Bunty       Pune  20.0         20.0\n",
              "rank3   Rahul  Bangalore  30.0         24.0\n",
              "rank1  Ramesh  Bangalore   NaN          NaN"
            ]
          },
          "metadata": {
            "tags": []
          },
          "execution_count": 160
        }
      ]
    },
    {
      "cell_type": "code",
      "metadata": {
        "ExecuteTime": {
          "end_time": "2021-07-31T07:28:18.692972Z",
          "start_time": "2021-07-31T07:28:18.673007Z"
        },
        "scrolled": false,
        "id": "1wcZ6t665fcK",
        "colab": {
          "base_uri": "https://localhost:8080/",
          "height": 142
        },
        "outputId": "ae1d4d9f-7d6a-4755-d37c-059936528270"
      },
      "source": [
        "df.loc[(df.Name == \"Rahul\") & (df.address==\"Bangalore\") ,[ \"address\",\"Age\"]] =[\"Pune\",np.nan]\n",
        "df"
      ],
      "execution_count": null,
      "outputs": [
        {
          "output_type": "execute_result",
          "data": {
            "text/html": [
              "<div>\n",
              "<style scoped>\n",
              "    .dataframe tbody tr th:only-of-type {\n",
              "        vertical-align: middle;\n",
              "    }\n",
              "\n",
              "    .dataframe tbody tr th {\n",
              "        vertical-align: top;\n",
              "    }\n",
              "\n",
              "    .dataframe thead th {\n",
              "        text-align: right;\n",
              "    }\n",
              "</style>\n",
              "<table border=\"1\" class=\"dataframe\">\n",
              "  <thead>\n",
              "    <tr style=\"text-align: right;\">\n",
              "      <th></th>\n",
              "      <th>Name</th>\n",
              "      <th>address</th>\n",
              "      <th>Age</th>\n",
              "      <th>Revised_Col</th>\n",
              "    </tr>\n",
              "  </thead>\n",
              "  <tbody>\n",
              "    <tr>\n",
              "      <th>rank2</th>\n",
              "      <td>Bunty</td>\n",
              "      <td>Pune</td>\n",
              "      <td>20.0</td>\n",
              "      <td>20.0</td>\n",
              "    </tr>\n",
              "    <tr>\n",
              "      <th>rank3</th>\n",
              "      <td>Rahul</td>\n",
              "      <td>Pune</td>\n",
              "      <td>NaN</td>\n",
              "      <td>24.0</td>\n",
              "    </tr>\n",
              "    <tr>\n",
              "      <th>rank1</th>\n",
              "      <td>Ramesh</td>\n",
              "      <td>Bangalore</td>\n",
              "      <td>NaN</td>\n",
              "      <td>NaN</td>\n",
              "    </tr>\n",
              "  </tbody>\n",
              "</table>\n",
              "</div>"
            ],
            "text/plain": [
              "         Name    address   Age  Revised_Col\n",
              "rank2   Bunty       Pune  20.0         20.0\n",
              "rank3   Rahul       Pune   NaN         24.0\n",
              "rank1  Ramesh  Bangalore   NaN          NaN"
            ]
          },
          "metadata": {
            "tags": []
          },
          "execution_count": 161
        }
      ]
    },
    {
      "cell_type": "code",
      "metadata": {
        "ExecuteTime": {
          "end_time": "2021-07-31T07:28:41.618965Z",
          "start_time": "2021-07-31T07:28:41.598022Z"
        },
        "id": "BDcBfTKx5fcK",
        "colab": {
          "base_uri": "https://localhost:8080/",
          "height": 142
        },
        "outputId": "977dbe54-2395-4e18-dac9-0caccde96c03"
      },
      "source": [
        "df.at[\"rank1\",\"Age\"]=40\n",
        "df"
      ],
      "execution_count": null,
      "outputs": [
        {
          "output_type": "execute_result",
          "data": {
            "text/html": [
              "<div>\n",
              "<style scoped>\n",
              "    .dataframe tbody tr th:only-of-type {\n",
              "        vertical-align: middle;\n",
              "    }\n",
              "\n",
              "    .dataframe tbody tr th {\n",
              "        vertical-align: top;\n",
              "    }\n",
              "\n",
              "    .dataframe thead th {\n",
              "        text-align: right;\n",
              "    }\n",
              "</style>\n",
              "<table border=\"1\" class=\"dataframe\">\n",
              "  <thead>\n",
              "    <tr style=\"text-align: right;\">\n",
              "      <th></th>\n",
              "      <th>Name</th>\n",
              "      <th>address</th>\n",
              "      <th>Age</th>\n",
              "      <th>Revised_Col</th>\n",
              "    </tr>\n",
              "  </thead>\n",
              "  <tbody>\n",
              "    <tr>\n",
              "      <th>rank2</th>\n",
              "      <td>Bunty</td>\n",
              "      <td>Pune</td>\n",
              "      <td>20.0</td>\n",
              "      <td>20.0</td>\n",
              "    </tr>\n",
              "    <tr>\n",
              "      <th>rank3</th>\n",
              "      <td>Rahul</td>\n",
              "      <td>Pune</td>\n",
              "      <td>NaN</td>\n",
              "      <td>24.0</td>\n",
              "    </tr>\n",
              "    <tr>\n",
              "      <th>rank1</th>\n",
              "      <td>Ramesh</td>\n",
              "      <td>Bangalore</td>\n",
              "      <td>40.0</td>\n",
              "      <td>NaN</td>\n",
              "    </tr>\n",
              "  </tbody>\n",
              "</table>\n",
              "</div>"
            ],
            "text/plain": [
              "         Name    address   Age  Revised_Col\n",
              "rank2   Bunty       Pune  20.0         20.0\n",
              "rank3   Rahul       Pune   NaN         24.0\n",
              "rank1  Ramesh  Bangalore  40.0          NaN"
            ]
          },
          "metadata": {
            "tags": []
          },
          "execution_count": 162
        }
      ]
    },
    {
      "cell_type": "code",
      "metadata": {
        "ExecuteTime": {
          "end_time": "2021-07-31T07:28:49.376600Z",
          "start_time": "2021-07-31T07:28:49.358649Z"
        },
        "scrolled": false,
        "id": "pWHAyzv05fcK"
      },
      "source": [
        "df=df.sort_values([\"address\",\"Name\"],ascending=[False,True])\n",
        "#True, False, None"
      ],
      "execution_count": null,
      "outputs": []
    },
    {
      "cell_type": "code",
      "metadata": {
        "ExecuteTime": {
          "end_time": "2021-07-31T07:28:50.319226Z",
          "start_time": "2021-07-31T07:28:50.305236Z"
        },
        "id": "oHbw_vLx5fcL",
        "colab": {
          "base_uri": "https://localhost:8080/",
          "height": 142
        },
        "outputId": "2c2ae1ff-bf90-4005-9e6a-f9516c05b057"
      },
      "source": [
        "df"
      ],
      "execution_count": null,
      "outputs": [
        {
          "output_type": "execute_result",
          "data": {
            "text/html": [
              "<div>\n",
              "<style scoped>\n",
              "    .dataframe tbody tr th:only-of-type {\n",
              "        vertical-align: middle;\n",
              "    }\n",
              "\n",
              "    .dataframe tbody tr th {\n",
              "        vertical-align: top;\n",
              "    }\n",
              "\n",
              "    .dataframe thead th {\n",
              "        text-align: right;\n",
              "    }\n",
              "</style>\n",
              "<table border=\"1\" class=\"dataframe\">\n",
              "  <thead>\n",
              "    <tr style=\"text-align: right;\">\n",
              "      <th></th>\n",
              "      <th>Name</th>\n",
              "      <th>address</th>\n",
              "      <th>Age</th>\n",
              "      <th>Revised_Col</th>\n",
              "    </tr>\n",
              "  </thead>\n",
              "  <tbody>\n",
              "    <tr>\n",
              "      <th>rank2</th>\n",
              "      <td>Bunty</td>\n",
              "      <td>Pune</td>\n",
              "      <td>20.0</td>\n",
              "      <td>20.0</td>\n",
              "    </tr>\n",
              "    <tr>\n",
              "      <th>rank3</th>\n",
              "      <td>Rahul</td>\n",
              "      <td>Pune</td>\n",
              "      <td>NaN</td>\n",
              "      <td>24.0</td>\n",
              "    </tr>\n",
              "    <tr>\n",
              "      <th>rank1</th>\n",
              "      <td>Ramesh</td>\n",
              "      <td>Bangalore</td>\n",
              "      <td>40.0</td>\n",
              "      <td>NaN</td>\n",
              "    </tr>\n",
              "  </tbody>\n",
              "</table>\n",
              "</div>"
            ],
            "text/plain": [
              "         Name    address   Age  Revised_Col\n",
              "rank2   Bunty       Pune  20.0         20.0\n",
              "rank3   Rahul       Pune   NaN         24.0\n",
              "rank1  Ramesh  Bangalore  40.0          NaN"
            ]
          },
          "metadata": {
            "tags": []
          },
          "execution_count": 164
        }
      ]
    },
    {
      "cell_type": "code",
      "metadata": {
        "ExecuteTime": {
          "end_time": "2021-07-31T07:29:10.597893Z",
          "start_time": "2021-07-31T07:29:10.575952Z"
        },
        "id": "fMwmhjkf5fcL",
        "colab": {
          "base_uri": "https://localhost:8080/",
          "height": 142
        },
        "outputId": "ad2a8d25-ccb1-4971-b1a1-dd2dd00a38de"
      },
      "source": [
        "df.sort_index(axis=1,ascending=True)"
      ],
      "execution_count": null,
      "outputs": [
        {
          "output_type": "execute_result",
          "data": {
            "text/html": [
              "<div>\n",
              "<style scoped>\n",
              "    .dataframe tbody tr th:only-of-type {\n",
              "        vertical-align: middle;\n",
              "    }\n",
              "\n",
              "    .dataframe tbody tr th {\n",
              "        vertical-align: top;\n",
              "    }\n",
              "\n",
              "    .dataframe thead th {\n",
              "        text-align: right;\n",
              "    }\n",
              "</style>\n",
              "<table border=\"1\" class=\"dataframe\">\n",
              "  <thead>\n",
              "    <tr style=\"text-align: right;\">\n",
              "      <th></th>\n",
              "      <th>Age</th>\n",
              "      <th>Name</th>\n",
              "      <th>Revised_Col</th>\n",
              "      <th>address</th>\n",
              "    </tr>\n",
              "  </thead>\n",
              "  <tbody>\n",
              "    <tr>\n",
              "      <th>rank2</th>\n",
              "      <td>20.0</td>\n",
              "      <td>Bunty</td>\n",
              "      <td>20.0</td>\n",
              "      <td>Pune</td>\n",
              "    </tr>\n",
              "    <tr>\n",
              "      <th>rank3</th>\n",
              "      <td>NaN</td>\n",
              "      <td>Rahul</td>\n",
              "      <td>24.0</td>\n",
              "      <td>Pune</td>\n",
              "    </tr>\n",
              "    <tr>\n",
              "      <th>rank1</th>\n",
              "      <td>40.0</td>\n",
              "      <td>Ramesh</td>\n",
              "      <td>NaN</td>\n",
              "      <td>Bangalore</td>\n",
              "    </tr>\n",
              "  </tbody>\n",
              "</table>\n",
              "</div>"
            ],
            "text/plain": [
              "        Age    Name  Revised_Col    address\n",
              "rank2  20.0   Bunty         20.0       Pune\n",
              "rank3   NaN   Rahul         24.0       Pune\n",
              "rank1  40.0  Ramesh          NaN  Bangalore"
            ]
          },
          "metadata": {
            "tags": []
          },
          "execution_count": 165
        }
      ]
    },
    {
      "cell_type": "code",
      "metadata": {
        "ExecuteTime": {
          "end_time": "2021-07-31T07:29:11.022483Z",
          "start_time": "2021-07-31T07:29:11.002537Z"
        },
        "id": "nuPT49MN5fcL",
        "colab": {
          "base_uri": "https://localhost:8080/",
          "height": 142
        },
        "outputId": "b665a9b8-d136-4570-8c9f-9906a1bd98e0"
      },
      "source": [
        "df"
      ],
      "execution_count": null,
      "outputs": [
        {
          "output_type": "execute_result",
          "data": {
            "text/html": [
              "<div>\n",
              "<style scoped>\n",
              "    .dataframe tbody tr th:only-of-type {\n",
              "        vertical-align: middle;\n",
              "    }\n",
              "\n",
              "    .dataframe tbody tr th {\n",
              "        vertical-align: top;\n",
              "    }\n",
              "\n",
              "    .dataframe thead th {\n",
              "        text-align: right;\n",
              "    }\n",
              "</style>\n",
              "<table border=\"1\" class=\"dataframe\">\n",
              "  <thead>\n",
              "    <tr style=\"text-align: right;\">\n",
              "      <th></th>\n",
              "      <th>Name</th>\n",
              "      <th>address</th>\n",
              "      <th>Age</th>\n",
              "      <th>Revised_Col</th>\n",
              "    </tr>\n",
              "  </thead>\n",
              "  <tbody>\n",
              "    <tr>\n",
              "      <th>rank2</th>\n",
              "      <td>Bunty</td>\n",
              "      <td>Pune</td>\n",
              "      <td>20.0</td>\n",
              "      <td>20.0</td>\n",
              "    </tr>\n",
              "    <tr>\n",
              "      <th>rank3</th>\n",
              "      <td>Rahul</td>\n",
              "      <td>Pune</td>\n",
              "      <td>NaN</td>\n",
              "      <td>24.0</td>\n",
              "    </tr>\n",
              "    <tr>\n",
              "      <th>rank1</th>\n",
              "      <td>Ramesh</td>\n",
              "      <td>Bangalore</td>\n",
              "      <td>40.0</td>\n",
              "      <td>NaN</td>\n",
              "    </tr>\n",
              "  </tbody>\n",
              "</table>\n",
              "</div>"
            ],
            "text/plain": [
              "         Name    address   Age  Revised_Col\n",
              "rank2   Bunty       Pune  20.0         20.0\n",
              "rank3   Rahul       Pune   NaN         24.0\n",
              "rank1  Ramesh  Bangalore  40.0          NaN"
            ]
          },
          "metadata": {
            "tags": []
          },
          "execution_count": 166
        }
      ]
    },
    {
      "cell_type": "code",
      "metadata": {
        "id": "_0tyUqsl5fcL"
      },
      "source": [],
      "execution_count": null,
      "outputs": []
    },
    {
      "cell_type": "code",
      "metadata": {
        "ExecuteTime": {
          "end_time": "2021-07-31T07:29:27.655040Z",
          "start_time": "2021-07-31T07:29:27.641077Z"
        },
        "id": "g4pk-Gc65fcL"
      },
      "source": [
        "pd.set_option(\"display.max_columns\",None)\n",
        "#pd.set_option('display.max_rows',None)"
      ],
      "execution_count": null,
      "outputs": []
    },
    {
      "cell_type": "code",
      "metadata": {
        "ExecuteTime": {
          "end_time": "2021-07-31T07:29:27.909557Z",
          "start_time": "2021-07-31T07:29:27.895592Z"
        },
        "id": "QdOQ7LLf5fcL"
      },
      "source": [
        "?pd.set_option"
      ],
      "execution_count": null,
      "outputs": []
    },
    {
      "cell_type": "code",
      "metadata": {
        "ExecuteTime": {
          "end_time": "2021-07-31T07:29:43.656662Z",
          "start_time": "2021-07-31T07:29:43.591837Z"
        },
        "id": "nvNQ_AEJ5fcL",
        "colab": {
          "base_uri": "https://localhost:8080/",
          "height": 358
        },
        "outputId": "04cc9dc3-0b28-4429-d17f-4e08541daa94"
      },
      "source": [
        "#Titanic data\n",
        "import pandas as pd\n",
        "\n",
        "titanic_df=pd.read_excel(r\"Titanic_Survival_Train.xls\",index_col=0,header=0)"
      ],
      "execution_count": null,
      "outputs": [
        {
          "output_type": "error",
          "ename": "FileNotFoundError",
          "evalue": "ignored",
          "traceback": [
            "\u001b[0;31m---------------------------------------------------------------------------\u001b[0m",
            "\u001b[0;31mFileNotFoundError\u001b[0m                         Traceback (most recent call last)",
            "\u001b[0;32m<ipython-input-194-db11fa474373>\u001b[0m in \u001b[0;36m<module>\u001b[0;34m()\u001b[0m\n\u001b[1;32m      2\u001b[0m \u001b[0;32mimport\u001b[0m \u001b[0mpandas\u001b[0m \u001b[0;32mas\u001b[0m \u001b[0mpd\u001b[0m\u001b[0;34m\u001b[0m\u001b[0;34m\u001b[0m\u001b[0m\n\u001b[1;32m      3\u001b[0m \u001b[0;34m\u001b[0m\u001b[0m\n\u001b[0;32m----> 4\u001b[0;31m \u001b[0mtitanic_df\u001b[0m\u001b[0;34m=\u001b[0m\u001b[0mpd\u001b[0m\u001b[0;34m.\u001b[0m\u001b[0mread_excel\u001b[0m\u001b[0;34m(\u001b[0m\u001b[0;34mr\"Titanic_Survival_Train.xls\"\u001b[0m\u001b[0;34m,\u001b[0m\u001b[0mindex_col\u001b[0m\u001b[0;34m=\u001b[0m\u001b[0;36m0\u001b[0m\u001b[0;34m,\u001b[0m\u001b[0mheader\u001b[0m\u001b[0;34m=\u001b[0m\u001b[0;36m0\u001b[0m\u001b[0;34m)\u001b[0m\u001b[0;34m\u001b[0m\u001b[0;34m\u001b[0m\u001b[0m\n\u001b[0m",
            "\u001b[0;32m/usr/local/lib/python3.7/dist-packages/pandas/util/_decorators.py\u001b[0m in \u001b[0;36mwrapper\u001b[0;34m(*args, **kwargs)\u001b[0m\n\u001b[1;32m    294\u001b[0m                 )\n\u001b[1;32m    295\u001b[0m                 \u001b[0mwarnings\u001b[0m\u001b[0;34m.\u001b[0m\u001b[0mwarn\u001b[0m\u001b[0;34m(\u001b[0m\u001b[0mmsg\u001b[0m\u001b[0;34m,\u001b[0m \u001b[0mFutureWarning\u001b[0m\u001b[0;34m,\u001b[0m \u001b[0mstacklevel\u001b[0m\u001b[0;34m=\u001b[0m\u001b[0mstacklevel\u001b[0m\u001b[0;34m)\u001b[0m\u001b[0;34m\u001b[0m\u001b[0;34m\u001b[0m\u001b[0m\n\u001b[0;32m--> 296\u001b[0;31m             \u001b[0;32mreturn\u001b[0m \u001b[0mfunc\u001b[0m\u001b[0;34m(\u001b[0m\u001b[0;34m*\u001b[0m\u001b[0margs\u001b[0m\u001b[0;34m,\u001b[0m \u001b[0;34m**\u001b[0m\u001b[0mkwargs\u001b[0m\u001b[0;34m)\u001b[0m\u001b[0;34m\u001b[0m\u001b[0;34m\u001b[0m\u001b[0m\n\u001b[0m\u001b[1;32m    297\u001b[0m \u001b[0;34m\u001b[0m\u001b[0m\n\u001b[1;32m    298\u001b[0m         \u001b[0;32mreturn\u001b[0m \u001b[0mwrapper\u001b[0m\u001b[0;34m\u001b[0m\u001b[0;34m\u001b[0m\u001b[0m\n",
            "\u001b[0;32m/usr/local/lib/python3.7/dist-packages/pandas/io/excel/_base.py\u001b[0m in \u001b[0;36mread_excel\u001b[0;34m(io, sheet_name, header, names, index_col, usecols, squeeze, dtype, engine, converters, true_values, false_values, skiprows, nrows, na_values, keep_default_na, na_filter, verbose, parse_dates, date_parser, thousands, comment, skipfooter, convert_float, mangle_dupe_cols)\u001b[0m\n\u001b[1;32m    302\u001b[0m \u001b[0;34m\u001b[0m\u001b[0m\n\u001b[1;32m    303\u001b[0m     \u001b[0;32mif\u001b[0m \u001b[0;32mnot\u001b[0m \u001b[0misinstance\u001b[0m\u001b[0;34m(\u001b[0m\u001b[0mio\u001b[0m\u001b[0;34m,\u001b[0m \u001b[0mExcelFile\u001b[0m\u001b[0;34m)\u001b[0m\u001b[0;34m:\u001b[0m\u001b[0;34m\u001b[0m\u001b[0;34m\u001b[0m\u001b[0m\n\u001b[0;32m--> 304\u001b[0;31m         \u001b[0mio\u001b[0m \u001b[0;34m=\u001b[0m \u001b[0mExcelFile\u001b[0m\u001b[0;34m(\u001b[0m\u001b[0mio\u001b[0m\u001b[0;34m,\u001b[0m \u001b[0mengine\u001b[0m\u001b[0;34m=\u001b[0m\u001b[0mengine\u001b[0m\u001b[0;34m)\u001b[0m\u001b[0;34m\u001b[0m\u001b[0;34m\u001b[0m\u001b[0m\n\u001b[0m\u001b[1;32m    305\u001b[0m     \u001b[0;32melif\u001b[0m \u001b[0mengine\u001b[0m \u001b[0;32mand\u001b[0m \u001b[0mengine\u001b[0m \u001b[0;34m!=\u001b[0m \u001b[0mio\u001b[0m\u001b[0;34m.\u001b[0m\u001b[0mengine\u001b[0m\u001b[0;34m:\u001b[0m\u001b[0;34m\u001b[0m\u001b[0;34m\u001b[0m\u001b[0m\n\u001b[1;32m    306\u001b[0m         raise ValueError(\n",
            "\u001b[0;32m/usr/local/lib/python3.7/dist-packages/pandas/io/excel/_base.py\u001b[0m in \u001b[0;36m__init__\u001b[0;34m(self, path_or_buffer, engine)\u001b[0m\n\u001b[1;32m    865\u001b[0m         \u001b[0mself\u001b[0m\u001b[0;34m.\u001b[0m\u001b[0m_io\u001b[0m \u001b[0;34m=\u001b[0m \u001b[0mstringify_path\u001b[0m\u001b[0;34m(\u001b[0m\u001b[0mpath_or_buffer\u001b[0m\u001b[0;34m)\u001b[0m\u001b[0;34m\u001b[0m\u001b[0;34m\u001b[0m\u001b[0m\n\u001b[1;32m    866\u001b[0m \u001b[0;34m\u001b[0m\u001b[0m\n\u001b[0;32m--> 867\u001b[0;31m         \u001b[0mself\u001b[0m\u001b[0;34m.\u001b[0m\u001b[0m_reader\u001b[0m \u001b[0;34m=\u001b[0m \u001b[0mself\u001b[0m\u001b[0;34m.\u001b[0m\u001b[0m_engines\u001b[0m\u001b[0;34m[\u001b[0m\u001b[0mengine\u001b[0m\u001b[0;34m]\u001b[0m\u001b[0;34m(\u001b[0m\u001b[0mself\u001b[0m\u001b[0;34m.\u001b[0m\u001b[0m_io\u001b[0m\u001b[0;34m)\u001b[0m\u001b[0;34m\u001b[0m\u001b[0;34m\u001b[0m\u001b[0m\n\u001b[0m\u001b[1;32m    868\u001b[0m \u001b[0;34m\u001b[0m\u001b[0m\n\u001b[1;32m    869\u001b[0m     \u001b[0;32mdef\u001b[0m \u001b[0m__fspath__\u001b[0m\u001b[0;34m(\u001b[0m\u001b[0mself\u001b[0m\u001b[0;34m)\u001b[0m\u001b[0;34m:\u001b[0m\u001b[0;34m\u001b[0m\u001b[0;34m\u001b[0m\u001b[0m\n",
            "\u001b[0;32m/usr/local/lib/python3.7/dist-packages/pandas/io/excel/_xlrd.py\u001b[0m in \u001b[0;36m__init__\u001b[0;34m(self, filepath_or_buffer)\u001b[0m\n\u001b[1;32m     20\u001b[0m         \u001b[0merr_msg\u001b[0m \u001b[0;34m=\u001b[0m \u001b[0;34m\"Install xlrd >= 1.0.0 for Excel support\"\u001b[0m\u001b[0;34m\u001b[0m\u001b[0;34m\u001b[0m\u001b[0m\n\u001b[1;32m     21\u001b[0m         \u001b[0mimport_optional_dependency\u001b[0m\u001b[0;34m(\u001b[0m\u001b[0;34m\"xlrd\"\u001b[0m\u001b[0;34m,\u001b[0m \u001b[0mextra\u001b[0m\u001b[0;34m=\u001b[0m\u001b[0merr_msg\u001b[0m\u001b[0;34m)\u001b[0m\u001b[0;34m\u001b[0m\u001b[0;34m\u001b[0m\u001b[0m\n\u001b[0;32m---> 22\u001b[0;31m         \u001b[0msuper\u001b[0m\u001b[0;34m(\u001b[0m\u001b[0;34m)\u001b[0m\u001b[0;34m.\u001b[0m\u001b[0m__init__\u001b[0m\u001b[0;34m(\u001b[0m\u001b[0mfilepath_or_buffer\u001b[0m\u001b[0;34m)\u001b[0m\u001b[0;34m\u001b[0m\u001b[0;34m\u001b[0m\u001b[0m\n\u001b[0m\u001b[1;32m     23\u001b[0m \u001b[0;34m\u001b[0m\u001b[0m\n\u001b[1;32m     24\u001b[0m     \u001b[0;34m@\u001b[0m\u001b[0mproperty\u001b[0m\u001b[0;34m\u001b[0m\u001b[0;34m\u001b[0m\u001b[0m\n",
            "\u001b[0;32m/usr/local/lib/python3.7/dist-packages/pandas/io/excel/_base.py\u001b[0m in \u001b[0;36m__init__\u001b[0;34m(self, filepath_or_buffer)\u001b[0m\n\u001b[1;32m    351\u001b[0m             \u001b[0mself\u001b[0m\u001b[0;34m.\u001b[0m\u001b[0mbook\u001b[0m \u001b[0;34m=\u001b[0m \u001b[0mself\u001b[0m\u001b[0;34m.\u001b[0m\u001b[0mload_workbook\u001b[0m\u001b[0;34m(\u001b[0m\u001b[0mfilepath_or_buffer\u001b[0m\u001b[0;34m)\u001b[0m\u001b[0;34m\u001b[0m\u001b[0;34m\u001b[0m\u001b[0m\n\u001b[1;32m    352\u001b[0m         \u001b[0;32melif\u001b[0m \u001b[0misinstance\u001b[0m\u001b[0;34m(\u001b[0m\u001b[0mfilepath_or_buffer\u001b[0m\u001b[0;34m,\u001b[0m \u001b[0mstr\u001b[0m\u001b[0;34m)\u001b[0m\u001b[0;34m:\u001b[0m\u001b[0;34m\u001b[0m\u001b[0;34m\u001b[0m\u001b[0m\n\u001b[0;32m--> 353\u001b[0;31m             \u001b[0mself\u001b[0m\u001b[0;34m.\u001b[0m\u001b[0mbook\u001b[0m \u001b[0;34m=\u001b[0m \u001b[0mself\u001b[0m\u001b[0;34m.\u001b[0m\u001b[0mload_workbook\u001b[0m\u001b[0;34m(\u001b[0m\u001b[0mfilepath_or_buffer\u001b[0m\u001b[0;34m)\u001b[0m\u001b[0;34m\u001b[0m\u001b[0;34m\u001b[0m\u001b[0m\n\u001b[0m\u001b[1;32m    354\u001b[0m         \u001b[0;32melif\u001b[0m \u001b[0misinstance\u001b[0m\u001b[0;34m(\u001b[0m\u001b[0mfilepath_or_buffer\u001b[0m\u001b[0;34m,\u001b[0m \u001b[0mbytes\u001b[0m\u001b[0;34m)\u001b[0m\u001b[0;34m:\u001b[0m\u001b[0;34m\u001b[0m\u001b[0;34m\u001b[0m\u001b[0m\n\u001b[1;32m    355\u001b[0m             \u001b[0mself\u001b[0m\u001b[0;34m.\u001b[0m\u001b[0mbook\u001b[0m \u001b[0;34m=\u001b[0m \u001b[0mself\u001b[0m\u001b[0;34m.\u001b[0m\u001b[0mload_workbook\u001b[0m\u001b[0;34m(\u001b[0m\u001b[0mBytesIO\u001b[0m\u001b[0;34m(\u001b[0m\u001b[0mfilepath_or_buffer\u001b[0m\u001b[0;34m)\u001b[0m\u001b[0;34m)\u001b[0m\u001b[0;34m\u001b[0m\u001b[0;34m\u001b[0m\u001b[0m\n",
            "\u001b[0;32m/usr/local/lib/python3.7/dist-packages/pandas/io/excel/_xlrd.py\u001b[0m in \u001b[0;36mload_workbook\u001b[0;34m(self, filepath_or_buffer)\u001b[0m\n\u001b[1;32m     35\u001b[0m             \u001b[0;32mreturn\u001b[0m \u001b[0mopen_workbook\u001b[0m\u001b[0;34m(\u001b[0m\u001b[0mfile_contents\u001b[0m\u001b[0;34m=\u001b[0m\u001b[0mdata\u001b[0m\u001b[0;34m)\u001b[0m\u001b[0;34m\u001b[0m\u001b[0;34m\u001b[0m\u001b[0m\n\u001b[1;32m     36\u001b[0m         \u001b[0;32melse\u001b[0m\u001b[0;34m:\u001b[0m\u001b[0;34m\u001b[0m\u001b[0;34m\u001b[0m\u001b[0m\n\u001b[0;32m---> 37\u001b[0;31m             \u001b[0;32mreturn\u001b[0m \u001b[0mopen_workbook\u001b[0m\u001b[0;34m(\u001b[0m\u001b[0mfilepath_or_buffer\u001b[0m\u001b[0;34m)\u001b[0m\u001b[0;34m\u001b[0m\u001b[0;34m\u001b[0m\u001b[0m\n\u001b[0m\u001b[1;32m     38\u001b[0m \u001b[0;34m\u001b[0m\u001b[0m\n\u001b[1;32m     39\u001b[0m     \u001b[0;34m@\u001b[0m\u001b[0mproperty\u001b[0m\u001b[0;34m\u001b[0m\u001b[0;34m\u001b[0m\u001b[0m\n",
            "\u001b[0;32m/usr/local/lib/python3.7/dist-packages/xlrd/__init__.py\u001b[0m in \u001b[0;36mopen_workbook\u001b[0;34m(filename, logfile, verbosity, use_mmap, file_contents, encoding_override, formatting_info, on_demand, ragged_rows)\u001b[0m\n\u001b[1;32m    114\u001b[0m         \u001b[0mpeek\u001b[0m \u001b[0;34m=\u001b[0m \u001b[0mfile_contents\u001b[0m\u001b[0;34m[\u001b[0m\u001b[0;34m:\u001b[0m\u001b[0mpeeksz\u001b[0m\u001b[0;34m]\u001b[0m\u001b[0;34m\u001b[0m\u001b[0;34m\u001b[0m\u001b[0m\n\u001b[1;32m    115\u001b[0m     \u001b[0;32melse\u001b[0m\u001b[0;34m:\u001b[0m\u001b[0;34m\u001b[0m\u001b[0;34m\u001b[0m\u001b[0m\n\u001b[0;32m--> 116\u001b[0;31m         \u001b[0;32mwith\u001b[0m \u001b[0mopen\u001b[0m\u001b[0;34m(\u001b[0m\u001b[0mfilename\u001b[0m\u001b[0;34m,\u001b[0m \u001b[0;34m\"rb\"\u001b[0m\u001b[0;34m)\u001b[0m \u001b[0;32mas\u001b[0m \u001b[0mf\u001b[0m\u001b[0;34m:\u001b[0m\u001b[0;34m\u001b[0m\u001b[0;34m\u001b[0m\u001b[0m\n\u001b[0m\u001b[1;32m    117\u001b[0m             \u001b[0mpeek\u001b[0m \u001b[0;34m=\u001b[0m \u001b[0mf\u001b[0m\u001b[0;34m.\u001b[0m\u001b[0mread\u001b[0m\u001b[0;34m(\u001b[0m\u001b[0mpeeksz\u001b[0m\u001b[0;34m)\u001b[0m\u001b[0;34m\u001b[0m\u001b[0;34m\u001b[0m\u001b[0m\n\u001b[1;32m    118\u001b[0m     \u001b[0;32mif\u001b[0m \u001b[0mpeek\u001b[0m \u001b[0;34m==\u001b[0m \u001b[0;34mb\"PK\\x03\\x04\"\u001b[0m\u001b[0;34m:\u001b[0m \u001b[0;31m# a ZIP file\u001b[0m\u001b[0;34m\u001b[0m\u001b[0;34m\u001b[0m\u001b[0m\n",
            "\u001b[0;31mFileNotFoundError\u001b[0m: [Errno 2] No such file or directory: 'Titanic_Survival_Train.xls'"
          ]
        }
      ]
    },
    {
      "cell_type": "code",
      "metadata": {
        "ExecuteTime": {
          "end_time": "2021-07-31T07:29:44.406598Z",
          "start_time": "2021-07-31T07:29:44.381666Z"
        },
        "id": "bWJzT5PN5fcL"
      },
      "source": [
        "titanic_df"
      ],
      "execution_count": null,
      "outputs": []
    },
    {
      "cell_type": "code",
      "metadata": {
        "ExecuteTime": {
          "end_time": "2021-07-31T07:29:44.897171Z",
          "start_time": "2021-07-31T07:29:44.877224Z"
        },
        "id": "PG5EIbVe5fcL"
      },
      "source": [
        "titanic_df.head(9)"
      ],
      "execution_count": null,
      "outputs": []
    },
    {
      "cell_type": "code",
      "metadata": {
        "ExecuteTime": {
          "end_time": "2021-07-31T07:29:45.526072Z",
          "start_time": "2021-07-31T07:29:45.514104Z"
        },
        "id": "DeMgCnXF5fcL"
      },
      "source": [
        "titanic_df.tail(15)"
      ],
      "execution_count": null,
      "outputs": []
    },
    {
      "cell_type": "code",
      "metadata": {
        "ExecuteTime": {
          "end_time": "2021-07-31T07:29:46.063538Z",
          "start_time": "2021-07-31T07:29:46.045545Z"
        },
        "id": "YZle7QX95fcL"
      },
      "source": [
        "titanic_df.dtypes"
      ],
      "execution_count": null,
      "outputs": []
    },
    {
      "cell_type": "code",
      "metadata": {
        "ExecuteTime": {
          "end_time": "2021-07-31T07:29:46.618671Z",
          "start_time": "2021-07-31T07:29:46.604668Z"
        },
        "id": "o2DcaCsZ5fcL"
      },
      "source": [
        "titanic_df.shape"
      ],
      "execution_count": null,
      "outputs": []
    },
    {
      "cell_type": "code",
      "metadata": {
        "ExecuteTime": {
          "end_time": "2021-07-31T07:29:47.011876Z",
          "start_time": "2021-07-31T07:29:46.988892Z"
        },
        "id": "5Jh9KJeE5fcL"
      },
      "source": [
        "titanic_df.info()"
      ],
      "execution_count": null,
      "outputs": []
    },
    {
      "cell_type": "code",
      "metadata": {
        "ExecuteTime": {
          "end_time": "2021-07-31T07:29:47.630200Z",
          "start_time": "2021-07-31T07:29:47.597288Z"
        },
        "id": "sm5go_Kk5fcL"
      },
      "source": [
        "titanic_df.describe(include=\"all\")"
      ],
      "execution_count": null,
      "outputs": []
    },
    {
      "cell_type": "code",
      "metadata": {
        "ExecuteTime": {
          "end_time": "2021-07-31T07:29:49.748339Z",
          "start_time": "2021-07-31T07:29:49.737369Z"
        },
        "id": "_gxv2PXl5fcL"
      },
      "source": [
        "titanic_df.Age.describe()"
      ],
      "execution_count": null,
      "outputs": []
    },
    {
      "cell_type": "code",
      "metadata": {
        "ExecuteTime": {
          "end_time": "2021-07-31T07:29:50.060305Z",
          "start_time": "2021-07-31T07:29:50.054363Z"
        },
        "scrolled": true,
        "id": "oO86sGjx5fcL"
      },
      "source": [
        "titanic_df.Cabin.mode()[0]"
      ],
      "execution_count": null,
      "outputs": []
    },
    {
      "cell_type": "code",
      "metadata": {
        "ExecuteTime": {
          "end_time": "2021-07-31T07:29:51.410338Z",
          "start_time": "2021-07-31T07:29:51.399308Z"
        },
        "id": "Gcw_Ebua5fcL"
      },
      "source": [
        "titanic_df[\"Embarked\"].describe()"
      ],
      "execution_count": null,
      "outputs": []
    },
    {
      "cell_type": "code",
      "metadata": {
        "ExecuteTime": {
          "end_time": "2021-07-31T07:30:20.906869Z",
          "start_time": "2021-07-31T07:30:20.793095Z"
        },
        "id": "PfQ1TOul5fcM"
      },
      "source": [
        "titanic_df.boxplot(column=\"Age\")"
      ],
      "execution_count": null,
      "outputs": []
    },
    {
      "cell_type": "code",
      "metadata": {
        "ExecuteTime": {
          "end_time": "2021-07-31T07:30:25.749026Z",
          "start_time": "2021-07-31T07:30:25.740051Z"
        },
        "id": "ZCySnYnH5fcM"
      },
      "source": [
        "titanic_df.Sex.nunique()"
      ],
      "execution_count": null,
      "outputs": []
    },
    {
      "cell_type": "code",
      "metadata": {
        "ExecuteTime": {
          "end_time": "2021-07-31T07:30:26.174795Z",
          "start_time": "2021-07-31T07:30:26.155846Z"
        },
        "id": "GJpMKTkK5fcM"
      },
      "source": [
        "titanic_df.Age.std()"
      ],
      "execution_count": null,
      "outputs": []
    },
    {
      "cell_type": "code",
      "metadata": {
        "ExecuteTime": {
          "end_time": "2021-07-31T07:30:27.000742Z",
          "start_time": "2021-07-31T07:30:26.992739Z"
        },
        "id": "-gLMJaQQ5fcM"
      },
      "source": [
        "print(titanic_df[\"Cabin\"].mode()[1])\n",
        "#print(titanic_df[\"Embarked\"].mode()[0])"
      ],
      "execution_count": null,
      "outputs": []
    },
    {
      "cell_type": "code",
      "metadata": {
        "id": "TdIgqBbs5fcM"
      },
      "source": [],
      "execution_count": null,
      "outputs": []
    },
    {
      "cell_type": "code",
      "metadata": {
        "id": "mEIT_gb35fcM"
      },
      "source": [],
      "execution_count": null,
      "outputs": []
    },
    {
      "cell_type": "code",
      "metadata": {
        "id": "ZG2b-17g5fcM"
      },
      "source": [
        "\"\"\"\n",
        "Continuous-Numerical-->describe()\n",
        "Discrete-Numerical,Categorical-->value_counts(),crosstab(),unique()\n",
        "\"\"\""
      ],
      "execution_count": null,
      "outputs": []
    },
    {
      "cell_type": "code",
      "metadata": {
        "ExecuteTime": {
          "end_time": "2021-07-31T07:30:46.768693Z",
          "start_time": "2021-07-31T07:30:46.763701Z"
        },
        "scrolled": false,
        "id": "5Qc4S8Pc5fcM"
      },
      "source": [
        "##tabulation\n",
        "titanic_df[\"Sex\"].value_counts()"
      ],
      "execution_count": null,
      "outputs": []
    },
    {
      "cell_type": "code",
      "metadata": {
        "ExecuteTime": {
          "end_time": "2021-07-31T07:30:47.770239Z",
          "start_time": "2021-07-31T07:30:47.756277Z"
        },
        "id": "x2jqVYAQ5fcM"
      },
      "source": [
        "titanic_df.Pclass.unique()"
      ],
      "execution_count": null,
      "outputs": []
    },
    {
      "cell_type": "code",
      "metadata": {
        "ExecuteTime": {
          "end_time": "2021-07-31T07:30:51.331116Z",
          "start_time": "2021-07-31T07:30:51.323138Z"
        },
        "id": "IoErJiV75fcM"
      },
      "source": [
        "titanic_df.Pclass.value_counts()"
      ],
      "execution_count": null,
      "outputs": []
    },
    {
      "cell_type": "code",
      "metadata": {
        "ExecuteTime": {
          "end_time": "2021-07-31T07:30:52.462757Z",
          "start_time": "2021-07-31T07:30:52.454778Z"
        },
        "id": "hJj2HGgo5fcM"
      },
      "source": [
        "titanic_df.Pclass.value_counts(normalize=True)"
      ],
      "execution_count": null,
      "outputs": []
    },
    {
      "cell_type": "code",
      "metadata": {
        "ExecuteTime": {
          "end_time": "2021-07-31T07:30:58.541560Z",
          "start_time": "2021-07-31T07:30:58.524557Z"
        },
        "id": "ySGNW6b05fcM"
      },
      "source": [
        "titanic_df.Pclass.value_counts()/len(titanic_df)*100\n"
      ],
      "execution_count": null,
      "outputs": []
    },
    {
      "cell_type": "code",
      "metadata": {
        "ExecuteTime": {
          "end_time": "2021-07-31T07:31:06.382104Z",
          "start_time": "2021-07-31T07:31:06.328269Z"
        },
        "id": "_bbUyDDZ5fcM"
      },
      "source": [
        "pd.crosstab(titanic_df['Sex'],titanic_df[\"Survived\"])"
      ],
      "execution_count": null,
      "outputs": []
    },
    {
      "cell_type": "code",
      "metadata": {
        "ExecuteTime": {
          "end_time": "2021-07-31T07:31:06.778247Z",
          "start_time": "2021-07-31T07:31:06.730297Z"
        },
        "id": "AafTMn5w5fcM"
      },
      "source": [
        "pd.crosstab(titanic_df['Pclass'],titanic_df['Survived'],\n",
        "            margins=True,margins_name=\"Total\")"
      ],
      "execution_count": null,
      "outputs": []
    },
    {
      "cell_type": "code",
      "metadata": {
        "id": "TgIquc8j5fcM"
      },
      "source": [
        "\"\"\"\n",
        "Subsetting the dataframe:\n",
        "1. Index position wise -->loc,iloc\n",
        "2. conditional filtering-->conditions\n",
        "\"\"\""
      ],
      "execution_count": null,
      "outputs": []
    },
    {
      "cell_type": "code",
      "metadata": {
        "ExecuteTime": {
          "end_time": "2021-07-31T07:31:36.110974Z",
          "start_time": "2021-07-31T07:31:36.086041Z"
        },
        "id": "lAeMPLrh5fcM"
      },
      "source": [
        "#filtering\n",
        "#Passengers who have age greater than 60\n",
        "\n",
        "df_agemorethan60=titanic_df[titanic_df['Age']>60]\n",
        "df_agemorethan60"
      ],
      "execution_count": null,
      "outputs": []
    },
    {
      "cell_type": "code",
      "metadata": {
        "ExecuteTime": {
          "end_time": "2021-07-31T07:31:48.875227Z",
          "start_time": "2021-07-31T07:31:48.861206Z"
        },
        "id": "9OGtrzdO5fcM"
      },
      "source": [
        "#Passengers whose age is more than 60 and are male and they survived\n",
        "my_df=titanic_df[(titanic_df['Age']>60)&(titanic_df['Sex']=='male')&\n",
        "           (titanic_df['Survived']==1)]"
      ],
      "execution_count": null,
      "outputs": []
    },
    {
      "cell_type": "code",
      "metadata": {
        "ExecuteTime": {
          "end_time": "2021-07-31T07:31:49.203917Z",
          "start_time": "2021-07-31T07:31:49.190952Z"
        },
        "id": "oYktuSSx5fcM"
      },
      "source": [
        "my_df"
      ],
      "execution_count": null,
      "outputs": []
    },
    {
      "cell_type": "code",
      "metadata": {
        "ExecuteTime": {
          "end_time": "2021-07-31T07:31:51.620369Z",
          "start_time": "2021-07-31T07:31:51.598383Z"
        },
        "scrolled": true,
        "id": "UFb_aiIY5fcN"
      },
      "source": [
        "#Passengers whose age is more than 60 and are male and they survived\n",
        "my_df=titanic_df.loc[(titanic_df['Age']>60)&(titanic_df['Sex']=='male')&\n",
        "           (titanic_df['Survived']==1),[\"Age\",\"Sex\",\"Pclass\",\"Survived\"]]\n",
        "my_df.shape"
      ],
      "execution_count": null,
      "outputs": []
    },
    {
      "cell_type": "code",
      "metadata": {
        "ExecuteTime": {
          "end_time": "2021-07-31T07:31:52.173484Z",
          "start_time": "2021-07-31T07:31:52.156530Z"
        },
        "id": "kqTxY3rB5fcN"
      },
      "source": [
        "my_df"
      ],
      "execution_count": null,
      "outputs": []
    },
    {
      "cell_type": "code",
      "metadata": {
        "id": "Bapvq4kt5fcN"
      },
      "source": [],
      "execution_count": null,
      "outputs": []
    },
    {
      "cell_type": "code",
      "metadata": {
        "ExecuteTime": {
          "end_time": "2021-07-31T07:36:09.531127Z",
          "start_time": "2021-07-31T07:36:09.475276Z"
        },
        "id": "8so5k4ec5fcN"
      },
      "source": [
        "#treating missing values\n",
        "import pandas as pd\n",
        "titanic_df=pd.read_excel(\"Titanic_Survival_Train.xls\",index_col=0,header=0)\n",
        "\n",
        "titanic_df.shape"
      ],
      "execution_count": null,
      "outputs": []
    },
    {
      "cell_type": "code",
      "metadata": {
        "ExecuteTime": {
          "end_time": "2021-07-31T07:36:09.655482Z",
          "start_time": "2021-07-31T07:36:09.646506Z"
        },
        "id": "RO8LkrXA5fcN"
      },
      "source": [
        "print(titanic_df.isnull().sum())"
      ],
      "execution_count": null,
      "outputs": []
    },
    {
      "cell_type": "code",
      "metadata": {
        "ExecuteTime": {
          "end_time": "2021-07-31T07:36:09.828988Z",
          "start_time": "2021-07-31T07:36:09.812989Z"
        },
        "id": "KQGTTIPi5fcN"
      },
      "source": [
        "print(titanic_df[['Age','Cabin','Pclass']].isnull().sum())"
      ],
      "execution_count": null,
      "outputs": []
    },
    {
      "cell_type": "code",
      "metadata": {
        "ExecuteTime": {
          "end_time": "2021-07-31T07:36:09.987196Z",
          "start_time": "2021-07-31T07:36:09.967248Z"
        },
        "id": "riVT1yg35fcN"
      },
      "source": [
        "print(titanic_df.isnull().sum().sort_values(ascending=False))"
      ],
      "execution_count": null,
      "outputs": []
    },
    {
      "cell_type": "code",
      "metadata": {
        "ExecuteTime": {
          "end_time": "2021-07-31T07:36:10.097000Z",
          "start_time": "2021-07-31T07:36:10.086988Z"
        },
        "id": "0ahXg3tZ5fcN"
      },
      "source": [
        "(titanic_df.isnull().any(axis=1).sum())"
      ],
      "execution_count": null,
      "outputs": []
    },
    {
      "cell_type": "code",
      "metadata": {
        "ExecuteTime": {
          "end_time": "2021-07-31T07:36:10.589500Z",
          "start_time": "2021-07-31T07:36:10.567490Z"
        },
        "id": "XtiAskfu5fcN"
      },
      "source": [
        "titanic_df.loc[titanic_df.isnull().any(axis=1)]"
      ],
      "execution_count": null,
      "outputs": []
    },
    {
      "cell_type": "code",
      "metadata": {
        "ExecuteTime": {
          "end_time": "2021-07-31T07:36:10.857346Z",
          "start_time": "2021-07-31T07:36:10.839395Z"
        },
        "id": "87oAt5pw5fcN"
      },
      "source": [
        "titanic_df_1=titanic_df.dropna()"
      ],
      "execution_count": null,
      "outputs": []
    },
    {
      "cell_type": "code",
      "metadata": {
        "ExecuteTime": {
          "end_time": "2021-07-31T07:36:11.231592Z",
          "start_time": "2021-07-31T07:36:11.213597Z"
        },
        "id": "1C8Sw28h5fcN"
      },
      "source": [
        "titanic_df_1.shape"
      ],
      "execution_count": null,
      "outputs": []
    },
    {
      "cell_type": "code",
      "metadata": {
        "ExecuteTime": {
          "end_time": "2021-07-31T07:36:12.684695Z",
          "start_time": "2021-07-31T07:36:12.667692Z"
        },
        "id": "W3p0CqY-5fcN"
      },
      "source": [
        "#drop v/s dropna"
      ],
      "execution_count": null,
      "outputs": []
    },
    {
      "cell_type": "code",
      "metadata": {
        "ExecuteTime": {
          "end_time": "2021-07-31T07:36:12.936326Z",
          "start_time": "2021-07-31T07:36:12.924320Z"
        },
        "id": "SbrnNnxC5fcN"
      },
      "source": [
        "#titanic_df_1=titanic_df.fillna(0)"
      ],
      "execution_count": null,
      "outputs": []
    },
    {
      "cell_type": "code",
      "metadata": {
        "ExecuteTime": {
          "end_time": "2021-07-31T07:36:13.220723Z",
          "start_time": "2021-07-31T07:36:13.207758Z"
        },
        "id": "Xi9__k-25fcN"
      },
      "source": [
        "titanic_df.shape"
      ],
      "execution_count": null,
      "outputs": []
    },
    {
      "cell_type": "code",
      "metadata": {
        "ExecuteTime": {
          "end_time": "2021-07-31T07:36:14.564064Z",
          "start_time": "2021-07-31T07:36:14.555089Z"
        },
        "id": "2L_u1qKf5fcN"
      },
      "source": [
        "print(titanic_df.isnull().sum())"
      ],
      "execution_count": null,
      "outputs": []
    },
    {
      "cell_type": "code",
      "metadata": {
        "ExecuteTime": {
          "end_time": "2021-07-31T07:36:15.057255Z",
          "start_time": "2021-07-31T07:36:15.045313Z"
        },
        "id": "CqfFIZIO5fcN"
      },
      "source": [
        "# Dropping columns with Null Values > 50%\n",
        "half_count = len(titanic_df)/2\n",
        "\n",
        "titanic_df = titanic_df.dropna(thresh=half_count,axis=1)\n",
        "print(titanic_df.isnull().sum())\n",
        "\n",
        "\"\"\"\n",
        "half_count=0.75*len(titanic_df)\n",
        "print(half_count)\n",
        "\"\"\"\n",
        "titanic_df.shape"
      ],
      "execution_count": null,
      "outputs": []
    },
    {
      "cell_type": "code",
      "metadata": {
        "ExecuteTime": {
          "end_time": "2021-07-31T07:36:17.068997Z",
          "start_time": "2021-07-31T07:36:17.056032Z"
        },
        "id": "797wGfpB5fcN"
      },
      "source": [
        "print(titanic_df.isnull().any(axis=1).sum())\n"
      ],
      "execution_count": null,
      "outputs": []
    },
    {
      "cell_type": "code",
      "metadata": {
        "ExecuteTime": {
          "end_time": "2021-07-31T07:36:45.829534Z",
          "start_time": "2021-07-31T07:36:45.806596Z"
        },
        "id": "2fpR0Lr65fcN"
      },
      "source": [
        "titanic_df=titanic_df.drop(['Ticket','Fare'],axis=1)\n",
        "titanic_df.head()"
      ],
      "execution_count": null,
      "outputs": []
    },
    {
      "cell_type": "code",
      "metadata": {
        "ExecuteTime": {
          "end_time": "2021-07-31T07:38:23.928212Z",
          "start_time": "2021-07-31T07:38:23.916208Z"
        },
        "id": "zOy4JA5Z5fcO"
      },
      "source": [
        "#how=\"all\"-->Logical AND\n",
        "#how=\"any\"-->Logical OR\n",
        "\n",
        "#titanic_df_1=titanic_df.dropna(subset=[\"Embarked\"])\n",
        "#titanic_df_1.shape\n",
        "\n",
        "titanic_df_1=titanic_df.dropna(how=\"any\",subset=[\"Age\",\"Embarked\"])\n",
        "titanic_df_1.shape"
      ],
      "execution_count": null,
      "outputs": []
    },
    {
      "cell_type": "code",
      "metadata": {
        "ExecuteTime": {
          "end_time": "2021-07-31T07:38:24.304951Z",
          "start_time": "2021-07-31T07:38:24.291003Z"
        },
        "id": "-minLAx35fcO"
      },
      "source": [
        "print(titanic_df.isnull().sum())"
      ],
      "execution_count": null,
      "outputs": []
    },
    {
      "cell_type": "code",
      "metadata": {
        "id": "9cb4-rYB5fcO"
      },
      "source": [],
      "execution_count": null,
      "outputs": []
    },
    {
      "cell_type": "code",
      "metadata": {
        "ExecuteTime": {
          "end_time": "2021-07-31T07:38:32.305247Z",
          "start_time": "2021-07-31T07:38:32.296271Z"
        },
        "id": "SZc3IY1I5fcO"
      },
      "source": [
        "#handling missing values in Embarked column\n",
        "titanic_df['Embarked'].fillna(titanic_df['Embarked'].mode()[0],inplace=True)\n",
        "#titanic_df[\"Embarked\"]=titanic_df['Embarked'].fillna(titanic_df['Embarked'].mode()[0])"
      ],
      "execution_count": null,
      "outputs": []
    },
    {
      "cell_type": "code",
      "metadata": {
        "ExecuteTime": {
          "end_time": "2021-07-31T07:38:32.636094Z",
          "start_time": "2021-07-31T07:38:32.623129Z"
        },
        "id": "sEAqahEF5fcO"
      },
      "source": [
        "titanic_df['Embarked'].mode()[0]"
      ],
      "execution_count": null,
      "outputs": []
    },
    {
      "cell_type": "code",
      "metadata": {
        "ExecuteTime": {
          "end_time": "2021-07-31T07:38:33.048898Z",
          "start_time": "2021-07-31T07:38:33.029908Z"
        },
        "id": "e_Hw4Og_5fcO"
      },
      "source": [
        "print(titanic_df.isnull().sum())"
      ],
      "execution_count": null,
      "outputs": []
    },
    {
      "cell_type": "code",
      "metadata": {
        "id": "ZtrEFYWc5fcO"
      },
      "source": [],
      "execution_count": null,
      "outputs": []
    },
    {
      "cell_type": "code",
      "metadata": {
        "ExecuteTime": {
          "end_time": "2021-07-31T07:38:35.572572Z",
          "start_time": "2021-07-31T07:38:35.565589Z"
        },
        "id": "T7NvAIWY5fcO"
      },
      "source": [
        "titanic_df.Age.mean()"
      ],
      "execution_count": null,
      "outputs": []
    },
    {
      "cell_type": "code",
      "metadata": {
        "ExecuteTime": {
          "end_time": "2021-07-31T07:38:37.314239Z",
          "start_time": "2021-07-31T07:38:37.289306Z"
        },
        "id": "KssyoBip5fcO"
      },
      "source": [
        "titanic_df['Age'].fillna(round(titanic_df['Age'].mean(),0),inplace=True)\n",
        "titanic_df.head(10)"
      ],
      "execution_count": null,
      "outputs": []
    },
    {
      "cell_type": "code",
      "metadata": {
        "ExecuteTime": {
          "end_time": "2021-07-31T07:38:37.708934Z",
          "start_time": "2021-07-31T07:38:37.691980Z"
        },
        "id": "TBh2kTas5fcO"
      },
      "source": [
        "print(titanic_df.isnull().sum())"
      ],
      "execution_count": null,
      "outputs": []
    },
    {
      "cell_type": "code",
      "metadata": {
        "id": "UF7ZghRT5fcO"
      },
      "source": [],
      "execution_count": null,
      "outputs": []
    },
    {
      "cell_type": "code",
      "metadata": {
        "id": "X2uCtdr55fcO"
      },
      "source": [],
      "execution_count": null,
      "outputs": []
    },
    {
      "cell_type": "code",
      "metadata": {
        "id": "gyxCwVv35fcO"
      },
      "source": [],
      "execution_count": null,
      "outputs": []
    },
    {
      "cell_type": "code",
      "metadata": {
        "ExecuteTime": {
          "end_time": "2021-07-31T07:38:42.763890Z",
          "start_time": "2021-07-31T07:38:42.740933Z"
        },
        "id": "EhzCGdWP5fcO"
      },
      "source": [
        "#removing duplicates\n",
        "import pandas as pd\n",
        "raw_data = {'first_name': ['Jason', 'Jason', 'Jason','Tina', 'Jake', 'Amy','Tina'],\n",
        "        'last_name': ['Miller', 'Miller', 'Miller','Ali', 'Milner', 'Cooze','Ali'],\n",
        "        'age': [42, 42, 1111111, 36, 24, 73,36],\n",
        "        'preTestScore': [4, 4, 4, 31, 2, 3,31],\n",
        "        'postTestScore': [25, 25, 25, 57, 62, 70,57]}\n",
        "df = pd.DataFrame(raw_data)\n",
        "df"
      ],
      "execution_count": null,
      "outputs": []
    },
    {
      "cell_type": "code",
      "metadata": {
        "ExecuteTime": {
          "end_time": "2021-07-31T07:38:49.315911Z",
          "start_time": "2021-07-31T07:38:49.307890Z"
        },
        "id": "TteIol4n5fcO"
      },
      "source": [
        "df.duplicated().sum()"
      ],
      "execution_count": null,
      "outputs": []
    },
    {
      "cell_type": "code",
      "metadata": {
        "ExecuteTime": {
          "end_time": "2021-07-31T07:38:58.149435Z",
          "start_time": "2021-07-31T07:38:58.130486Z"
        },
        "scrolled": false,
        "id": "odvHB9nX5fcO"
      },
      "source": [
        "df.duplicated(subset=[\"first_name\",'last_name']).sum()"
      ],
      "execution_count": null,
      "outputs": []
    },
    {
      "cell_type": "code",
      "metadata": {
        "ExecuteTime": {
          "end_time": "2021-07-31T07:39:03.101104Z",
          "start_time": "2021-07-31T07:39:03.083153Z"
        },
        "id": "oFMRa4bQ5fcO"
      },
      "source": [
        "df.drop_duplicates()"
      ],
      "execution_count": null,
      "outputs": []
    },
    {
      "cell_type": "code",
      "metadata": {
        "ExecuteTime": {
          "end_time": "2021-07-31T07:39:04.736794Z",
          "start_time": "2021-07-31T07:39:04.727819Z"
        },
        "id": "wujLkxI45fcP"
      },
      "source": [
        "df"
      ],
      "execution_count": null,
      "outputs": []
    },
    {
      "cell_type": "code",
      "metadata": {
        "ExecuteTime": {
          "end_time": "2021-07-31T07:39:07.066226Z",
          "start_time": "2021-07-31T07:39:07.051267Z"
        },
        "id": "AkHpteqc5fcP"
      },
      "source": [
        "df1=df.drop_duplicates(subset=['first_name','last_name'],keep=\"last\")\n"
      ],
      "execution_count": null,
      "outputs": []
    },
    {
      "cell_type": "code",
      "metadata": {
        "ExecuteTime": {
          "end_time": "2021-07-31T07:39:10.095048Z",
          "start_time": "2021-07-31T07:39:10.083081Z"
        },
        "id": "-gH7jq8K5fcP"
      },
      "source": [
        "df1"
      ],
      "execution_count": null,
      "outputs": []
    },
    {
      "cell_type": "code",
      "metadata": {
        "id": "vniBRIqq5fcP"
      },
      "source": [],
      "execution_count": null,
      "outputs": []
    },
    {
      "cell_type": "code",
      "metadata": {
        "ExecuteTime": {
          "end_time": "2021-07-31T07:39:10.934628Z",
          "start_time": "2021-07-31T07:39:10.930620Z"
        },
        "id": "T453xKNa5fcP"
      },
      "source": [
        "import pandas as pd"
      ],
      "execution_count": null,
      "outputs": []
    },
    {
      "cell_type": "code",
      "metadata": {
        "ExecuteTime": {
          "end_time": "2021-07-31T07:39:15.688248Z",
          "start_time": "2021-07-31T07:39:15.659326Z"
        },
        "id": "YJqv_HMQ5fcP"
      },
      "source": [
        "df1=pd.read_excel(r\"std1.xlsx\",index_col=0,header=0)\n",
        "df2=pd.read_excel(r\"std2.xlsx\",index_col=0,header=0)\n",
        "print(df1)\n",
        "print(df2)"
      ],
      "execution_count": null,
      "outputs": []
    },
    {
      "cell_type": "code",
      "metadata": {
        "id": "mqoHQD7x5fcP"
      },
      "source": [
        "df3=pd.merge(df1,df2,on=\"Stdid\",how=\"outer\",indicator=True)\n",
        "print(df3)"
      ],
      "execution_count": null,
      "outputs": []
    },
    {
      "cell_type": "code",
      "metadata": {
        "id": "potHIBBG5fcP"
      },
      "source": [
        "\"\"\"\n",
        "inner-->will fetch the observations commonly present in both the dataframes\n",
        "left-->will fetch all the observations present in the left df and map the corresponding obs from the right df\n",
        "right-->will fetch all the observations present in the right df and map the corresponding obs from the left df\n",
        "outer-->will fetch all the obs from both the dfs and map the obs wherever possible, else impute missing values\n",
        "\"\"\""
      ],
      "execution_count": null,
      "outputs": []
    },
    {
      "cell_type": "code",
      "metadata": {
        "id": "WbiDj7Ur5fcP"
      },
      "source": [
        "df3=df3.sort_index(axis=0)\n",
        "df3"
      ],
      "execution_count": null,
      "outputs": []
    },
    {
      "cell_type": "code",
      "metadata": {
        "id": "hetqO4TC5fcP"
      },
      "source": [],
      "execution_count": null,
      "outputs": []
    },
    {
      "cell_type": "code",
      "metadata": {
        "id": "47nk4KFV5fcP"
      },
      "source": [],
      "execution_count": null,
      "outputs": []
    },
    {
      "cell_type": "code",
      "metadata": {
        "ExecuteTime": {
          "end_time": "2021-07-31T07:40:15.623936Z",
          "start_time": "2021-07-31T07:40:15.579057Z"
        },
        "id": "XD40KtLd5fcP"
      },
      "source": [
        "import pandas as pd\n",
        "titanic_df=pd.read_excel(\"Titanic_Survival_Train.xls\",index_col=0,header=0)\n",
        "\n",
        "titanic_df.head()"
      ],
      "execution_count": null,
      "outputs": []
    },
    {
      "cell_type": "code",
      "metadata": {
        "id": "6apgw1bZ5fcP"
      },
      "source": [],
      "execution_count": null,
      "outputs": []
    },
    {
      "cell_type": "code",
      "metadata": {
        "ExecuteTime": {
          "end_time": "2021-07-31T07:40:21.847953Z",
          "start_time": "2021-07-31T07:40:21.813047Z"
        },
        "id": "l31EpPuY5fcP"
      },
      "source": [
        "df = titanic_df.applymap(lambda s:s.lower().strip() if type(s) == str else s)\n",
        "df.head()"
      ],
      "execution_count": null,
      "outputs": []
    },
    {
      "cell_type": "code",
      "metadata": {
        "id": "L0Xt4F2k5fcP"
      },
      "source": [],
      "execution_count": null,
      "outputs": []
    },
    {
      "cell_type": "code",
      "metadata": {
        "id": "sIH8amud5fcP"
      },
      "source": [],
      "execution_count": null,
      "outputs": []
    },
    {
      "cell_type": "code",
      "metadata": {
        "id": "Qt_NuM-Y5fcP"
      },
      "source": [],
      "execution_count": null,
      "outputs": []
    },
    {
      "cell_type": "code",
      "metadata": {
        "ExecuteTime": {
          "end_time": "2021-07-31T07:41:10.845092Z",
          "start_time": "2021-07-31T07:41:10.828093Z"
        },
        "id": "0Huc9MSV5fcP"
      },
      "source": [
        "#Discretization and binning\n",
        "\n",
        "PassengerAge=titanic_df['Age']\n",
        "PassengerAge=PassengerAge.dropna()\n",
        "Bins=[PassengerAge.min(),15,21,60,PassengerAge.max()]\n",
        "Binlabels=['Children','Adolescents','Adult','Senior']\n",
        "categories=pd.cut(PassengerAge,Bins,labels= Binlabels)\n",
        "\n",
        "print(categories.value_counts())\n",
        "\n",
        "print(categories.head(10))"
      ],
      "execution_count": null,
      "outputs": []
    },
    {
      "cell_type": "code",
      "metadata": {
        "ExecuteTime": {
          "end_time": "2021-07-31T07:41:34.376016Z",
          "start_time": "2021-07-31T07:41:34.354075Z"
        },
        "id": "RV1XzHB25fcQ"
      },
      "source": [
        "new_df=pd.concat([PassengerAge,categories],axis=1)\n",
        "new_df"
      ],
      "execution_count": null,
      "outputs": []
    },
    {
      "cell_type": "code",
      "metadata": {
        "ExecuteTime": {
          "end_time": "2021-07-31T07:41:55.484449Z",
          "start_time": "2021-07-31T07:41:55.466449Z"
        },
        "id": "xjYQ3UY85fcQ"
      },
      "source": [
        "new_df.Age"
      ],
      "execution_count": null,
      "outputs": []
    },
    {
      "cell_type": "code",
      "metadata": {
        "ExecuteTime": {
          "end_time": "2021-07-31T07:41:55.881479Z",
          "start_time": "2021-07-31T07:41:55.874497Z"
        },
        "id": "SkcbiHdO5fcQ"
      },
      "source": [
        "new_df.columns"
      ],
      "execution_count": null,
      "outputs": []
    },
    {
      "cell_type": "code",
      "metadata": {
        "ExecuteTime": {
          "end_time": "2021-07-31T07:55:51.767583Z",
          "start_time": "2021-07-31T07:55:51.747637Z"
        },
        "id": "wbLbbesY5fcQ"
      },
      "source": [
        "new_df.columns=[\"Original_Age\",\"Labelled_Age\"]\n",
        "new_df.head()"
      ],
      "execution_count": null,
      "outputs": []
    },
    {
      "cell_type": "code",
      "metadata": {
        "ExecuteTime": {
          "end_time": "2021-07-31T07:56:36.481031Z",
          "start_time": "2021-07-31T07:56:36.466986Z"
        },
        "id": "8pu2RN305fcQ"
      },
      "source": [
        "new_df=new_df.rename(columns={\"Labelled_Age\":\"New_Age\"})\n",
        "new_df.head()"
      ],
      "execution_count": null,
      "outputs": []
    },
    {
      "cell_type": "code",
      "metadata": {
        "ExecuteTime": {
          "end_time": "2021-07-31T07:56:49.256600Z",
          "start_time": "2021-07-31T07:56:49.239646Z"
        },
        "id": "FaUg9qm-5fcQ"
      },
      "source": [
        "new_df1=new_df[new_df[\"Original_Age\"]<10]\n",
        "new_df1"
      ],
      "execution_count": null,
      "outputs": []
    },
    {
      "cell_type": "code",
      "metadata": {
        "id": "VhBHzshI5fcQ"
      },
      "source": [],
      "execution_count": null,
      "outputs": []
    },
    {
      "cell_type": "markdown",
      "metadata": {
        "id": "8lGP5NwU5fcQ"
      },
      "source": [
        "## Pivot Table"
      ]
    },
    {
      "cell_type": "markdown",
      "metadata": {
        "id": "h-WAPprn5fcQ"
      },
      "source": [
        "Spreadsheet-style pivot tables can be created as a DataFrame. The levels in the pivot table will be stored in MultiIndex objects (hierarchical indexes) on the index and columns of the result DataFrame."
      ]
    },
    {
      "cell_type": "code",
      "metadata": {
        "id": "OnmfOLSj5fcQ"
      },
      "source": [
        "# Let's create a dataframe with data and multi\n",
        "import pandas as pd\n",
        "\n",
        "df = pd.DataFrame({\"A\": [\"foo\", \"foo\", \"foo\", \"foo\", \"foo\", \"bar\", \"bar\", \"bar\", \"bar\"],\n",
        "                   \"B\": [\"one\", \"one\", \"one\", \"two\", \"two\", \"one\", \"one\", \"two\", \"two\"],\n",
        "                   \"C\": [\"small\", \"large\", \"large\", \"small\", \"small\", \"large\", \"small\", \"small\", \"large\"],\n",
        "                   \"D\": [1, 2, 2, 3, 3, 4, 5, 6, 7],\n",
        "                   \"E\": [2, 4, 5, 5, 6, 6, 8, 9, 9]})\n",
        "print(df)"
      ],
      "execution_count": null,
      "outputs": []
    },
    {
      "cell_type": "code",
      "metadata": {
        "id": "AxSu40Ur5fcQ"
      },
      "source": [
        "# Aggregate values, and compute the sum!\n",
        "import numpy as np\n",
        "table = pd.pivot_table(df, values='D', index=['A', 'B'], columns=['C'], aggfunc=np.sum)\n",
        "table"
      ],
      "execution_count": null,
      "outputs": []
    },
    {
      "cell_type": "code",
      "metadata": {
        "id": "tXytPkw85fcQ"
      },
      "source": [
        "# Aggregate by taking the mean across multiple columns\n",
        "table = pd.pivot_table(df, values=['D', 'E'], index=['A', 'C'], aggfunc={'D': np.mean, 'E': np.mean})\n",
        "table"
      ],
      "execution_count": null,
      "outputs": []
    },
    {
      "cell_type": "code",
      "metadata": {
        "id": "8FMsrLTQ5fcQ"
      },
      "source": [
        "# Calculate multiple types of aggregations for any given value column\n",
        "table = pd.pivot_table(df, values=['D', 'E'], index=['A', 'C'], aggfunc={'D': np.mean, 'E': [min, max, np.mean]})\n",
        "table"
      ],
      "execution_count": null,
      "outputs": []
    },
    {
      "cell_type": "code",
      "metadata": {
        "id": "617fazQe5fcQ"
      },
      "source": [],
      "execution_count": null,
      "outputs": []
    },
    {
      "cell_type": "code",
      "metadata": {
        "ExecuteTime": {
          "end_time": "2021-07-31T07:57:03.342738Z",
          "start_time": "2021-07-31T07:57:03.296820Z"
        },
        "id": "hebBX6R65fcQ"
      },
      "source": [
        "## Pivot Tables on Titanic\n",
        "\n",
        "titanic_df.pivot_table(index=[\"Sex\",\"Pclass\"],values=\"Fare\",\n",
        "                       columns=\"Survived\",aggfunc='sum',margins=True)"
      ],
      "execution_count": null,
      "outputs": []
    },
    {
      "cell_type": "markdown",
      "metadata": {
        "id": "PneS7MO55fcQ"
      },
      "source": [
        "## Groupby"
      ]
    },
    {
      "cell_type": "markdown",
      "metadata": {
        "id": "Lmzau7ui5fcQ"
      },
      "source": [
        "A groupby operation involves some combination of splitting the object, applying a function, and combining the results. This can be used to group large amounts of data and compute operations on these groups."
      ]
    },
    {
      "cell_type": "code",
      "metadata": {
        "ExecuteTime": {
          "end_time": "2021-07-31T07:57:03.734191Z",
          "start_time": "2021-07-31T07:57:03.712209Z"
        },
        "id": "YcUmtWkY5fcR"
      },
      "source": [
        "## Group By\n",
        "\n",
        "titanic_df.groupby([\"Pclass\",\"Sex\"])[\"Fare\"].mean()"
      ],
      "execution_count": null,
      "outputs": []
    },
    {
      "cell_type": "code",
      "metadata": {
        "id": "HdBad4Gl5fcR"
      },
      "source": [],
      "execution_count": null,
      "outputs": []
    },
    {
      "cell_type": "markdown",
      "metadata": {
        "id": "lbLY22mW5fcR"
      },
      "source": [
        "## Source(s)\n",
        "- https://pandas.pydata.org/pandas-docs/stable/overview.html\n",
        "- https://pandas.pydata.org/pandas-docs/stable/getting_started/dsintro.html\n",
        "- https://pandas.pydata.org/pandas-docs/stable/user_guide/advanced.html\n",
        "- https://www.tutorialspoint.com/python_pandas/python_pandas_missing_data.htm"
      ]
    },
    {
      "cell_type": "code",
      "metadata": {
        "id": "Vml18p7o5fcR"
      },
      "source": [],
      "execution_count": null,
      "outputs": []
    }
  ]
}