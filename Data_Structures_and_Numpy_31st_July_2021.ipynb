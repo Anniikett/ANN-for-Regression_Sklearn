{
  "nbformat": 4,
  "nbformat_minor": 0,
  "metadata": {
    "kernelspec": {
      "display_name": "Python 3",
      "language": "python",
      "name": "python3"
    },
    "language_info": {
      "codemirror_mode": {
        "name": "ipython",
        "version": 3
      },
      "file_extension": ".py",
      "mimetype": "text/x-python",
      "name": "python",
      "nbconvert_exporter": "python",
      "pygments_lexer": "ipython3",
      "version": "3.7.4"
    },
    "latex_envs": {
      "LaTeX_envs_menu_present": true,
      "autoclose": false,
      "autocomplete": true,
      "bibliofile": "biblio.bib",
      "cite_by": "apalike",
      "current_citInitial": 1,
      "eqLabelWithNumbers": true,
      "eqNumInitial": 1,
      "hotkeys": {
        "equation": "Ctrl-E",
        "itemize": "Ctrl-I"
      },
      "labels_anchors": false,
      "latex_user_defs": false,
      "report_style_numbering": false,
      "user_envs_cfg": false
    },
    "toc": {
      "base_numbering": 1,
      "nav_menu": {},
      "number_sections": false,
      "sideBar": true,
      "skip_h1_title": false,
      "title_cell": "Table of Contents",
      "title_sidebar": "Contents",
      "toc_cell": false,
      "toc_position": {},
      "toc_section_display": true,
      "toc_window_display": false
    },
    "colab": {
      "provenance": [],
      "collapsed_sections": [
        "ZJHc42cwNF6H",
        "SOS5feE0NF6K",
        "YkXPkEeUNF6L",
        "sl09RVRFNF6Q",
        "PZEQ_4aDNF6X",
        "U3ZDA04LNF6X",
        "0JpYpkqONF6X",
        "6PBA7uEcNF6X",
        "cM4R8W4MNF6Z",
        "e9DXayElNF6a",
        "6X-LwItTNF6a",
        "Q52qwOQdNF6a",
        "ZT58KQQ_NF6a",
        "pVxKT_OhNF6b",
        "jZTb1w93NF6b",
        "DKl25_jTNF6b",
        "aVz4ZR5hNF6b",
        "WGaD7vyyNF6c",
        "4rQqcWUgNF6c"
      ],
      "include_colab_link": true
    }
  },
  "cells": [
    {
      "cell_type": "markdown",
      "metadata": {
        "id": "view-in-github",
        "colab_type": "text"
      },
      "source": [
        "<a href=\"https://colab.research.google.com/github/Anniikett/ANN-for-Regression_Sklearn/blob/main/Data_Structures_and_Numpy_31st_July_2021.ipynb\" target=\"_parent\"><img src=\"https://colab.research.google.com/assets/colab-badge.svg\" alt=\"Open In Colab\"/></a>"
      ]
    },
    {
      "cell_type": "markdown",
      "metadata": {
        "id": "p56TptPENF5-"
      },
      "source": [
        "# Data structures in Python"
      ]
    },
    {
      "cell_type": "markdown",
      "metadata": {
        "id": "O2FSvSe6NF6B"
      },
      "source": [
        "# Numbers"
      ]
    },
    {
      "cell_type": "code",
      "metadata": {
        "id": "7JNp06HPNF6B",
        "colab": {
          "base_uri": "https://localhost:8080/"
        },
        "outputId": "9b900fed-7077-4526-c4db-6e7b42037eea"
      },
      "source": [
        "a=5\n",
        "print(type(a))\n",
        "a=12.5\n",
        "print(type(a))\n",
        "a=10+5j\n",
        "print(type(a))"
      ],
      "execution_count": null,
      "outputs": [
        {
          "output_type": "stream",
          "text": [
            "<class 'int'>\n",
            "<class 'float'>\n",
            "<class 'complex'>\n"
          ],
          "name": "stdout"
        }
      ]
    },
    {
      "cell_type": "code",
      "metadata": {
        "id": "f3V4lP1nNF6C"
      },
      "source": [
        "import math"
      ],
      "execution_count": null,
      "outputs": []
    },
    {
      "cell_type": "code",
      "metadata": {
        "scrolled": false,
        "id": "BfZVPeFHNF6C",
        "colab": {
          "base_uri": "https://localhost:8080/"
        },
        "outputId": "3b1c59e0-3723-442f-e4e2-ac2dd82b08b2"
      },
      "source": [
        "print(math.sqrt(4))\n",
        "print(math.floor(10.7))  #10.7 it will make sure that the value in point will get down only.\n",
        "print(math.ceil(10.7))   #10.7 it will make sure that the value in point will goes up only everytime.\n",
        "print(math.pow(2,3))\n",
        "print(math.factorial(6))\n",
        "#print(round(math.pi,0))\n",
        "print(math.pi)\n",
        "print(round(math.pi,2))"
      ],
      "execution_count": null,
      "outputs": [
        {
          "output_type": "stream",
          "text": [
            "2.0\n",
            "10\n",
            "11\n",
            "8.0\n",
            "720\n",
            "3.141592653589793\n",
            "3.14\n"
          ],
          "name": "stdout"
        }
      ]
    },
    {
      "cell_type": "code",
      "metadata": {
        "id": "7ifnwPoQNF6D",
        "colab": {
          "base_uri": "https://localhost:8080/"
        },
        "outputId": "494f96e6-0965-4660-b057-9668b3f7f89b"
      },
      "source": [
        "area_of_circle=math.pi*10*10\n",
        "print(area_of_circle)"
      ],
      "execution_count": null,
      "outputs": [
        {
          "output_type": "stream",
          "text": [
            "314.1592653589793\n"
          ],
          "name": "stdout"
        }
      ]
    },
    {
      "cell_type": "code",
      "metadata": {
        "id": "OzAP1Tg2NF6D",
        "colab": {
          "base_uri": "https://localhost:8080/"
        },
        "outputId": "b82adff4-7e89-44d4-d3bc-caf862891ad9"
      },
      "source": [
        "import numpy\n",
        "numpy.sqrt"
      ],
      "execution_count": null,
      "outputs": [
        {
          "output_type": "execute_result",
          "data": {
            "text/plain": [
              "<ufunc 'sqrt'>"
            ]
          },
          "metadata": {
            "tags": []
          },
          "execution_count": 6
        }
      ]
    },
    {
      "cell_type": "markdown",
      "metadata": {
        "id": "wO4OE2j9NF6D"
      },
      "source": [
        "# Strings\n"
      ]
    },
    {
      "cell_type": "code",
      "metadata": {
        "id": "ysLfYbIONF6E",
        "colab": {
          "base_uri": "https://localhost:8080/"
        },
        "outputId": "a2cb76c1-d7a7-4a96-ac5f-3ad47ec74d7f"
      },
      "source": [
        "my_string = 'Imarticus:Aniket Programming'\n",
        "print(my_string)\n",
        "\n",
        "print()\n",
        "\n",
        "\"\"\"\n",
        "this is\n",
        "a comment\"\"\"\n",
        "\n",
        "my_string = \"\"\"Python is a programming language.\\nPython is interesting.\\nAniket is new in it.\\nLets do boom baam for next 2 years.\"\"\"\n",
        "print(my_string)\n"
      ],
      "execution_count": null,
      "outputs": [
        {
          "output_type": "stream",
          "text": [
            "Imarticus:Aniket Programming\n",
            "\n",
            "Python is a programming language.\n",
            "Python is interesting.\n",
            "Aniket is new in it.\n",
            "Lets do boom baam for next 2 years.\n"
          ],
          "name": "stdout"
        }
      ]
    },
    {
      "cell_type": "code",
      "metadata": {
        "id": "6jdAncetNF6F"
      },
      "source": [
        "#slicing\n",
        "my_string = \"Python is a programming language. Python is interesting.\"\n",
        "print(my_string[0])\n",
        "print(my_string[-3])\n",
        "#[inclusive:exclusive]\n",
        "print(my_string[3:10])\n",
        "print(my_string[:25])\n",
        "print(my_string[25:])\n",
        "print(my_string[:])\n",
        "#print(my_string[54])\n",
        "print(len(my_string))\n",
        "print(my_string[5:8],my_string[10])"
      ],
      "execution_count": null,
      "outputs": []
    },
    {
      "cell_type": "code",
      "metadata": {
        "id": "Xkg4lkedNF6F"
      },
      "source": [
        "my_string.split(sep=\" \")"
      ],
      "execution_count": null,
      "outputs": []
    },
    {
      "cell_type": "code",
      "metadata": {
        "id": "u1bRykoWNF6F"
      },
      "source": [
        "#strings are immutable\n",
        "my_string[3]=\"B\""
      ],
      "execution_count": null,
      "outputs": []
    },
    {
      "cell_type": "code",
      "metadata": {
        "id": "6J1cUMz7NF6G"
      },
      "source": [
        "list(my_string)"
      ],
      "execution_count": null,
      "outputs": []
    },
    {
      "cell_type": "code",
      "metadata": {
        "scrolled": false,
        "id": "Asv-KdnnNF6G"
      },
      "source": [
        "my_string=my_string.replace(\"in\",\"N\")\n",
        "print(my_string)"
      ],
      "execution_count": null,
      "outputs": []
    },
    {
      "cell_type": "code",
      "metadata": {
        "id": "TwcEaZOgNF6G"
      },
      "source": [
        "del my_string"
      ],
      "execution_count": null,
      "outputs": []
    },
    {
      "cell_type": "code",
      "metadata": {
        "id": "R-2VkZU0NF6H"
      },
      "source": [
        "print(my_string)"
      ],
      "execution_count": null,
      "outputs": []
    },
    {
      "cell_type": "markdown",
      "metadata": {
        "id": "ZJHc42cwNF6H"
      },
      "source": [
        "# Lists"
      ]
    },
    {
      "cell_type": "code",
      "metadata": {
        "id": "ZZMZYg-SNF6I",
        "colab": {
          "base_uri": "https://localhost:8080/"
        },
        "outputId": "87a487e6-9ea3-488d-d01e-00c252f40248"
      },
      "source": [
        "# Python List\n",
        "\n",
        "mylist1=[1,3,5,4,2]\n",
        "\n",
        "mylist2 = [1, 4.2, \"python\" ,4.2]\n",
        "\n",
        "print(mylist1)\n",
        "print(mylist2)\n",
        "print(type(mylist2))"
      ],
      "execution_count": null,
      "outputs": [
        {
          "output_type": "stream",
          "text": [
            "[1, 3, 5, 4, 2]\n",
            "[1, 4.2, 'python', 4.2]\n",
            "<class 'list'>\n"
          ],
          "name": "stdout"
        }
      ]
    },
    {
      "cell_type": "code",
      "metadata": {
        "id": "d6eMy8bONF6I",
        "colab": {
          "base_uri": "https://localhost:8080/"
        },
        "outputId": "7b1e323c-dae4-4ad8-c617-e3d3a68c911f"
      },
      "source": [
        "# use of slicing operator\n",
        "a = [10,20,30,40,50,60,70,80]\n",
        "\n",
        "print(a[2])\n",
        "\n",
        "print(a[0:3])\n",
        "\n",
        "print(a[5:])\n",
        "print(a[2],a[5])\n"
      ],
      "execution_count": null,
      "outputs": [
        {
          "output_type": "stream",
          "text": [
            "30\n",
            "[10, 20, 30]\n",
            "[60, 70, 80]\n",
            "30 60\n"
          ],
          "name": "stdout"
        }
      ]
    },
    {
      "cell_type": "code",
      "metadata": {
        "id": "4OchcsRENF6I",
        "colab": {
          "base_uri": "https://localhost:8080/"
        },
        "outputId": "5621ad87-b48e-4454-9b6d-21dfdb22e01b"
      },
      "source": [
        "#lists are mutable (Mutable = Can be modified i.e. add/remove/update after initialization)\n",
        "#replacing an element on the basis of index number\n",
        "a[5]=\"aniket\"\n",
        "print(a)"
      ],
      "execution_count": null,
      "outputs": [
        {
          "output_type": "stream",
          "text": [
            "[10, 20, 30, 'aniket', 50, 'aniket', 70, 80]\n"
          ],
          "name": "stdout"
        }
      ]
    },
    {
      "cell_type": "code",
      "metadata": {
        "scrolled": true,
        "id": "jZbE3G_NNF6J",
        "colab": {
          "base_uri": "https://localhost:8080/"
        },
        "outputId": "7702a78c-203e-4c6c-ea21-610c6aa12137"
      },
      "source": [
        "#appending multiple elements\n",
        "my_list=[1,3,6,9]\n",
        "\n",
        "my_new_list=[4,5,6,7,8]\n",
        "\n",
        "my_list.append(\"xyz\")\n",
        "my_list.extend(my_new_list)\n",
        "\n",
        "print(my_list)"
      ],
      "execution_count": null,
      "outputs": [
        {
          "output_type": "stream",
          "text": [
            "[1, 3, 6, 9, 'xyz', 4, 5, 6, 7, 8]\n"
          ],
          "name": "stdout"
        }
      ]
    },
    {
      "cell_type": "code",
      "metadata": {
        "id": "6TF-pPPnNF6J",
        "colab": {
          "base_uri": "https://localhost:8080/"
        },
        "outputId": "a12daa1b-565b-427a-9bd2-a74ea5d26924"
      },
      "source": [
        "my_list.insert(7,\"abc\")\n",
        "print(my_list)"
      ],
      "execution_count": null,
      "outputs": [
        {
          "output_type": "stream",
          "text": [
            "[1, 3, 6, 9, 'abc', 'xyz', 4, 'abc', 5, 6, 7, 8]\n"
          ],
          "name": "stdout"
        }
      ]
    },
    {
      "cell_type": "code",
      "metadata": {
        "scrolled": false,
        "id": "WzSektZ7NF6J",
        "colab": {
          "base_uri": "https://localhost:8080/"
        },
        "outputId": "221fa1e4-c4b4-40fe-c8a3-ee36c8d6a0df"
      },
      "source": [
        "my_list.remove(6)\n",
        "print(my_list)\n"
      ],
      "execution_count": null,
      "outputs": [
        {
          "output_type": "stream",
          "text": [
            "[1, 3, 9, 'abc', 'xyz', 4, 'abc', 5, 6, 7, 8]\n"
          ],
          "name": "stdout"
        }
      ]
    },
    {
      "cell_type": "code",
      "metadata": {
        "id": "lQVsPWrwNF6K",
        "colab": {
          "base_uri": "https://localhost:8080/"
        },
        "outputId": "9d50bc03-7794-48a3-d634-23ab7c84ca61"
      },
      "source": [
        "del my_list[2]\n",
        "my_list"
      ],
      "execution_count": null,
      "outputs": [
        {
          "output_type": "execute_result",
          "data": {
            "text/plain": [
              "[1, 3, 'abc', 'xyz', 4, 'abc', 5, 6, 7, 8]"
            ]
          },
          "metadata": {
            "tags": []
          },
          "execution_count": 38
        }
      ]
    },
    {
      "cell_type": "markdown",
      "metadata": {
        "id": "SOS5feE0NF6K"
      },
      "source": [
        "# Tuples"
      ]
    },
    {
      "cell_type": "code",
      "metadata": {
        "id": "IdCBzP6uNF6L",
        "colab": {
          "base_uri": "https://localhost:8080/"
        },
        "outputId": "9c91ce3a-d996-4c74-b535-71e5321bc38e"
      },
      "source": [
        "a = (5,'python',[1,\"alex\",3], 27.9,5)\n",
        "print(a)\n",
        "print(type(a))\n",
        "print(a[2][1][3]) #alex have take in that (3) is x in that\n"
      ],
      "execution_count": null,
      "outputs": [
        {
          "output_type": "stream",
          "text": [
            "(5, 'python', [1, 'alex', 3], 27.9, 5)\n",
            "<class 'tuple'>\n",
            "x\n"
          ],
          "name": "stdout"
        }
      ]
    },
    {
      "cell_type": "code",
      "metadata": {
        "id": "YUuobhSuNF6L",
        "colab": {
          "base_uri": "https://localhost:8080/"
        },
        "outputId": "96a89b1d-1537-48b3-a893-4036d8aab917"
      },
      "source": [
        "list1=[1,2,3]\n",
        "tuple1=tuple(list1)\n",
        "print(tuple1)"
      ],
      "execution_count": null,
      "outputs": [
        {
          "output_type": "stream",
          "text": [
            "(1, 2, 3)\n"
          ],
          "name": "stdout"
        }
      ]
    },
    {
      "cell_type": "code",
      "metadata": {
        "scrolled": true,
        "id": "iDh1C-8cNF6L"
      },
      "source": [
        "#tuple is immutable\n",
        "#a[2]=0\n",
        "\n",
        "del a\n"
      ],
      "execution_count": null,
      "outputs": []
    },
    {
      "cell_type": "markdown",
      "metadata": {
        "collapsed": true,
        "id": "YkXPkEeUNF6L"
      },
      "source": [
        "# Sets"
      ]
    },
    {
      "cell_type": "code",
      "metadata": {
        "ExecuteTime": {
          "end_time": "2021-07-31T05:37:48.081875Z",
          "start_time": "2021-07-31T05:37:48.064920Z"
        },
        "scrolled": false,
        "id": "JXIWncBLNF6M",
        "colab": {
          "base_uri": "https://localhost:8080/"
        },
        "outputId": "2afc83f9-7b8a-461d-eb88-3a56f6d07d65"
      },
      "source": [
        "my_set = {1,2.0,3,4,3,2,10,\"alex\",38,72,16}\n",
        "print(my_set)"
      ],
      "execution_count": null,
      "outputs": [
        {
          "output_type": "stream",
          "text": [
            "{1, 2.0, 3, 4, 38, 72, 10, 16, 'alex'}\n"
          ],
          "name": "stdout"
        }
      ]
    },
    {
      "cell_type": "code",
      "metadata": {
        "scrolled": true,
        "id": "6kdCHHnVNF6N"
      },
      "source": [
        "#my_set[3]"
      ],
      "execution_count": null,
      "outputs": []
    },
    {
      "cell_type": "code",
      "metadata": {
        "ExecuteTime": {
          "end_time": "2021-07-31T05:38:09.416568Z",
          "start_time": "2021-07-31T05:38:09.406553Z"
        },
        "id": "h1g5MQYhNF6N",
        "colab": {
          "base_uri": "https://localhost:8080/"
        },
        "outputId": "a00b8992-ae16-4a88-e620-3a6146224517"
      },
      "source": [
        "#Adding elements\n",
        "my_set = {1,3}\n",
        "print(\"my_set:\",my_set)\n",
        "\n",
        "my_set.add(8)\n",
        "print(\"my_set2:\",my_set)\n",
        "\n",
        "my_set.update([6,8,1,4,2])\n",
        "print(\"my_set3:\",my_set)\n",
        "\n",
        "#deleting elements\n",
        "my_set.remove(6)\n",
        "print(\"my_set4:\",my_set)\n",
        "\n"
      ],
      "execution_count": null,
      "outputs": [
        {
          "output_type": "stream",
          "text": [
            "my_set: {1, 3}\n",
            "my_set2: {8, 1, 3}\n",
            "my_set3: {1, 2, 3, 4, 6, 8}\n",
            "my_set4: {1, 2, 3, 4, 8}\n"
          ],
          "name": "stdout"
        }
      ]
    },
    {
      "cell_type": "code",
      "metadata": {
        "ExecuteTime": {
          "end_time": "2021-07-31T05:40:54.545642Z",
          "start_time": "2021-07-31T05:40:54.525695Z"
        },
        "id": "K-E5kK8YNF6O",
        "colab": {
          "base_uri": "https://localhost:8080/"
        },
        "outputId": "5aee62ad-6425-411b-bf41-60d55226c97e"
      },
      "source": [
        "#Union and intersection\n",
        "\n",
        "A = [1, 2, 3, 4, 5,9]\n",
        "B = (4, 5, 6, 7, 8,10)\n",
        "\n",
        "setA=set(A)\n",
        "setB=set(B)\n",
        "\n",
        "print(setA | setB)\n",
        "print(setA.union(setB))\n",
        "\n",
        "print(setA & setB)\n",
        "print(setA.intersection(setB))\n",
        "\n",
        "print(setA-setB)\n",
        "print(setB-setA)"
      ],
      "execution_count": null,
      "outputs": [
        {
          "output_type": "stream",
          "text": [
            "{1, 2, 3, 4, 5, 6, 7, 8, 9, 10}\n",
            "{1, 2, 3, 4, 5, 6, 7, 8, 9, 10}\n",
            "{4, 5}\n",
            "{4, 5}\n",
            "{1, 2, 3, 9}\n",
            "{8, 10, 6, 7}\n"
          ],
          "name": "stdout"
        }
      ]
    },
    {
      "cell_type": "markdown",
      "metadata": {
        "id": "sl09RVRFNF6Q"
      },
      "source": [
        "# Dictionaries"
      ]
    },
    {
      "cell_type": "code",
      "metadata": {
        "scrolled": true,
        "id": "aMnMGSOBNF6R",
        "colab": {
          "base_uri": "https://localhost:8080/"
        },
        "outputId": "6b6f5569-63fb-4ae5-935a-6043c08389b3"
      },
      "source": [
        "# Creating a dictionary\n",
        "my_d1 = {1: 'A', \"B\": 2}\n",
        "print(my_d1)\n",
        "\n",
        "my_d2 = {\"name\": (\"John\",\"Priya\",\"Alex\"), \"ID\": [2,4], \"Marks\":[34,45,38],\"Marks\":[47,45,32]}\n",
        "print(my_d2)\n",
        "print(my_d2[\"name\"])\n",
        "print(my_d2[\"name\"][0],my_d2[\"ID\"][0],my_d2[\"Marks\"][0])\n",
        "print(my_d1[1])\n",
        "#print(my_d2[0])"
      ],
      "execution_count": null,
      "outputs": [
        {
          "output_type": "stream",
          "text": [
            "{1: 'A', 'B': 2}\n",
            "{'name': ('John', 'Priya', 'Alex'), 'ID': [2, 4], 'Marks': [47, 45, 32]}\n",
            "('John', 'Priya', 'Alex')\n",
            "John 2 47\n",
            "A\n"
          ],
          "name": "stdout"
        }
      ]
    },
    {
      "cell_type": "code",
      "metadata": {
        "scrolled": true,
        "id": "OyNVwhHMNF6T",
        "colab": {
          "base_uri": "https://localhost:8080/"
        },
        "outputId": "77faa70d-1b1c-4902-fc5f-633911746e50"
      },
      "source": [
        "my_d={\"Name\":\"Priya\",\"age\":[12,27,30]}\n",
        "my_d['age'][1] = 28\n",
        "print(my_d)\n",
        "\n",
        "my_d['address'] = ['Mumbai','Pune']\n",
        "print(my_d)"
      ],
      "execution_count": null,
      "outputs": [
        {
          "output_type": "stream",
          "text": [
            "{'Name': 'Priya', 'age': [12, 28, 30]}\n",
            "{'Name': 'Priya', 'age': [12, 28, 30], 'address': ['Mumbai', 'Pune']}\n"
          ],
          "name": "stdout"
        }
      ]
    },
    {
      "cell_type": "code",
      "metadata": {
        "id": "LEvZmbDkNF6U",
        "colab": {
          "base_uri": "https://localhost:8080/"
        },
        "outputId": "ec68afd9-19ab-4c30-e3f8-d5d8e3bc2499"
      },
      "source": [
        "del my_d[\"age\"][1]\n",
        "print(my_d)"
      ],
      "execution_count": null,
      "outputs": [
        {
          "output_type": "stream",
          "text": [
            "{'Name': 'Priya', 'age': [12, 30], 'address': ['Mumbai', 'Pune']}\n"
          ],
          "name": "stdout"
        }
      ]
    },
    {
      "cell_type": "code",
      "metadata": {
        "id": "h09XB8KWNF6U",
        "colab": {
          "base_uri": "https://localhost:8080/"
        },
        "outputId": "f91489ee-afb8-4920-8d21-7f31c322f6f3"
      },
      "source": [
        "my_d.values()"
      ],
      "execution_count": null,
      "outputs": [
        {
          "output_type": "execute_result",
          "data": {
            "text/plain": [
              "dict_values(['Priya', [12, 30], ['Mumbai', 'Pune']])"
            ]
          },
          "metadata": {
            "tags": []
          },
          "execution_count": 29
        }
      ]
    },
    {
      "cell_type": "code",
      "metadata": {
        "id": "EP3C5u8VNF6V",
        "colab": {
          "base_uri": "https://localhost:8080/"
        },
        "outputId": "520f7d51-995b-42b3-b12b-72d3d4f1e6e7"
      },
      "source": [
        "my_d.keys()"
      ],
      "execution_count": null,
      "outputs": [
        {
          "output_type": "execute_result",
          "data": {
            "text/plain": [
              "dict_keys(['Name', 'age', 'address'])"
            ]
          },
          "metadata": {
            "tags": []
          },
          "execution_count": 30
        }
      ]
    },
    {
      "cell_type": "code",
      "metadata": {
        "id": "uq4i8lBCNF6V"
      },
      "source": [],
      "execution_count": null,
      "outputs": []
    },
    {
      "cell_type": "code",
      "metadata": {
        "id": "V_lLKcguNF6V"
      },
      "source": [],
      "execution_count": null,
      "outputs": []
    },
    {
      "cell_type": "code",
      "metadata": {
        "id": "mUjJGrpSNF6V"
      },
      "source": [],
      "execution_count": null,
      "outputs": []
    },
    {
      "cell_type": "markdown",
      "metadata": {
        "id": "Sn8IZn9PNF6W"
      },
      "source": [
        "# NumPy"
      ]
    },
    {
      "cell_type": "markdown",
      "metadata": {
        "id": "PZEQ_4aDNF6X"
      },
      "source": [
        "## Introduction\n",
        "\n",
        "- NumPy is a general-purpose array-processing package\n",
        "- Travis Oliphant First Released in 1995 (Released as __Numeric__; Changed to NumPy in 2006). It is written in Python and C\n",
        "- NumPy is cross-platform and BSD-licensed. Often used with packages such as Matplotlib (plotting library) and SciPy (Scientific Python). Sometimes it is seen as an alternative to MATLAB. The term ‘Numpy’ is a portmanteau of the words ‘NUMerical’ and ‘PYthon\n",
        "- It is a library that allows end-users to create **high-performance multidimensional array objects** and manipulate these arrays (objects)\n",
        "- NumPy provides a gamut of high-level functions for mathematical and logical operations, Fourier transforms, array shape manipulations, linear algebra operations, random number generation, etc."
      ]
    },
    {
      "cell_type": "markdown",
      "metadata": {
        "id": "U3ZDA04LNF6X"
      },
      "source": [
        "## Numpy Installation\n",
        "\n",
        "Once you have installed `pip`, i.e., the default python package manager; installing numpy is straightforward.\n",
        "\n",
        "`pip install numpy`"
      ]
    },
    {
      "cell_type": "markdown",
      "metadata": {
        "id": "0JpYpkqONF6X"
      },
      "source": [
        "## Numpy Import\n",
        "\n",
        "Conventionally, numpy is imported as `np` as shown below"
      ]
    },
    {
      "cell_type": "code",
      "metadata": {
        "ExecuteTime": {
          "end_time": "2021-07-31T08:04:40.068512Z",
          "start_time": "2021-07-31T08:04:40.058514Z"
        },
        "id": "aAlrqtm2NF6X"
      },
      "source": [
        "import numpy as np\n",
        "print(np.__version__)    # Check the numpy version"
      ],
      "execution_count": null,
      "outputs": []
    },
    {
      "cell_type": "markdown",
      "metadata": {
        "id": "6PBA7uEcNF6X"
      },
      "source": [
        "## Basic Usage"
      ]
    },
    {
      "cell_type": "code",
      "metadata": {
        "ExecuteTime": {
          "end_time": "2021-07-31T08:04:40.830739Z",
          "start_time": "2021-07-31T08:04:40.820767Z"
        },
        "id": "wqxQqNoRNF6Y",
        "colab": {
          "base_uri": "https://localhost:8080/"
        },
        "outputId": "5a6dcbc4-9ef5-4968-d80f-ebf1e54a8244"
      },
      "source": [
        "# Create a 3 x 3 array, with all elements initialized to 1. Default data type for array is float.\n",
        "b = np.ones((3, 3))\n",
        "print(b)\n",
        "type(b)    # print datatype of b\n",
        "b.dtype    # print datatype of elements in b"
      ],
      "execution_count": null,
      "outputs": [
        {
          "output_type": "stream",
          "text": [
            "[[1. 1. 1.]\n",
            " [1. 1. 1.]\n",
            " [1. 1. 1.]]\n"
          ],
          "name": "stdout"
        },
        {
          "output_type": "execute_result",
          "data": {
            "text/plain": [
              "dtype('float64')"
            ]
          },
          "metadata": {
            "tags": []
          },
          "execution_count": 64
        }
      ]
    },
    {
      "cell_type": "code",
      "metadata": {
        "ExecuteTime": {
          "end_time": "2021-07-31T08:04:41.177789Z",
          "start_time": "2021-07-31T08:04:41.171805Z"
        },
        "id": "LTm1UeHxNF6Y",
        "colab": {
          "base_uri": "https://localhost:8080/"
        },
        "outputId": "5a2bb87d-9f72-453f-9ab4-ef81439f45c7"
      },
      "source": [
        "# Modify the data type of array elements\n",
        "c = np.ones((3, 3), dtype=int)\n",
        "print(c)\n",
        "type(c)\n",
        "c.dtype"
      ],
      "execution_count": null,
      "outputs": [
        {
          "output_type": "stream",
          "text": [
            "[[1 1 1]\n",
            " [1 1 1]\n",
            " [1 1 1]]\n"
          ],
          "name": "stdout"
        },
        {
          "output_type": "execute_result",
          "data": {
            "text/plain": [
              "dtype('int64')"
            ]
          },
          "metadata": {
            "tags": []
          },
          "execution_count": 65
        }
      ]
    },
    {
      "cell_type": "code",
      "metadata": {
        "ExecuteTime": {
          "end_time": "2021-07-31T08:04:42.621730Z",
          "start_time": "2021-07-31T08:04:42.611731Z"
        },
        "id": "K0XslBUgNF6Y",
        "colab": {
          "base_uri": "https://localhost:8080/"
        },
        "outputId": "a886f2fe-24b6-487c-b56d-ece4a9d54127"
      },
      "source": [
        "d = np.array([11 + 12j, 13 + 14j, 15 + 16j])    # numpy array with complex data type\n",
        "d.dtype"
      ],
      "execution_count": null,
      "outputs": [
        {
          "output_type": "execute_result",
          "data": {
            "text/plain": [
              "dtype('complex128')"
            ]
          },
          "metadata": {
            "tags": []
          },
          "execution_count": 66
        }
      ]
    },
    {
      "cell_type": "code",
      "metadata": {
        "ExecuteTime": {
          "end_time": "2021-07-31T08:04:43.160849Z",
          "start_time": "2021-07-31T08:04:43.155862Z"
        },
        "id": "FT2ZCjZFNF6Y",
        "colab": {
          "base_uri": "https://localhost:8080/"
        },
        "outputId": "6bd14188-3ff7-41b1-9739-c3c94d7ccb40"
      },
      "source": [
        "e = np.array([False, True, True, False, False, True])    # numpy array with boolean data type\n",
        "e.dtype"
      ],
      "execution_count": null,
      "outputs": [
        {
          "output_type": "execute_result",
          "data": {
            "text/plain": [
              "dtype('bool')"
            ]
          },
          "metadata": {
            "tags": []
          },
          "execution_count": 67
        }
      ]
    },
    {
      "cell_type": "code",
      "metadata": {
        "ExecuteTime": {
          "end_time": "2021-07-31T08:04:44.294205Z",
          "start_time": "2021-07-31T08:04:44.289219Z"
        },
        "id": "hebg1WCNNF6Y",
        "colab": {
          "base_uri": "https://localhost:8080/"
        },
        "outputId": "95a6e9f6-25f4-44bd-ec20-5b2f858c8ab2"
      },
      "source": [
        "f = np.array(['Welcome', 'To', 'Numpy'])\n",
        "f.dtype    # Unicode string of 7 characters"
      ],
      "execution_count": null,
      "outputs": [
        {
          "output_type": "execute_result",
          "data": {
            "text/plain": [
              "dtype('<U7')"
            ]
          },
          "metadata": {
            "tags": []
          },
          "execution_count": 68
        }
      ]
    },
    {
      "cell_type": "code",
      "metadata": {
        "ExecuteTime": {
          "end_time": "2021-07-31T08:04:57.434203Z",
          "start_time": "2021-07-31T08:04:57.421153Z"
        },
        "id": "JmFwnqR0NF6Y",
        "colab": {
          "base_uri": "https://localhost:8080/"
        },
        "outputId": "a7157d2d-e479-4bdd-ef77-33ea7559ae25"
      },
      "source": [
        "len(f)    # get the length of the array"
      ],
      "execution_count": null,
      "outputs": [
        {
          "output_type": "execute_result",
          "data": {
            "text/plain": [
              "3"
            ]
          },
          "metadata": {
            "tags": []
          },
          "execution_count": 69
        }
      ]
    },
    {
      "cell_type": "code",
      "metadata": {
        "ExecuteTime": {
          "end_time": "2021-07-31T08:05:00.386666Z",
          "start_time": "2021-07-31T08:05:00.368715Z"
        },
        "id": "_iCFD4O6NF6Y",
        "colab": {
          "base_uri": "https://localhost:8080/"
        },
        "outputId": "84264ab1-32e8-4008-ea34-4b55c85b34c2"
      },
      "source": [
        "# Shortcut to create an array of numbers\n",
        "ar = np.arange(10)\n",
        "print(ar)\n",
        "\n",
        "\n",
        "print(np.arange(start=1,stop=10,step=3))"
      ],
      "execution_count": null,
      "outputs": [
        {
          "output_type": "stream",
          "text": [
            "[0 1 2 3 4 5 6 7 8 9]\n",
            "[1 4 7]\n"
          ],
          "name": "stdout"
        }
      ]
    },
    {
      "cell_type": "code",
      "metadata": {
        "ExecuteTime": {
          "end_time": "2021-07-31T08:07:28.674115Z",
          "start_time": "2021-07-31T08:07:28.665166Z"
        },
        "id": "7-EamiXONF6Z",
        "colab": {
          "base_uri": "https://localhost:8080/"
        },
        "outputId": "a65713cb-9c63-4100-8f6c-a9f2a936d488"
      },
      "source": [
        "# Indexing on 1-D array - This is similar to Python lists\n",
        "ar[1], ar[3], ar[-1]"
      ],
      "execution_count": null,
      "outputs": [
        {
          "output_type": "execute_result",
          "data": {
            "text/plain": [
              "(1, 3, 9)"
            ]
          },
          "metadata": {
            "tags": []
          },
          "execution_count": 75
        }
      ]
    },
    {
      "cell_type": "code",
      "metadata": {
        "ExecuteTime": {
          "end_time": "2021-07-31T08:07:54.563075Z",
          "start_time": "2021-07-31T08:07:54.552105Z"
        },
        "id": "fUdykA3iNF6Z",
        "colab": {
          "base_uri": "https://localhost:8080/"
        },
        "outputId": "1d33f7af-3c77-482b-d3b0-10f751096b5d"
      },
      "source": [
        "# Arrays are assigned by reference\n",
        "\n",
        "a = np.array([10, 11, 12, 13]) # create array\n",
        "print(a)       # print a's value\n",
        "print(type(a)) # type of variable a\n",
        "print(id(a))\n",
        "\n",
        "b = a    # reference assignment\n",
        "print(id(b))\n",
        "b[0] = 20\n",
        "print(a[0])"
      ],
      "execution_count": null,
      "outputs": [
        {
          "output_type": "stream",
          "text": [
            "[10 11 12 13]\n",
            "<class 'numpy.ndarray'>\n",
            "140648459259776\n",
            "140648459259776\n",
            "20\n"
          ],
          "name": "stdout"
        }
      ]
    },
    {
      "cell_type": "code",
      "metadata": {
        "id": "DaCrVn5yNF6Z"
      },
      "source": [],
      "execution_count": null,
      "outputs": []
    },
    {
      "cell_type": "code",
      "metadata": {
        "ExecuteTime": {
          "end_time": "2021-07-31T06:08:52.942150Z",
          "start_time": "2021-07-31T06:08:52.934171Z"
        },
        "scrolled": true,
        "id": "aLBB55x1NF6Z",
        "colab": {
          "base_uri": "https://localhost:8080/"
        },
        "outputId": "efd1319c-324b-4b38-f6ef-fe1ea4e36e6a"
      },
      "source": [
        "a=np.array([(1,2,3),(4,5,6),(7,8,9)])\n",
        "print(a)\n",
        "print(a.ndim)\n",
        "print(a.shape)"
      ],
      "execution_count": null,
      "outputs": [
        {
          "output_type": "stream",
          "text": [
            "[[1 2 3]\n",
            " [4 5 6]\n",
            " [7 8 9]]\n",
            "2\n",
            "(3, 3)\n"
          ],
          "name": "stdout"
        }
      ]
    },
    {
      "cell_type": "code",
      "metadata": {
        "ExecuteTime": {
          "end_time": "2021-07-31T06:09:03.758042Z",
          "start_time": "2021-07-31T06:09:03.749065Z"
        },
        "id": "g--1x8dnNF6Z",
        "colab": {
          "base_uri": "https://localhost:8080/"
        },
        "outputId": "0470b4db-71ad-4c16-ada0-e88a95e4c3c5"
      },
      "source": [
        "a=np.array([((1,2,3),(4,5,6),(7,8,9)),((1,2,3),(4,5,6),(7,8,9))])\n",
        "print(a)\n",
        "print(a.ndim)\n",
        "print(a.shape)"
      ],
      "execution_count": null,
      "outputs": [
        {
          "output_type": "stream",
          "text": [
            "[[[1 2 3]\n",
            "  [4 5 6]\n",
            "  [7 8 9]]\n",
            "\n",
            " [[1 2 3]\n",
            "  [4 5 6]\n",
            "  [7 8 9]]]\n",
            "3\n",
            "(2, 3, 3)\n"
          ],
          "name": "stdout"
        }
      ]
    },
    {
      "cell_type": "markdown",
      "metadata": {
        "id": "cM4R8W4MNF6Z"
      },
      "source": [
        "## Indexing and slicing\n",
        "\n",
        "Indexes are tuples of numbers"
      ]
    },
    {
      "cell_type": "code",
      "metadata": {
        "ExecuteTime": {
          "end_time": "2021-07-31T08:09:45.023249Z",
          "start_time": "2021-07-31T08:09:45.005320Z"
        },
        "id": "Y-9V0xR_NF6Z",
        "colab": {
          "base_uri": "https://localhost:8080/"
        },
        "outputId": "2ef35d06-8b0a-4708-a69e-219b4b7b8b6f"
      },
      "source": [
        "a = np.diag(np.arange(3))   # create a 3 by 3 array with diagonal elements set to 0, 1, 2\n",
        "print(a)\n",
        "a[2, 2]    # Indexing starts with 0. Here we are slicing one element in the second row and second column. We used a tuple 1, 1"
      ],
      "execution_count": null,
      "outputs": [
        {
          "output_type": "stream",
          "text": [
            "[[0 0 0]\n",
            " [0 1 0]\n",
            " [0 0 2]]\n"
          ],
          "name": "stdout"
        },
        {
          "output_type": "execute_result",
          "data": {
            "text/plain": [
              "2"
            ]
          },
          "metadata": {
            "tags": []
          },
          "execution_count": 83
        }
      ]
    },
    {
      "cell_type": "code",
      "metadata": {
        "ExecuteTime": {
          "end_time": "2021-07-31T08:09:45.405650Z",
          "start_time": "2021-07-31T08:09:45.400664Z"
        },
        "id": "2WbGzTXFNF6Z",
        "colab": {
          "base_uri": "https://localhost:8080/"
        },
        "outputId": "20525e39-64b7-4588-c1e7-df7fab8a9aa6"
      },
      "source": [
        "a[2, 1] = 12 # Update array element\n",
        "a"
      ],
      "execution_count": null,
      "outputs": [
        {
          "output_type": "execute_result",
          "data": {
            "text/plain": [
              "array([[ 0,  0,  0],\n",
              "       [ 0,  1,  0],\n",
              "       [ 0, 12,  2]])"
            ]
          },
          "metadata": {
            "tags": []
          },
          "execution_count": 84
        }
      ]
    },
    {
      "cell_type": "code",
      "metadata": {
        "ExecuteTime": {
          "end_time": "2021-07-31T08:09:45.690611Z",
          "start_time": "2021-07-31T08:09:45.687554Z"
        },
        "id": "cd4o58IaNF6Z",
        "colab": {
          "base_uri": "https://localhost:8080/"
        },
        "outputId": "2fff4275-01e1-4d95-80ff-a27b6d12d189"
      },
      "source": [
        "print(a[1:, 0:2])  # We can use slicing concepts for all the dimensions!"
      ],
      "execution_count": null,
      "outputs": [
        {
          "output_type": "stream",
          "text": [
            "[[ 0  1]\n",
            " [ 0 12]]\n"
          ],
          "name": "stdout"
        }
      ]
    },
    {
      "cell_type": "code",
      "metadata": {
        "ExecuteTime": {
          "end_time": "2021-07-31T08:09:45.960106Z",
          "start_time": "2021-07-31T08:09:45.950133Z"
        },
        "id": "EBow41SlNF6a",
        "colab": {
          "base_uri": "https://localhost:8080/"
        },
        "outputId": "8c3b47f4-b92e-43ca-c658-36ef068b87c2"
      },
      "source": [
        "ar = np.arange(10)\n",
        "print(ar)\n",
        "ar[:4]    # Slice, starting from zero and ending at three"
      ],
      "execution_count": null,
      "outputs": [
        {
          "output_type": "stream",
          "text": [
            "[0 1 2 3 4 5 6 7 8 9]\n"
          ],
          "name": "stdout"
        },
        {
          "output_type": "execute_result",
          "data": {
            "text/plain": [
              "array([0, 1, 2, 3])"
            ]
          },
          "metadata": {
            "tags": []
          },
          "execution_count": 86
        }
      ]
    },
    {
      "cell_type": "code",
      "metadata": {
        "ExecuteTime": {
          "end_time": "2021-07-31T08:09:46.243451Z",
          "start_time": "2021-07-31T08:09:46.229491Z"
        },
        "id": "KEc0W5TENF6a",
        "colab": {
          "base_uri": "https://localhost:8080/"
        },
        "outputId": "443a21ff-4166-401f-f8e9-629b29db8c9f"
      },
      "source": [
        "ar[::3]    # Slice every second element, starting from 0"
      ],
      "execution_count": null,
      "outputs": [
        {
          "output_type": "execute_result",
          "data": {
            "text/plain": [
              "array([0, 3, 6, 9])"
            ]
          },
          "metadata": {
            "tags": []
          },
          "execution_count": 88
        }
      ]
    },
    {
      "cell_type": "markdown",
      "metadata": {
        "id": "e9DXayElNF6a"
      },
      "source": [
        "## Transpose"
      ]
    },
    {
      "cell_type": "code",
      "metadata": {
        "ExecuteTime": {
          "end_time": "2021-07-31T08:09:53.086138Z",
          "start_time": "2021-07-31T08:09:53.082105Z"
        },
        "id": "hcF9OBpsNF6a",
        "colab": {
          "base_uri": "https://localhost:8080/"
        },
        "outputId": "1f7913b6-f877-4eb7-ad0f-5241f7a732e8"
      },
      "source": [
        "import numpy as np\n",
        "help(np.transpose)"
      ],
      "execution_count": null,
      "outputs": [
        {
          "output_type": "stream",
          "text": [
            "Help on function transpose in module numpy:\n",
            "\n",
            "transpose(a, axes=None)\n",
            "    Reverse or permute the axes of an array; returns the modified array.\n",
            "    \n",
            "    For an array a with two axes, transpose(a) gives the matrix transpose.\n",
            "    \n",
            "    Parameters\n",
            "    ----------\n",
            "    a : array_like\n",
            "        Input array.\n",
            "    axes : tuple or list of ints, optional\n",
            "        If specified, it must be a tuple or list which contains a permutation of\n",
            "        [0,1,..,N-1] where N is the number of axes of a.  The i'th axis of the\n",
            "        returned array will correspond to the axis numbered ``axes[i]`` of the\n",
            "        input.  If not specified, defaults to ``range(a.ndim)[::-1]``, which\n",
            "        reverses the order of the axes.\n",
            "    \n",
            "    Returns\n",
            "    -------\n",
            "    p : ndarray\n",
            "        `a` with its axes permuted.  A view is returned whenever\n",
            "        possible.\n",
            "    \n",
            "    See Also\n",
            "    --------\n",
            "    moveaxis\n",
            "    argsort\n",
            "    \n",
            "    Notes\n",
            "    -----\n",
            "    Use `transpose(a, argsort(axes))` to invert the transposition of tensors\n",
            "    when using the `axes` keyword argument.\n",
            "    \n",
            "    Transposing a 1-D array returns an unchanged view of the original array.\n",
            "    \n",
            "    Examples\n",
            "    --------\n",
            "    >>> x = np.arange(4).reshape((2,2))\n",
            "    >>> x\n",
            "    array([[0, 1],\n",
            "           [2, 3]])\n",
            "    \n",
            "    >>> np.transpose(x)\n",
            "    array([[0, 2],\n",
            "           [1, 3]])\n",
            "    \n",
            "    >>> x = np.ones((1, 2, 3))\n",
            "    >>> np.transpose(x, (1, 0, 2)).shape\n",
            "    (2, 1, 3)\n",
            "\n"
          ],
          "name": "stdout"
        }
      ]
    },
    {
      "cell_type": "code",
      "metadata": {
        "ExecuteTime": {
          "end_time": "2021-07-31T08:09:53.465055Z",
          "start_time": "2021-07-31T08:09:53.449098Z"
        },
        "id": "Hf45vRHKNF6a",
        "colab": {
          "base_uri": "https://localhost:8080/"
        },
        "outputId": "ead01c79-d1b0-46ad-985e-16a24eeed43a"
      },
      "source": [
        "arr = np.array([[1, 2, 3], [4, 5, 6]])\n",
        "print(\"Array shape:\", arr.shape)\n",
        "print(arr)\n",
        "arr_transp = np.transpose(arr)\n",
        "print(\"Transpose array shape:\", arr_transp.shape)\n",
        "print(arr_transp)\n",
        "# + np.transpose([np.arange(0, 51, 10)])"
      ],
      "execution_count": null,
      "outputs": [
        {
          "output_type": "stream",
          "text": [
            "Array shape: (2, 3)\n",
            "[[1 2 3]\n",
            " [4 5 6]]\n",
            "Transpose array shape: (3, 2)\n",
            "[[1 4]\n",
            " [2 5]\n",
            " [3 6]]\n"
          ],
          "name": "stdout"
        }
      ]
    },
    {
      "cell_type": "markdown",
      "metadata": {
        "id": "6X-LwItTNF6a"
      },
      "source": [
        "## Updating Array Values"
      ]
    },
    {
      "cell_type": "code",
      "metadata": {
        "ExecuteTime": {
          "end_time": "2021-07-31T08:09:54.612949Z",
          "start_time": "2021-07-31T08:09:54.595995Z"
        },
        "id": "jo603GSkNF6a",
        "colab": {
          "base_uri": "https://localhost:8080/"
        },
        "outputId": "cf45ddb9-cd7c-456e-90c5-da03fccc6ef0"
      },
      "source": [
        "arr[1][1] = 3\n",
        "print(arr)    # value 5 is updated by 2\n",
        "\n",
        "arr_transp[1, 1] = 2  # value 5 updated by 2\n",
        "print(\"arr_transp:\",arr_transp)"
      ],
      "execution_count": null,
      "outputs": [
        {
          "output_type": "stream",
          "text": [
            "[[1 2 3]\n",
            " [4 3 6]]\n",
            "arr_transp: [[1 4]\n",
            " [2 2]\n",
            " [3 6]]\n"
          ],
          "name": "stdout"
        }
      ]
    },
    {
      "cell_type": "markdown",
      "metadata": {
        "id": "Q52qwOQdNF6a"
      },
      "source": [
        "## Total Number of Elements in the Array"
      ]
    },
    {
      "cell_type": "code",
      "metadata": {
        "ExecuteTime": {
          "end_time": "2021-07-31T08:09:56.481452Z",
          "start_time": "2021-07-31T08:09:56.465494Z"
        },
        "id": "e1kdIEkjNF6a",
        "colab": {
          "base_uri": "https://localhost:8080/"
        },
        "outputId": "4ceae53a-4983-42c3-e753-08245c0988f8"
      },
      "source": [
        "import numpy as np\n",
        "help(np.size)"
      ],
      "execution_count": null,
      "outputs": [
        {
          "output_type": "stream",
          "text": [
            "Help on function size in module numpy:\n",
            "\n",
            "size(a, axis=None)\n",
            "    Return the number of elements along a given axis.\n",
            "    \n",
            "    Parameters\n",
            "    ----------\n",
            "    a : array_like\n",
            "        Input data.\n",
            "    axis : int, optional\n",
            "        Axis along which the elements are counted.  By default, give\n",
            "        the total number of elements.\n",
            "    \n",
            "    Returns\n",
            "    -------\n",
            "    element_count : int\n",
            "        Number of elements along the specified axis.\n",
            "    \n",
            "    See Also\n",
            "    --------\n",
            "    shape : dimensions of array\n",
            "    ndarray.shape : dimensions of array\n",
            "    ndarray.size : number of elements in array\n",
            "    \n",
            "    Examples\n",
            "    --------\n",
            "    >>> a = np.array([[1,2,3],[4,5,6]])\n",
            "    >>> np.size(a)\n",
            "    6\n",
            "    >>> np.size(a,1)\n",
            "    3\n",
            "    >>> np.size(a,0)\n",
            "    2\n",
            "\n"
          ],
          "name": "stdout"
        }
      ]
    },
    {
      "cell_type": "code",
      "metadata": {
        "ExecuteTime": {
          "end_time": "2021-07-31T08:09:58.038644Z",
          "start_time": "2021-07-31T08:09:58.024682Z"
        },
        "id": "HS6AGf74NF6a",
        "colab": {
          "base_uri": "https://localhost:8080/"
        },
        "outputId": "9fca2ac9-be09-4f24-ead3-013a329f66a7"
      },
      "source": [
        "arr.size"
      ],
      "execution_count": null,
      "outputs": [
        {
          "output_type": "execute_result",
          "data": {
            "text/plain": [
              "6"
            ]
          },
          "metadata": {
            "tags": []
          },
          "execution_count": 95
        }
      ]
    },
    {
      "cell_type": "markdown",
      "metadata": {
        "id": "ZT58KQQ_NF6a"
      },
      "source": [
        "## Array of Random Numbers"
      ]
    },
    {
      "cell_type": "code",
      "metadata": {
        "ExecuteTime": {
          "end_time": "2021-07-31T08:10:00.649974Z",
          "start_time": "2021-07-31T08:10:00.633020Z"
        },
        "id": "r2FdliMHNF6a",
        "colab": {
          "base_uri": "https://localhost:8080/"
        },
        "outputId": "683b40c4-58e8-4946-f496-e5fc44395d38"
      },
      "source": [
        "import numpy as np\n",
        "help(np.random.random)"
      ],
      "execution_count": null,
      "outputs": [
        {
          "output_type": "stream",
          "text": [
            "Help on built-in function random:\n",
            "\n",
            "random(...) method of numpy.random.mtrand.RandomState instance\n",
            "    random(size=None)\n",
            "    \n",
            "    Return random floats in the half-open interval [0.0, 1.0). Alias for\n",
            "    `random_sample` to ease forward-porting to the new random API.\n",
            "\n"
          ],
          "name": "stdout"
        }
      ]
    },
    {
      "cell_type": "code",
      "metadata": {
        "ExecuteTime": {
          "end_time": "2021-07-31T08:10:00.996990Z",
          "start_time": "2021-07-31T08:10:00.980992Z"
        },
        "id": "3-Sb_g7sNF6b",
        "colab": {
          "base_uri": "https://localhost:8080/"
        },
        "outputId": "0076bbba-2fc6-4f19-c9da-02a614b3de30"
      },
      "source": [
        "nr = np.random.random((4, 4)) # 2 dimensional array of 3 rows and 3 columns with random numbers\n",
        "# Elements in array are randomly generated using the random function.\n",
        "print(nr)"
      ],
      "execution_count": null,
      "outputs": [
        {
          "output_type": "stream",
          "text": [
            "[[0.7675743  0.37500339 0.79654756 0.74308319]\n",
            " [0.31053198 0.73490103 0.6069545  0.14232139]\n",
            " [0.37909269 0.69830759 0.10064812 0.04478343]\n",
            " [0.37639264 0.47845034 0.60248801 0.86307427]]\n"
          ],
          "name": "stdout"
        }
      ]
    },
    {
      "cell_type": "code",
      "metadata": {
        "id": "eNV4ExR3NF6b"
      },
      "source": [],
      "execution_count": null,
      "outputs": []
    },
    {
      "cell_type": "code",
      "metadata": {
        "id": "HxB4oJKENF6b"
      },
      "source": [],
      "execution_count": null,
      "outputs": []
    },
    {
      "cell_type": "markdown",
      "metadata": {
        "id": "pVxKT_OhNF6b"
      },
      "source": [
        "## Array Functions"
      ]
    },
    {
      "cell_type": "markdown",
      "metadata": {
        "id": "jZTb1w93NF6b"
      },
      "source": [
        "### `np.ones()`\n",
        "\n",
        "Returns a new array of given shape and data type, where all the elements are set to 1.\n",
        "\n",
        "`ones(shape, dtype=None, order='C')`\n",
        "\n",
        "The shape is an int or tuple of ints to define the size of the array. If we just specify an int variable, a one-dimensional array will be returned. For a tuple of ints, the array of given shape will be returned.<br>\n",
        "The dtype is an optional parameter with default value as a float. It’s used to specify the data type of the array, for example, int. <br>\n",
        "The order defines the whether to store multi-dimensional array in row-major (C-style) or column-major (Fortran-style) order in memory."
      ]
    },
    {
      "cell_type": "code",
      "metadata": {
        "id": "puenzYsBNF6b",
        "colab": {
          "base_uri": "https://localhost:8080/"
        },
        "outputId": "0d734a5e-63b3-4acb-e297-290d02a1bcea"
      },
      "source": [
        "help(np.ones)"
      ],
      "execution_count": null,
      "outputs": [
        {
          "output_type": "stream",
          "text": [
            "Help on function ones in module numpy:\n",
            "\n",
            "ones(shape, dtype=None, order='C')\n",
            "    Return a new array of given shape and type, filled with ones.\n",
            "    \n",
            "    Parameters\n",
            "    ----------\n",
            "    shape : int or sequence of ints\n",
            "        Shape of the new array, e.g., ``(2, 3)`` or ``2``.\n",
            "    dtype : data-type, optional\n",
            "        The desired data-type for the array, e.g., `numpy.int8`.  Default is\n",
            "        `numpy.float64`.\n",
            "    order : {'C', 'F'}, optional, default: C\n",
            "        Whether to store multi-dimensional data in row-major\n",
            "        (C-style) or column-major (Fortran-style) order in\n",
            "        memory.\n",
            "    \n",
            "    Returns\n",
            "    -------\n",
            "    out : ndarray\n",
            "        Array of ones with the given shape, dtype, and order.\n",
            "    \n",
            "    See Also\n",
            "    --------\n",
            "    ones_like : Return an array of ones with shape and type of input.\n",
            "    empty : Return a new uninitialized array.\n",
            "    zeros : Return a new array setting values to zero.\n",
            "    full : Return a new array of given shape filled with value.\n",
            "    \n",
            "    \n",
            "    Examples\n",
            "    --------\n",
            "    >>> np.ones(5)\n",
            "    array([1., 1., 1., 1., 1.])\n",
            "    \n",
            "    >>> np.ones((5,), dtype=int)\n",
            "    array([1, 1, 1, 1, 1])\n",
            "    \n",
            "    >>> np.ones((2, 1))\n",
            "    array([[1.],\n",
            "           [1.]])\n",
            "    \n",
            "    >>> s = (2,2)\n",
            "    >>> np.ones(s)\n",
            "    array([[1.,  1.],\n",
            "           [1.,  1.]])\n",
            "\n"
          ],
          "name": "stdout"
        }
      ]
    },
    {
      "cell_type": "code",
      "metadata": {
        "id": "2MjLK9BANF6b",
        "colab": {
          "base_uri": "https://localhost:8080/"
        },
        "outputId": "ad2ee342-019d-4437-9b54-bf05da18c530"
      },
      "source": [
        "c = np.ones((3, 2),dtype=int)\n",
        "print(c)"
      ],
      "execution_count": null,
      "outputs": [
        {
          "output_type": "stream",
          "text": [
            "[[1 1]\n",
            " [1 1]\n",
            " [1 1]]\n"
          ],
          "name": "stdout"
        }
      ]
    },
    {
      "cell_type": "markdown",
      "metadata": {
        "id": "DKl25_jTNF6b"
      },
      "source": [
        "### `np.zeros()`\n",
        "\n",
        "It is identical to `np.ones()`, except that all the elements are initialized to zero."
      ]
    },
    {
      "cell_type": "code",
      "metadata": {
        "id": "6vUUX-9zNF6b",
        "colab": {
          "base_uri": "https://localhost:8080/"
        },
        "outputId": "030e510d-b0e6-4112-a959-e06179e7de0f"
      },
      "source": [
        "import numpy as np\n",
        "help(np.zeros)"
      ],
      "execution_count": null,
      "outputs": [
        {
          "output_type": "stream",
          "text": [
            "Help on built-in function zeros in module numpy:\n",
            "\n",
            "zeros(...)\n",
            "    zeros(shape, dtype=float, order='C')\n",
            "    \n",
            "    Return a new array of given shape and type, filled with zeros.\n",
            "    \n",
            "    Parameters\n",
            "    ----------\n",
            "    shape : int or tuple of ints\n",
            "        Shape of the new array, e.g., ``(2, 3)`` or ``2``.\n",
            "    dtype : data-type, optional\n",
            "        The desired data-type for the array, e.g., `numpy.int8`.  Default is\n",
            "        `numpy.float64`.\n",
            "    order : {'C', 'F'}, optional, default: 'C'\n",
            "        Whether to store multi-dimensional data in row-major\n",
            "        (C-style) or column-major (Fortran-style) order in\n",
            "        memory.\n",
            "    \n",
            "    Returns\n",
            "    -------\n",
            "    out : ndarray\n",
            "        Array of zeros with the given shape, dtype, and order.\n",
            "    \n",
            "    See Also\n",
            "    --------\n",
            "    zeros_like : Return an array of zeros with shape and type of input.\n",
            "    empty : Return a new uninitialized array.\n",
            "    ones : Return a new array setting values to one.\n",
            "    full : Return a new array of given shape filled with value.\n",
            "    \n",
            "    Examples\n",
            "    --------\n",
            "    >>> np.zeros(5)\n",
            "    array([ 0.,  0.,  0.,  0.,  0.])\n",
            "    \n",
            "    >>> np.zeros((5,), dtype=int)\n",
            "    array([0, 0, 0, 0, 0])\n",
            "    \n",
            "    >>> np.zeros((2, 1))\n",
            "    array([[ 0.],\n",
            "           [ 0.]])\n",
            "    \n",
            "    >>> s = (2,2)\n",
            "    >>> np.zeros(s)\n",
            "    array([[ 0.,  0.],\n",
            "           [ 0.,  0.]])\n",
            "    \n",
            "    >>> np.zeros((2,), dtype=[('x', 'i4'), ('y', 'i4')]) # custom dtype\n",
            "    array([(0, 0), (0, 0)],\n",
            "          dtype=[('x', '<i4'), ('y', '<i4')])\n",
            "\n"
          ],
          "name": "stdout"
        }
      ]
    },
    {
      "cell_type": "code",
      "metadata": {
        "id": "qCSWqd0KNF6b",
        "colab": {
          "base_uri": "https://localhost:8080/"
        },
        "outputId": "65de5255-a9ee-400b-91a4-2655cbf79ab4"
      },
      "source": [
        "d = np.zeros((2, 4),dtype=int)\n",
        "print(d)"
      ],
      "execution_count": null,
      "outputs": [
        {
          "output_type": "stream",
          "text": [
            "[[0 0 0 0]\n",
            " [0 0 0 0]]\n"
          ],
          "name": "stdout"
        }
      ]
    },
    {
      "cell_type": "markdown",
      "metadata": {
        "id": "aVz4ZR5hNF6b"
      },
      "source": [
        "### `np.eye()`\n",
        "\n",
        "Returns an array where all the elements are equal to zero, except diagonal elements that are initialized to 1."
      ]
    },
    {
      "cell_type": "code",
      "metadata": {
        "id": "nJgJpoidNF6b",
        "colab": {
          "base_uri": "https://localhost:8080/"
        },
        "outputId": "ffe2476f-6b2a-4341-ad4d-c5ed7680f74b"
      },
      "source": [
        "import numpy as np\n",
        "help(np.eye)"
      ],
      "execution_count": null,
      "outputs": [
        {
          "output_type": "stream",
          "text": [
            "Help on function eye in module numpy:\n",
            "\n",
            "eye(N, M=None, k=0, dtype=<class 'float'>, order='C')\n",
            "    Return a 2-D array with ones on the diagonal and zeros elsewhere.\n",
            "    \n",
            "    Parameters\n",
            "    ----------\n",
            "    N : int\n",
            "      Number of rows in the output.\n",
            "    M : int, optional\n",
            "      Number of columns in the output. If None, defaults to `N`.\n",
            "    k : int, optional\n",
            "      Index of the diagonal: 0 (the default) refers to the main diagonal,\n",
            "      a positive value refers to an upper diagonal, and a negative value\n",
            "      to a lower diagonal.\n",
            "    dtype : data-type, optional\n",
            "      Data-type of the returned array.\n",
            "    order : {'C', 'F'}, optional\n",
            "        Whether the output should be stored in row-major (C-style) or\n",
            "        column-major (Fortran-style) order in memory.\n",
            "    \n",
            "        .. versionadded:: 1.14.0\n",
            "    \n",
            "    Returns\n",
            "    -------\n",
            "    I : ndarray of shape (N,M)\n",
            "      An array where all elements are equal to zero, except for the `k`-th\n",
            "      diagonal, whose values are equal to one.\n",
            "    \n",
            "    See Also\n",
            "    --------\n",
            "    identity : (almost) equivalent function\n",
            "    diag : diagonal 2-D array from a 1-D array specified by the user.\n",
            "    \n",
            "    Examples\n",
            "    --------\n",
            "    >>> np.eye(2, dtype=int)\n",
            "    array([[1, 0],\n",
            "           [0, 1]])\n",
            "    >>> np.eye(3, k=1)\n",
            "    array([[0.,  1.,  0.],\n",
            "           [0.,  0.,  1.],\n",
            "           [0.,  0.,  0.]])\n",
            "\n"
          ],
          "name": "stdout"
        }
      ]
    },
    {
      "cell_type": "code",
      "metadata": {
        "id": "ip2uJtixNF6c",
        "colab": {
          "base_uri": "https://localhost:8080/"
        },
        "outputId": "a28067f1-a80b-4c09-98ed-ee922526c2ee"
      },
      "source": [
        "e = np.eye((3))  # This creates the popularly known Identity Matrix!\n",
        "print(e)"
      ],
      "execution_count": null,
      "outputs": [
        {
          "output_type": "stream",
          "text": [
            "[[1. 0. 0.]\n",
            " [0. 1. 0.]\n",
            " [0. 0. 1.]]\n"
          ],
          "name": "stdout"
        }
      ]
    },
    {
      "cell_type": "code",
      "metadata": {
        "id": "m6LwcUcgNF6c",
        "colab": {
          "base_uri": "https://localhost:8080/"
        },
        "outputId": "139d184d-6bed-4e58-e8f4-7c1f188d60e9"
      },
      "source": [
        "# Different dimensions of arrays created with np.eye\n",
        "print(np.eye(5))\n",
        "print()\n",
        "print(np.eye(2,3))\n",
        "print()\n",
        "print(np.eye(3,3))\n",
        "print()\n",
        "print(np.eye(4, k=-3))\n",
        "print()\n",
        "print(np.eye(5, k=2))\n",
        "print()\n",
        "print(np.eye(2, 3))\n",
        "print()\n",
        "print(np.eye(5, dtype=int))"
      ],
      "execution_count": null,
      "outputs": [
        {
          "output_type": "stream",
          "text": [
            "[[1. 0. 0. 0. 0.]\n",
            " [0. 1. 0. 0. 0.]\n",
            " [0. 0. 1. 0. 0.]\n",
            " [0. 0. 0. 1. 0.]\n",
            " [0. 0. 0. 0. 1.]]\n",
            "\n",
            "[[1. 0. 0.]\n",
            " [0. 1. 0.]]\n",
            "\n",
            "[[1. 0. 0.]\n",
            " [0. 1. 0.]\n",
            " [0. 0. 1.]]\n",
            "\n",
            "[[0. 0. 0. 0.]\n",
            " [0. 0. 0. 0.]\n",
            " [0. 0. 0. 0.]\n",
            " [1. 0. 0. 0.]]\n",
            "\n",
            "[[0. 0. 1. 0. 0.]\n",
            " [0. 0. 0. 1. 0.]\n",
            " [0. 0. 0. 0. 1.]\n",
            " [0. 0. 0. 0. 0.]\n",
            " [0. 0. 0. 0. 0.]]\n",
            "\n",
            "[[1. 0. 0.]\n",
            " [0. 1. 0.]]\n",
            "\n",
            "[[1 0 0 0 0]\n",
            " [0 1 0 0 0]\n",
            " [0 0 1 0 0]\n",
            " [0 0 0 1 0]\n",
            " [0 0 0 0 1]]\n"
          ],
          "name": "stdout"
        }
      ]
    },
    {
      "cell_type": "markdown",
      "metadata": {
        "id": "WGaD7vyyNF6c"
      },
      "source": [
        "### `full()`\n",
        "Returns a new array with the same shape and type as a given, filled with the fill_value.\n",
        "    \n",
        "Syntax:\n",
        "\n",
        "`full(shape, fill_value, dtype = None, order = 'C')`"
      ]
    },
    {
      "cell_type": "code",
      "metadata": {
        "id": "8Xb0HNAONF6c",
        "colab": {
          "base_uri": "https://localhost:8080/"
        },
        "outputId": "aa591c79-247e-49c6-8bbe-094134378610"
      },
      "source": [
        "help(np.full)"
      ],
      "execution_count": null,
      "outputs": [
        {
          "output_type": "stream",
          "text": [
            "Help on function full in module numpy:\n",
            "\n",
            "full(shape, fill_value, dtype=None, order='C')\n",
            "    Return a new array of given shape and type, filled with `fill_value`.\n",
            "    \n",
            "    Parameters\n",
            "    ----------\n",
            "    shape : int or sequence of ints\n",
            "        Shape of the new array, e.g., ``(2, 3)`` or ``2``.\n",
            "    fill_value : scalar or array_like\n",
            "        Fill value.\n",
            "    dtype : data-type, optional\n",
            "        The desired data-type for the array  The default, None, means\n",
            "         `np.array(fill_value).dtype`.\n",
            "    order : {'C', 'F'}, optional\n",
            "        Whether to store multidimensional data in C- or Fortran-contiguous\n",
            "        (row- or column-wise) order in memory.\n",
            "    \n",
            "    Returns\n",
            "    -------\n",
            "    out : ndarray\n",
            "        Array of `fill_value` with the given shape, dtype, and order.\n",
            "    \n",
            "    See Also\n",
            "    --------\n",
            "    full_like : Return a new array with shape of input filled with value.\n",
            "    empty : Return a new uninitialized array.\n",
            "    ones : Return a new array setting values to one.\n",
            "    zeros : Return a new array setting values to zero.\n",
            "    \n",
            "    Examples\n",
            "    --------\n",
            "    >>> np.full((2, 2), np.inf)\n",
            "    array([[inf, inf],\n",
            "           [inf, inf]])\n",
            "    >>> np.full((2, 2), 10)\n",
            "    array([[10, 10],\n",
            "           [10, 10]])\n",
            "    \n",
            "    >>> np.full((2, 2), [1, 2])\n",
            "    array([[1, 2],\n",
            "           [1, 2]])\n",
            "\n"
          ],
          "name": "stdout"
        }
      ]
    },
    {
      "cell_type": "code",
      "metadata": {
        "id": "4yCGNsFKNF6c",
        "colab": {
          "base_uri": "https://localhost:8080/"
        },
        "outputId": "c5c96edc-6f2a-4561-f991-3cc381f8efc0"
      },
      "source": [
        "e = np.full((5,3), 8) # Matrix of constant numbers\n",
        "print(e)"
      ],
      "execution_count": null,
      "outputs": [
        {
          "output_type": "stream",
          "text": [
            "[[8 8 8]\n",
            " [8 8 8]\n",
            " [8 8 8]\n",
            " [8 8 8]\n",
            " [8 8 8]]\n"
          ],
          "name": "stdout"
        }
      ]
    },
    {
      "cell_type": "markdown",
      "metadata": {
        "id": "4rQqcWUgNF6c"
      },
      "source": [
        "### `np.linspace()`\n",
        "\n",
        "Returns number spaces evenly w.r.t the given interval start and stop. This functions is similar to arange but instead of step size it uses a sample number.\n",
        "\n",
        "Syntax:\n",
        "\n",
        "`numpy.linspace(start, stop, num = 50, endpoint = True, retstep = False, dtype = None)"
      ]
    },
    {
      "cell_type": "code",
      "metadata": {
        "id": "QmAvBsXuNF6c",
        "colab": {
          "base_uri": "https://localhost:8080/"
        },
        "outputId": "b0710070-398e-4cbd-cd1d-08ce55530caa"
      },
      "source": [
        "import numpy as np\n",
        "help(np.linspace)"
      ],
      "execution_count": null,
      "outputs": [
        {
          "output_type": "stream",
          "text": [
            "Help on function linspace in module numpy:\n",
            "\n",
            "linspace(start, stop, num=50, endpoint=True, retstep=False, dtype=None, axis=0)\n",
            "    Return evenly spaced numbers over a specified interval.\n",
            "    \n",
            "    Returns `num` evenly spaced samples, calculated over the\n",
            "    interval [`start`, `stop`].\n",
            "    \n",
            "    The endpoint of the interval can optionally be excluded.\n",
            "    \n",
            "    .. versionchanged:: 1.16.0\n",
            "        Non-scalar `start` and `stop` are now supported.\n",
            "    \n",
            "    Parameters\n",
            "    ----------\n",
            "    start : array_like\n",
            "        The starting value of the sequence.\n",
            "    stop : array_like\n",
            "        The end value of the sequence, unless `endpoint` is set to False.\n",
            "        In that case, the sequence consists of all but the last of ``num + 1``\n",
            "        evenly spaced samples, so that `stop` is excluded.  Note that the step\n",
            "        size changes when `endpoint` is False.\n",
            "    num : int, optional\n",
            "        Number of samples to generate. Default is 50. Must be non-negative.\n",
            "    endpoint : bool, optional\n",
            "        If True, `stop` is the last sample. Otherwise, it is not included.\n",
            "        Default is True.\n",
            "    retstep : bool, optional\n",
            "        If True, return (`samples`, `step`), where `step` is the spacing\n",
            "        between samples.\n",
            "    dtype : dtype, optional\n",
            "        The type of the output array.  If `dtype` is not given, infer the data\n",
            "        type from the other input arguments.\n",
            "    \n",
            "        .. versionadded:: 1.9.0\n",
            "    \n",
            "    axis : int, optional\n",
            "        The axis in the result to store the samples.  Relevant only if start\n",
            "        or stop are array-like.  By default (0), the samples will be along a\n",
            "        new axis inserted at the beginning. Use -1 to get an axis at the end.\n",
            "    \n",
            "        .. versionadded:: 1.16.0\n",
            "    \n",
            "    Returns\n",
            "    -------\n",
            "    samples : ndarray\n",
            "        There are `num` equally spaced samples in the closed interval\n",
            "        ``[start, stop]`` or the half-open interval ``[start, stop)``\n",
            "        (depending on whether `endpoint` is True or False).\n",
            "    step : float, optional\n",
            "        Only returned if `retstep` is True\n",
            "    \n",
            "        Size of spacing between samples.\n",
            "    \n",
            "    \n",
            "    See Also\n",
            "    --------\n",
            "    arange : Similar to `linspace`, but uses a step size (instead of the\n",
            "             number of samples).\n",
            "    geomspace : Similar to `linspace`, but with numbers spaced evenly on a log\n",
            "                scale (a geometric progression).\n",
            "    logspace : Similar to `geomspace`, but with the end points specified as\n",
            "               logarithms.\n",
            "    \n",
            "    Examples\n",
            "    --------\n",
            "    >>> np.linspace(2.0, 3.0, num=5)\n",
            "    array([2.  , 2.25, 2.5 , 2.75, 3.  ])\n",
            "    >>> np.linspace(2.0, 3.0, num=5, endpoint=False)\n",
            "    array([2. ,  2.2,  2.4,  2.6,  2.8])\n",
            "    >>> np.linspace(2.0, 3.0, num=5, retstep=True)\n",
            "    (array([2.  ,  2.25,  2.5 ,  2.75,  3.  ]), 0.25)\n",
            "    \n",
            "    Graphical illustration:\n",
            "    \n",
            "    >>> import matplotlib.pyplot as plt\n",
            "    >>> N = 8\n",
            "    >>> y = np.zeros(N)\n",
            "    >>> x1 = np.linspace(0, 10, N, endpoint=True)\n",
            "    >>> x2 = np.linspace(0, 10, N, endpoint=False)\n",
            "    >>> plt.plot(x1, y, 'o')\n",
            "    [<matplotlib.lines.Line2D object at 0x...>]\n",
            "    >>> plt.plot(x2, y + 0.5, 'o')\n",
            "    [<matplotlib.lines.Line2D object at 0x...>]\n",
            "    >>> plt.ylim([-0.5, 1])\n",
            "    (-0.5, 1)\n",
            "    >>> plt.show()\n",
            "\n"
          ],
          "name": "stdout"
        }
      ]
    },
    {
      "cell_type": "code",
      "metadata": {
        "id": "usamYchnNF6c",
        "colab": {
          "base_uri": "https://localhost:8080/"
        },
        "outputId": "6fc88354-8f8a-460a-eac0-fc619be02e04"
      },
      "source": [
        "f = np.linspace(1, 10, 4) # Generate 4 equally spaced values between 1 and 10\n",
        "print(f)"
      ],
      "execution_count": null,
      "outputs": [
        {
          "output_type": "stream",
          "text": [
            "[ 1.  4.  7. 10.]\n"
          ],
          "name": "stdout"
        }
      ]
    },
    {
      "cell_type": "code",
      "metadata": {
        "id": "dRJZXYtTNF6c",
        "colab": {
          "base_uri": "https://localhost:8080/"
        },
        "outputId": "4eb76c44-1dda-4937-eb67-12ee132a4256"
      },
      "source": [
        "# Sample other variations of linspace\n",
        "print(np.linspace(1, 2, retstep=True))\n",
        "print()\n",
        "print(np.linspace(1, 100, num=5, retstep=True))\n",
        "print()\n",
        "a = np.linspace(1, 100, num=5, endpoint=False, retstep=True)\n",
        "print(a)\n",
        "print(a[0][0])\n",
        "np.linspace(1, 100, num=5, retstep=True)\n",
        "np.linspace(1, 100, num=5, dtype=int)"
      ],
      "execution_count": null,
      "outputs": [
        {
          "output_type": "stream",
          "text": [
            "(array([1.        , 1.02040816, 1.04081633, 1.06122449, 1.08163265,\n",
            "       1.10204082, 1.12244898, 1.14285714, 1.16326531, 1.18367347,\n",
            "       1.20408163, 1.2244898 , 1.24489796, 1.26530612, 1.28571429,\n",
            "       1.30612245, 1.32653061, 1.34693878, 1.36734694, 1.3877551 ,\n",
            "       1.40816327, 1.42857143, 1.44897959, 1.46938776, 1.48979592,\n",
            "       1.51020408, 1.53061224, 1.55102041, 1.57142857, 1.59183673,\n",
            "       1.6122449 , 1.63265306, 1.65306122, 1.67346939, 1.69387755,\n",
            "       1.71428571, 1.73469388, 1.75510204, 1.7755102 , 1.79591837,\n",
            "       1.81632653, 1.83673469, 1.85714286, 1.87755102, 1.89795918,\n",
            "       1.91836735, 1.93877551, 1.95918367, 1.97959184, 2.        ]), 0.02040816326530612)\n",
            "\n",
            "(array([  1.  ,  25.75,  50.5 ,  75.25, 100.  ]), 24.75)\n",
            "\n",
            "(array([ 1. , 20.8, 40.6, 60.4, 80.2]), 19.8)\n",
            "1.0\n"
          ],
          "name": "stdout"
        },
        {
          "output_type": "execute_result",
          "data": {
            "text/plain": [
              "array([  1,  25,  50,  75, 100])"
            ]
          },
          "metadata": {
            "tags": []
          },
          "execution_count": 61
        }
      ]
    },
    {
      "cell_type": "code",
      "metadata": {
        "id": "Dv3qL37sNF6c"
      },
      "source": [],
      "execution_count": null,
      "outputs": []
    },
    {
      "cell_type": "markdown",
      "metadata": {
        "id": "KmsXP8piNF6c"
      },
      "source": [
        "## Some interesting numpy functions\n",
        "\n",
        "### Math functions\n",
        "numpy has a fairly big set of functions to for mathematical operations"
      ]
    },
    {
      "cell_type": "code",
      "metadata": {
        "ExecuteTime": {
          "end_time": "2021-07-31T08:12:49.745710Z",
          "start_time": "2021-07-31T08:12:49.725768Z"
        },
        "id": "Zdg-8n6YNF6c",
        "colab": {
          "base_uri": "https://localhost:8080/"
        },
        "outputId": "188af6ef-b186-402a-e0d1-c47070f56178"
      },
      "source": [
        "# standard math functions, like mean, standard deviations, max, min, etc.\n",
        "# are all available\n",
        "a = np.array([10, 8, 9])\n",
        "\n",
        "print(a)\n",
        "\n",
        "print('Mean: ', np.mean(a))\n",
        "print('Standard deviation: ', np.std(a))\n",
        "print('Max: ', np.max(a))\n",
        "print('Min: ', np.min(a))\n",
        "print('Index Max: ', np.argmax(a)) #argmax in numpy\n",
        "print('Index Min: ', np.argmin(a)) #argmin in numpy"
      ],
      "execution_count": null,
      "outputs": [
        {
          "output_type": "stream",
          "text": [
            "[10  8  9]\n",
            "Mean:  9.0\n",
            "Standard deviation:  0.816496580927726\n",
            "Max:  10\n",
            "Min:  8\n",
            "Ix Max:  0\n",
            "Ix Min:  1\n"
          ],
          "name": "stdout"
        }
      ]
    },
    {
      "cell_type": "markdown",
      "metadata": {
        "id": "LXul_v3vNF6d"
      },
      "source": [
        "### Inserting and deleting elements\n",
        "\n",
        "numpy are blocks of memory with a different layout than the list. For this reason it's not possible to append and element like a list, thoug similar functions are provided"
      ]
    },
    {
      "cell_type": "code",
      "metadata": {
        "id": "870_rNNeNF6d",
        "colab": {
          "base_uri": "https://localhost:8080/"
        },
        "outputId": "a7e33b7d-7c42-40b0-db53-b2fbd9b0acb7"
      },
      "source": [
        "a = np.array([1, 2, 3])\n",
        "\n",
        "b = np.append(a, 3); print(b) # insert the number 3 at the end\n",
        "c = np.insert(a, 2, 12); print(c)  # insert the value 12 at index 2\n",
        "d = np.delete(a, 1); print(d) # delete the value at index 1"
      ],
      "execution_count": null,
      "outputs": [
        {
          "output_type": "stream",
          "text": [
            "[1 2 3 3]\n",
            "[ 1  2 12  3]\n",
            "[1 3]\n"
          ],
          "name": "stdout"
        }
      ]
    },
    {
      "cell_type": "code",
      "metadata": {
        "id": "wUAfQ4ULNF6d"
      },
      "source": [],
      "execution_count": null,
      "outputs": []
    },
    {
      "cell_type": "code",
      "metadata": {
        "ExecuteTime": {
          "end_time": "2021-07-31T06:13:04.126261Z",
          "start_time": "2021-07-31T06:13:04.106314Z"
        },
        "id": "2Bl4jI5_NF6d",
        "colab": {
          "base_uri": "https://localhost:8080/"
        },
        "outputId": "9c15f71c-7ca6-416d-eb2e-6e90863947d8"
      },
      "source": [
        "#math functions\n",
        "\n",
        "a=np.array([(1,0,3),(3,4,5)])\n",
        "print(a)\n",
        "\n",
        "print(np.sqrt(a))\n",
        "print()\n",
        "\n",
        "print(np.std(a))\n",
        "print()\n",
        "\n",
        "print(np.log(a))\n",
        "print()\n",
        "\n",
        "b=np.sqrt(a)\n",
        "print(b.round(2))\n",
        "\n",
        "print(np.sqrt(a).round(2))"
      ],
      "execution_count": null,
      "outputs": [
        {
          "output_type": "stream",
          "text": [
            "[[1 0 3]\n",
            " [3 4 5]]\n",
            "[[1.         0.         1.73205081]\n",
            " [1.73205081 2.         2.23606798]]\n",
            "\n",
            "1.699673171197595\n",
            "\n",
            "[[0.               -inf 1.09861229]\n",
            " [1.09861229 1.38629436 1.60943791]]\n",
            "\n",
            "[[1.   0.   1.73]\n",
            " [1.73 2.   2.24]]\n",
            "[[1.   0.   1.73]\n",
            " [1.73 2.   2.24]]\n"
          ],
          "name": "stdout"
        },
        {
          "output_type": "stream",
          "text": [
            "/usr/local/lib/python3.7/dist-packages/ipykernel_launcher.py:12: RuntimeWarning: divide by zero encountered in log\n",
            "  if sys.path[0] == '':\n"
          ],
          "name": "stderr"
        }
      ]
    },
    {
      "cell_type": "code",
      "metadata": {
        "ExecuteTime": {
          "end_time": "2021-07-31T06:21:19.800141Z",
          "start_time": "2021-07-31T06:21:19.770221Z"
        },
        "id": "m0KP40gyNF6d"
      },
      "source": [
        "?np.sqrt"
      ],
      "execution_count": null,
      "outputs": []
    },
    {
      "cell_type": "code",
      "metadata": {
        "ExecuteTime": {
          "end_time": "2021-07-31T08:13:52.287399Z",
          "start_time": "2021-07-31T08:13:52.281415Z"
        },
        "id": "mDJN3_YjNF6d",
        "colab": {
          "base_uri": "https://localhost:8080/"
        },
        "outputId": "d8b78047-7eef-4c19-e67c-43c7ea04a8a6"
      },
      "source": [
        "x= np.array([(1,2),(3,4),])\n",
        "y= np.array([(5,6),(3,4),])\n",
        "print(x)\n",
        "print(y)"
      ],
      "execution_count": null,
      "outputs": [
        {
          "output_type": "stream",
          "text": [
            "[[1 2]\n",
            " [3 4]]\n",
            "[[5 6]\n",
            " [3 4]]\n"
          ],
          "name": "stdout"
        }
      ]
    },
    {
      "cell_type": "code",
      "metadata": {
        "ExecuteTime": {
          "end_time": "2021-07-31T08:13:57.374103Z",
          "start_time": "2021-07-31T08:13:57.361138Z"
        },
        "id": "c422Sf-ENF6d",
        "colab": {
          "base_uri": "https://localhost:8080/"
        },
        "outputId": "310acce0-7233-4275-8670-9cc43bfd78d4"
      },
      "source": [
        "print(x+y)\n",
        "print(x-y)\n",
        "print(x*y)\n",
        "print(x/y)\n",
        "print(x%y)\n",
        "print(x@y)\n",
        "#print(np.dot(x,y))\n",
        "#print(np.add(x,y))\n",
        "\n",
        "#np.add(), np.subtract(), np.multiply(), np.divide(), np.remainder()"
      ],
      "execution_count": null,
      "outputs": [
        {
          "output_type": "stream",
          "text": [
            "[[6 8]\n",
            " [6 8]]\n",
            "[[-4 -4]\n",
            " [ 0  0]]\n",
            "[[ 5 12]\n",
            " [ 9 16]]\n",
            "[[0.2        0.33333333]\n",
            " [1.         1.        ]]\n",
            "[[1 2]\n",
            " [0 0]]\n",
            "[[11 14]\n",
            " [27 34]]\n"
          ],
          "name": "stdout"
        }
      ]
    },
    {
      "cell_type": "code",
      "metadata": {
        "id": "dYOP_glJNF6d"
      },
      "source": [],
      "execution_count": null,
      "outputs": []
    },
    {
      "cell_type": "code",
      "metadata": {
        "ExecuteTime": {
          "end_time": "2021-07-31T06:21:31.923330Z",
          "start_time": "2021-07-31T06:21:31.914269Z"
        },
        "id": "_53LmMlbNF6d",
        "colab": {
          "base_uri": "https://localhost:8080/"
        },
        "outputId": "911413da-8fcb-4679-bd2e-697d834b2c49"
      },
      "source": [
        "#arrays are mutable\n",
        "x= np.array([(1,2,3),(3,4,5)])\n",
        "x[0,1]=7\n",
        "print(x)"
      ],
      "execution_count": null,
      "outputs": [
        {
          "output_type": "stream",
          "text": [
            "[[1 7 3]\n",
            " [3 4 5]]\n"
          ],
          "name": "stdout"
        }
      ]
    },
    {
      "cell_type": "code",
      "metadata": {
        "ExecuteTime": {
          "end_time": "2021-07-31T06:22:10.710932Z",
          "start_time": "2021-07-31T06:22:10.693995Z"
        },
        "id": "w4_6P2uiNF6d",
        "colab": {
          "base_uri": "https://localhost:8080/"
        },
        "outputId": "ebccca39-251e-44ff-e9e2-20e089a13363"
      },
      "source": [
        "# ravel() functions returns contiguous flattened array\n",
        "# (1D array with all the input-array elements and with the same type as it)\n",
        "\n",
        "print(x)\n",
        "\n",
        "y=x.ravel()\n",
        "print(y)"
      ],
      "execution_count": null,
      "outputs": [
        {
          "output_type": "stream",
          "text": [
            "[[1 7 3]\n",
            " [3 4 5]]\n",
            "[1 7 3 3 4 5]\n"
          ],
          "name": "stdout"
        }
      ]
    },
    {
      "cell_type": "code",
      "metadata": {
        "ExecuteTime": {
          "end_time": "2021-07-31T06:22:22.163678Z",
          "start_time": "2021-07-31T06:22:22.158692Z"
        },
        "id": "vuH0soA6NF6d",
        "colab": {
          "base_uri": "https://localhost:8080/"
        },
        "outputId": "6a23997f-ab89-4f71-8cd4-2f647068ae6b"
      },
      "source": [
        "y.reshape((2,3))"
      ],
      "execution_count": null,
      "outputs": [
        {
          "output_type": "execute_result",
          "data": {
            "text/plain": [
              "array([[1, 7, 3],\n",
              "       [3, 4, 5]])"
            ]
          },
          "metadata": {
            "tags": []
          },
          "execution_count": 135
        }
      ]
    },
    {
      "cell_type": "code",
      "metadata": {
        "ExecuteTime": {
          "end_time": "2021-07-31T06:22:23.890164Z",
          "start_time": "2021-07-31T06:22:23.882223Z"
        },
        "id": "_lp7aURkNF6e",
        "colab": {
          "base_uri": "https://localhost:8080/"
        },
        "outputId": "faac1e98-6756-47fa-8e25-0a5899a9443a"
      },
      "source": [
        "z=np.array([1,2,3,4,5,6,7,8])\n",
        "z.ndim"
      ],
      "execution_count": null,
      "outputs": [
        {
          "output_type": "execute_result",
          "data": {
            "text/plain": [
              "1"
            ]
          },
          "metadata": {
            "tags": []
          },
          "execution_count": 136
        }
      ]
    },
    {
      "cell_type": "code",
      "metadata": {
        "ExecuteTime": {
          "end_time": "2021-07-31T06:22:27.012994Z",
          "start_time": "2021-07-31T06:22:27.003021Z"
        },
        "id": "r96uqR4_NF6e",
        "colab": {
          "base_uri": "https://localhost:8080/"
        },
        "outputId": "11557971-3dce-4a3e-8cc8-a43114d3ff38"
      },
      "source": [
        "z.reshape((2,4))\n",
        "\n"
      ],
      "execution_count": null,
      "outputs": [
        {
          "output_type": "execute_result",
          "data": {
            "text/plain": [
              "array([[1, 2, 3, 4],\n",
              "       [5, 6, 7, 8]])"
            ]
          },
          "metadata": {
            "tags": []
          },
          "execution_count": 146
        }
      ]
    },
    {
      "cell_type": "code",
      "metadata": {
        "id": "johkPmVUNF6e"
      },
      "source": [],
      "execution_count": null,
      "outputs": []
    },
    {
      "cell_type": "code",
      "metadata": {
        "id": "imji1v4nNF6e"
      },
      "source": [],
      "execution_count": null,
      "outputs": []
    }
  ]
}