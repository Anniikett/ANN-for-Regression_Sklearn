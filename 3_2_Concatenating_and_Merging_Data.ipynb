{
  "nbformat": 4,
  "nbformat_minor": 0,
  "metadata": {
    "kernelspec": {
      "display_name": "Python 3",
      "language": "python",
      "name": "python3"
    },
    "language_info": {
      "codemirror_mode": {
        "name": "ipython",
        "version": 3
      },
      "file_extension": ".py",
      "mimetype": "text/x-python",
      "name": "python",
      "nbconvert_exporter": "python",
      "pygments_lexer": "ipython3",
      "version": "3.7.4"
    },
    "latex_envs": {
      "LaTeX_envs_menu_present": true,
      "autoclose": false,
      "autocomplete": true,
      "bibliofile": "biblio.bib",
      "cite_by": "apalike",
      "current_citInitial": 1,
      "eqLabelWithNumbers": true,
      "eqNumInitial": 1,
      "hotkeys": {
        "equation": "Ctrl-E",
        "itemize": "Ctrl-I"
      },
      "labels_anchors": false,
      "latex_user_defs": false,
      "report_style_numbering": false,
      "user_envs_cfg": false
    },
    "toc": {
      "base_numbering": 1,
      "nav_menu": {},
      "number_sections": false,
      "sideBar": true,
      "skip_h1_title": false,
      "title_cell": "Table of Contents",
      "title_sidebar": "Contents",
      "toc_cell": false,
      "toc_position": {},
      "toc_section_display": true,
      "toc_window_display": false
    },
    "colab": {
      "provenance": [],
      "include_colab_link": true
    }
  },
  "cells": [
    {
      "cell_type": "markdown",
      "metadata": {
        "id": "view-in-github",
        "colab_type": "text"
      },
      "source": [
        "<a href=\"https://colab.research.google.com/github/Anniikett/ANN-for-Regression_Sklearn/blob/main/3_2_Concatenating_and_Merging_Data.ipynb\" target=\"_parent\"><img src=\"https://colab.research.google.com/assets/colab-badge.svg\" alt=\"Open In Colab\"/></a>"
      ]
    },
    {
      "cell_type": "markdown",
      "metadata": {
        "id": "YcgZxB6bMWsR"
      },
      "source": [
        "## Concatenating Datasets"
      ]
    },
    {
      "cell_type": "markdown",
      "metadata": {
        "id": "GJ4v6eFqMWsT"
      },
      "source": [
        "Pandas is rich in its support for combining datasets and data with different datatypes. It also provides functionality to support set logic for indexes and relational algebra."
      ]
    },
    {
      "cell_type": "markdown",
      "metadata": {
        "id": "dCNqdEKGMWsU"
      },
      "source": [
        "### `concat()` Function"
      ]
    },
    {
      "cell_type": "markdown",
      "metadata": {
        "id": "u764yqBSMWsU"
      },
      "source": [
        "The `concat()` function does the underlying heavy lifting of performing concatenation operations, for two or more dataframes, along an axis. It also allows performing of optional set operations (e.g. union or intersection) of the indexes (if any) on the other axes."
      ]
    },
    {
      "cell_type": "code",
      "metadata": {
        "ExecuteTime": {
          "end_time": "2021-08-01T07:32:12.346404Z",
          "start_time": "2021-08-01T07:32:10.978796Z"
        },
        "id": "1HXB8QVxMWsV"
      },
      "source": [
        "import pandas as pd\n",
        "import numpy as np"
      ],
      "execution_count": null,
      "outputs": []
    },
    {
      "cell_type": "code",
      "metadata": {
        "ExecuteTime": {
          "end_time": "2021-08-01T07:32:12.361704Z",
          "start_time": "2021-08-01T07:32:12.347739Z"
        },
        "id": "h_IAtZlDMWsV"
      },
      "source": [
        "northeast = pd.Series(['CT', 'ME', 'MA', 'NH', 'RI', 'VT', 'NJ', 'NY', 'PA'])\n",
        "south = pd.Series(['DE', 'FL', 'GA', 'MD', 'NC', 'SC', 'VA', 'DC', 'WV', 'AL', 'KY', 'MS', 'TN', 'AR', 'LA', 'OK', 'TX'])\n",
        "midwest = pd.Series(['IL', 'IN', 'MN', 'MO', 'NE', 'ND', 'SD', 'IA', 'KS', 'MI', 'OH', 'WI'])\n",
        "west = pd.Series(['AZ', 'CO', 'ID', 'MT', 'NV', 'NM', 'UT', 'WY', 'AK', 'CA', 'HI', 'OR', 'WA'])"
      ],
      "execution_count": null,
      "outputs": []
    },
    {
      "cell_type": "code",
      "metadata": {
        "ExecuteTime": {
          "end_time": "2021-08-01T07:32:15.075424Z",
          "start_time": "2021-08-01T07:32:15.054480Z"
        },
        "id": "WSvMGxLrMWsW",
        "colab": {
          "base_uri": "https://localhost:8080/"
        },
        "outputId": "1995ec67-6a3e-40f6-8b0a-708ed5da397b"
      },
      "source": [
        "series1 = northeast.append(south)\n",
        "series1"
      ],
      "execution_count": null,
      "outputs": [
        {
          "output_type": "execute_result",
          "data": {
            "text/plain": [
              "0     CT\n",
              "1     ME\n",
              "2     MA\n",
              "3     NH\n",
              "4     RI\n",
              "5     VT\n",
              "6     NJ\n",
              "7     NY\n",
              "8     PA\n",
              "0     DE\n",
              "1     FL\n",
              "2     GA\n",
              "3     MD\n",
              "4     NC\n",
              "5     SC\n",
              "6     VA\n",
              "7     DC\n",
              "8     WV\n",
              "9     AL\n",
              "10    KY\n",
              "11    MS\n",
              "12    TN\n",
              "13    AR\n",
              "14    LA\n",
              "15    OK\n",
              "16    TX\n",
              "dtype: object"
            ]
          },
          "metadata": {
            "tags": []
          },
          "execution_count": 4
        }
      ]
    },
    {
      "cell_type": "code",
      "metadata": {
        "ExecuteTime": {
          "end_time": "2021-08-01T07:32:17.424817Z",
          "start_time": "2021-08-01T07:32:17.404901Z"
        },
        "id": "L4L-1AZwMWsW",
        "colab": {
          "base_uri": "https://localhost:8080/"
        },
        "outputId": "dc7f5f10-1f2b-4304-b26d-c13bfbd9cb41"
      },
      "source": [
        "series1.loc[3]"
      ],
      "execution_count": null,
      "outputs": [
        {
          "output_type": "execute_result",
          "data": {
            "text/plain": [
              "3    NH\n",
              "3    MD\n",
              "dtype: object"
            ]
          },
          "metadata": {
            "tags": []
          },
          "execution_count": 5
        }
      ]
    },
    {
      "cell_type": "code",
      "metadata": {
        "ExecuteTime": {
          "end_time": "2021-08-01T07:32:18.045004Z",
          "start_time": "2021-08-01T07:32:18.029004Z"
        },
        "id": "PR8w5X3IMWsW",
        "colab": {
          "base_uri": "https://localhost:8080/",
          "height": 855
        },
        "outputId": "90232fcc-8470-4f2c-e78f-5e0b9b4f847a"
      },
      "source": [
        "series1.reset_index()"
      ],
      "execution_count": null,
      "outputs": [
        {
          "output_type": "execute_result",
          "data": {
            "text/html": [
              "<div>\n",
              "<style scoped>\n",
              "    .dataframe tbody tr th:only-of-type {\n",
              "        vertical-align: middle;\n",
              "    }\n",
              "\n",
              "    .dataframe tbody tr th {\n",
              "        vertical-align: top;\n",
              "    }\n",
              "\n",
              "    .dataframe thead th {\n",
              "        text-align: right;\n",
              "    }\n",
              "</style>\n",
              "<table border=\"1\" class=\"dataframe\">\n",
              "  <thead>\n",
              "    <tr style=\"text-align: right;\">\n",
              "      <th></th>\n",
              "      <th>index</th>\n",
              "      <th>0</th>\n",
              "    </tr>\n",
              "  </thead>\n",
              "  <tbody>\n",
              "    <tr>\n",
              "      <th>0</th>\n",
              "      <td>0</td>\n",
              "      <td>CT</td>\n",
              "    </tr>\n",
              "    <tr>\n",
              "      <th>1</th>\n",
              "      <td>1</td>\n",
              "      <td>ME</td>\n",
              "    </tr>\n",
              "    <tr>\n",
              "      <th>2</th>\n",
              "      <td>2</td>\n",
              "      <td>MA</td>\n",
              "    </tr>\n",
              "    <tr>\n",
              "      <th>3</th>\n",
              "      <td>3</td>\n",
              "      <td>NH</td>\n",
              "    </tr>\n",
              "    <tr>\n",
              "      <th>4</th>\n",
              "      <td>4</td>\n",
              "      <td>RI</td>\n",
              "    </tr>\n",
              "    <tr>\n",
              "      <th>5</th>\n",
              "      <td>5</td>\n",
              "      <td>VT</td>\n",
              "    </tr>\n",
              "    <tr>\n",
              "      <th>6</th>\n",
              "      <td>6</td>\n",
              "      <td>NJ</td>\n",
              "    </tr>\n",
              "    <tr>\n",
              "      <th>7</th>\n",
              "      <td>7</td>\n",
              "      <td>NY</td>\n",
              "    </tr>\n",
              "    <tr>\n",
              "      <th>8</th>\n",
              "      <td>8</td>\n",
              "      <td>PA</td>\n",
              "    </tr>\n",
              "    <tr>\n",
              "      <th>9</th>\n",
              "      <td>0</td>\n",
              "      <td>DE</td>\n",
              "    </tr>\n",
              "    <tr>\n",
              "      <th>10</th>\n",
              "      <td>1</td>\n",
              "      <td>FL</td>\n",
              "    </tr>\n",
              "    <tr>\n",
              "      <th>11</th>\n",
              "      <td>2</td>\n",
              "      <td>GA</td>\n",
              "    </tr>\n",
              "    <tr>\n",
              "      <th>12</th>\n",
              "      <td>3</td>\n",
              "      <td>MD</td>\n",
              "    </tr>\n",
              "    <tr>\n",
              "      <th>13</th>\n",
              "      <td>4</td>\n",
              "      <td>NC</td>\n",
              "    </tr>\n",
              "    <tr>\n",
              "      <th>14</th>\n",
              "      <td>5</td>\n",
              "      <td>SC</td>\n",
              "    </tr>\n",
              "    <tr>\n",
              "      <th>15</th>\n",
              "      <td>6</td>\n",
              "      <td>VA</td>\n",
              "    </tr>\n",
              "    <tr>\n",
              "      <th>16</th>\n",
              "      <td>7</td>\n",
              "      <td>DC</td>\n",
              "    </tr>\n",
              "    <tr>\n",
              "      <th>17</th>\n",
              "      <td>8</td>\n",
              "      <td>WV</td>\n",
              "    </tr>\n",
              "    <tr>\n",
              "      <th>18</th>\n",
              "      <td>9</td>\n",
              "      <td>AL</td>\n",
              "    </tr>\n",
              "    <tr>\n",
              "      <th>19</th>\n",
              "      <td>10</td>\n",
              "      <td>KY</td>\n",
              "    </tr>\n",
              "    <tr>\n",
              "      <th>20</th>\n",
              "      <td>11</td>\n",
              "      <td>MS</td>\n",
              "    </tr>\n",
              "    <tr>\n",
              "      <th>21</th>\n",
              "      <td>12</td>\n",
              "      <td>TN</td>\n",
              "    </tr>\n",
              "    <tr>\n",
              "      <th>22</th>\n",
              "      <td>13</td>\n",
              "      <td>AR</td>\n",
              "    </tr>\n",
              "    <tr>\n",
              "      <th>23</th>\n",
              "      <td>14</td>\n",
              "      <td>LA</td>\n",
              "    </tr>\n",
              "    <tr>\n",
              "      <th>24</th>\n",
              "      <td>15</td>\n",
              "      <td>OK</td>\n",
              "    </tr>\n",
              "    <tr>\n",
              "      <th>25</th>\n",
              "      <td>16</td>\n",
              "      <td>TX</td>\n",
              "    </tr>\n",
              "  </tbody>\n",
              "</table>\n",
              "</div>"
            ],
            "text/plain": [
              "    index   0\n",
              "0       0  CT\n",
              "1       1  ME\n",
              "2       2  MA\n",
              "3       3  NH\n",
              "4       4  RI\n",
              "5       5  VT\n",
              "6       6  NJ\n",
              "7       7  NY\n",
              "8       8  PA\n",
              "9       0  DE\n",
              "10      1  FL\n",
              "11      2  GA\n",
              "12      3  MD\n",
              "13      4  NC\n",
              "14      5  SC\n",
              "15      6  VA\n",
              "16      7  DC\n",
              "17      8  WV\n",
              "18      9  AL\n",
              "19     10  KY\n",
              "20     11  MS\n",
              "21     12  TN\n",
              "22     13  AR\n",
              "23     14  LA\n",
              "24     15  OK\n",
              "25     16  TX"
            ]
          },
          "metadata": {
            "tags": []
          },
          "execution_count": 6
        }
      ]
    },
    {
      "cell_type": "code",
      "metadata": {
        "ExecuteTime": {
          "end_time": "2021-08-01T07:32:21.755599Z",
          "start_time": "2021-08-01T07:32:21.738640Z"
        },
        "id": "6h_LicVtMWsX",
        "colab": {
          "base_uri": "https://localhost:8080/"
        },
        "outputId": "316b0ebd-e0df-485e-aeac-38460d32ed16"
      },
      "source": [
        "series1 = series1.reset_index(drop=True)\n",
        "series1"
      ],
      "execution_count": null,
      "outputs": [
        {
          "output_type": "execute_result",
          "data": {
            "text/plain": [
              "0     CT\n",
              "1     ME\n",
              "2     MA\n",
              "3     NH\n",
              "4     RI\n",
              "5     VT\n",
              "6     NJ\n",
              "7     NY\n",
              "8     PA\n",
              "9     DE\n",
              "10    FL\n",
              "11    GA\n",
              "12    MD\n",
              "13    NC\n",
              "14    SC\n",
              "15    VA\n",
              "16    DC\n",
              "17    WV\n",
              "18    AL\n",
              "19    KY\n",
              "20    MS\n",
              "21    TN\n",
              "22    AR\n",
              "23    LA\n",
              "24    OK\n",
              "25    TX\n",
              "dtype: object"
            ]
          },
          "metadata": {
            "tags": []
          },
          "execution_count": 7
        }
      ]
    },
    {
      "cell_type": "code",
      "metadata": {
        "id": "3EOH8iy5MWsX"
      },
      "source": [],
      "execution_count": null,
      "outputs": []
    },
    {
      "cell_type": "code",
      "metadata": {
        "ExecuteTime": {
          "end_time": "2021-08-01T07:32:25.512921Z",
          "start_time": "2021-08-01T07:32:25.498940Z"
        },
        "id": "xCudaswyMWsX",
        "colab": {
          "base_uri": "https://localhost:8080/"
        },
        "outputId": "83273b7c-f22a-4db4-d026-064459c40e9b"
      },
      "source": [
        "series2 = pd.concat([northeast, south])\n",
        "series2"
      ],
      "execution_count": null,
      "outputs": [
        {
          "output_type": "execute_result",
          "data": {
            "text/plain": [
              "0     CT\n",
              "1     ME\n",
              "2     MA\n",
              "3     NH\n",
              "4     RI\n",
              "5     VT\n",
              "6     NJ\n",
              "7     NY\n",
              "8     PA\n",
              "0     DE\n",
              "1     FL\n",
              "2     GA\n",
              "3     MD\n",
              "4     NC\n",
              "5     SC\n",
              "6     VA\n",
              "7     DC\n",
              "8     WV\n",
              "9     AL\n",
              "10    KY\n",
              "11    MS\n",
              "12    TN\n",
              "13    AR\n",
              "14    LA\n",
              "15    OK\n",
              "16    TX\n",
              "dtype: object"
            ]
          },
          "metadata": {
            "tags": []
          },
          "execution_count": 8
        }
      ]
    },
    {
      "cell_type": "code",
      "metadata": {
        "ExecuteTime": {
          "end_time": "2021-08-01T07:32:27.787877Z",
          "start_time": "2021-08-01T07:32:27.773890Z"
        },
        "id": "2VaI77TuMWsY",
        "colab": {
          "base_uri": "https://localhost:8080/"
        },
        "outputId": "ebde62d8-7412-4600-c131-b19cc38c6582"
      },
      "source": [
        "series2 = pd.concat([northeast, south], ignore_index=True)\n",
        "series2"
      ],
      "execution_count": null,
      "outputs": [
        {
          "output_type": "execute_result",
          "data": {
            "text/plain": [
              "0     CT\n",
              "1     ME\n",
              "2     MA\n",
              "3     NH\n",
              "4     RI\n",
              "5     VT\n",
              "6     NJ\n",
              "7     NY\n",
              "8     PA\n",
              "9     DE\n",
              "10    FL\n",
              "11    GA\n",
              "12    MD\n",
              "13    NC\n",
              "14    SC\n",
              "15    VA\n",
              "16    DC\n",
              "17    WV\n",
              "18    AL\n",
              "19    KY\n",
              "20    MS\n",
              "21    TN\n",
              "22    AR\n",
              "23    LA\n",
              "24    OK\n",
              "25    TX\n",
              "dtype: object"
            ]
          },
          "metadata": {
            "tags": []
          },
          "execution_count": 9
        }
      ]
    },
    {
      "cell_type": "code",
      "metadata": {
        "id": "pcD6-fK8MWsY"
      },
      "source": [],
      "execution_count": null,
      "outputs": []
    },
    {
      "cell_type": "code",
      "metadata": {
        "ExecuteTime": {
          "end_time": "2021-08-01T07:32:30.328697Z",
          "start_time": "2021-08-01T07:32:30.322721Z"
        },
        "id": "gauugTcUMWsY"
      },
      "source": [
        "## Using DataFrames:"
      ],
      "execution_count": null,
      "outputs": []
    },
    {
      "cell_type": "code",
      "metadata": {
        "ExecuteTime": {
          "end_time": "2021-01-03T12:56:08.080771Z",
          "start_time": "2021-01-03T12:56:08.060889Z"
        },
        "id": "KT6jUXvbMWsZ",
        "colab": {
          "base_uri": "https://localhost:8080/",
          "height": 204
        },
        "outputId": "4ff9acb7-9aef-4d27-ee79-4625cd13cc66"
      },
      "source": [
        "pop1 = pd.read_csv(\"population_01.csv\", index_col=0)\n",
        "pop1"
      ],
      "execution_count": null,
      "outputs": [
        {
          "output_type": "execute_result",
          "data": {
            "text/html": [
              "<div>\n",
              "<style scoped>\n",
              "    .dataframe tbody tr th:only-of-type {\n",
              "        vertical-align: middle;\n",
              "    }\n",
              "\n",
              "    .dataframe tbody tr th {\n",
              "        vertical-align: top;\n",
              "    }\n",
              "\n",
              "    .dataframe thead th {\n",
              "        text-align: right;\n",
              "    }\n",
              "</style>\n",
              "<table border=\"1\" class=\"dataframe\">\n",
              "  <thead>\n",
              "    <tr style=\"text-align: right;\">\n",
              "      <th></th>\n",
              "      <th>2010 Census Population</th>\n",
              "    </tr>\n",
              "    <tr>\n",
              "      <th>Zip Code ZCTA</th>\n",
              "      <th></th>\n",
              "    </tr>\n",
              "  </thead>\n",
              "  <tbody>\n",
              "    <tr>\n",
              "      <th>66407</th>\n",
              "      <td>479</td>\n",
              "    </tr>\n",
              "    <tr>\n",
              "      <th>72732</th>\n",
              "      <td>4716</td>\n",
              "    </tr>\n",
              "    <tr>\n",
              "      <th>50579</th>\n",
              "      <td>2405</td>\n",
              "    </tr>\n",
              "    <tr>\n",
              "      <th>46241</th>\n",
              "      <td>30670</td>\n",
              "    </tr>\n",
              "  </tbody>\n",
              "</table>\n",
              "</div>"
            ],
            "text/plain": [
              "               2010 Census Population\n",
              "Zip Code ZCTA                        \n",
              "66407                             479\n",
              "72732                            4716\n",
              "50579                            2405\n",
              "46241                           30670"
            ]
          },
          "metadata": {
            "tags": []
          },
          "execution_count": 14
        }
      ]
    },
    {
      "cell_type": "code",
      "metadata": {
        "ExecuteTime": {
          "end_time": "2021-01-03T12:56:21.413647Z",
          "start_time": "2021-01-03T12:56:21.394793Z"
        },
        "id": "_56q3BeTMWsZ",
        "colab": {
          "base_uri": "https://localhost:8080/",
          "height": 204
        },
        "outputId": "5f147fb8-bd52-4668-bbf7-2980cb7aaeff"
      },
      "source": [
        "pop2 = pd.read_csv(\"population_02.csv\", index_col=0)\n",
        "pop2"
      ],
      "execution_count": null,
      "outputs": [
        {
          "output_type": "execute_result",
          "data": {
            "text/html": [
              "<div>\n",
              "<style scoped>\n",
              "    .dataframe tbody tr th:only-of-type {\n",
              "        vertical-align: middle;\n",
              "    }\n",
              "\n",
              "    .dataframe tbody tr th {\n",
              "        vertical-align: top;\n",
              "    }\n",
              "\n",
              "    .dataframe thead th {\n",
              "        text-align: right;\n",
              "    }\n",
              "</style>\n",
              "<table border=\"1\" class=\"dataframe\">\n",
              "  <thead>\n",
              "    <tr style=\"text-align: right;\">\n",
              "      <th></th>\n",
              "      <th>2010 Census Population</th>\n",
              "    </tr>\n",
              "    <tr>\n",
              "      <th>Zip Code ZCTA</th>\n",
              "      <th></th>\n",
              "    </tr>\n",
              "  </thead>\n",
              "  <tbody>\n",
              "    <tr>\n",
              "      <th>12776</th>\n",
              "      <td>2180</td>\n",
              "    </tr>\n",
              "    <tr>\n",
              "      <th>76092</th>\n",
              "      <td>26669</td>\n",
              "    </tr>\n",
              "    <tr>\n",
              "      <th>98360</th>\n",
              "      <td>12221</td>\n",
              "    </tr>\n",
              "    <tr>\n",
              "      <th>49464</th>\n",
              "      <td>27481</td>\n",
              "    </tr>\n",
              "  </tbody>\n",
              "</table>\n",
              "</div>"
            ],
            "text/plain": [
              "               2010 Census Population\n",
              "Zip Code ZCTA                        \n",
              "12776                            2180\n",
              "76092                           26669\n",
              "98360                           12221\n",
              "49464                           27481"
            ]
          },
          "metadata": {
            "tags": []
          },
          "execution_count": 16
        }
      ]
    },
    {
      "cell_type": "code",
      "metadata": {
        "ExecuteTime": {
          "end_time": "2021-01-03T12:57:10.093949Z",
          "start_time": "2021-01-03T12:57:10.083859Z"
        },
        "id": "S70h_9pPMWsa",
        "colab": {
          "base_uri": "https://localhost:8080/",
          "height": 328
        },
        "outputId": "ca2d51ad-9913-4a0a-9761-1fc4efddf202"
      },
      "source": [
        "#using append:\n",
        "pop1.append(pop2)"
      ],
      "execution_count": null,
      "outputs": [
        {
          "output_type": "execute_result",
          "data": {
            "text/html": [
              "<div>\n",
              "<style scoped>\n",
              "    .dataframe tbody tr th:only-of-type {\n",
              "        vertical-align: middle;\n",
              "    }\n",
              "\n",
              "    .dataframe tbody tr th {\n",
              "        vertical-align: top;\n",
              "    }\n",
              "\n",
              "    .dataframe thead th {\n",
              "        text-align: right;\n",
              "    }\n",
              "</style>\n",
              "<table border=\"1\" class=\"dataframe\">\n",
              "  <thead>\n",
              "    <tr style=\"text-align: right;\">\n",
              "      <th></th>\n",
              "      <th>2010 Census Population</th>\n",
              "    </tr>\n",
              "    <tr>\n",
              "      <th>Zip Code ZCTA</th>\n",
              "      <th></th>\n",
              "    </tr>\n",
              "  </thead>\n",
              "  <tbody>\n",
              "    <tr>\n",
              "      <th>66407</th>\n",
              "      <td>479</td>\n",
              "    </tr>\n",
              "    <tr>\n",
              "      <th>72732</th>\n",
              "      <td>4716</td>\n",
              "    </tr>\n",
              "    <tr>\n",
              "      <th>50579</th>\n",
              "      <td>2405</td>\n",
              "    </tr>\n",
              "    <tr>\n",
              "      <th>46241</th>\n",
              "      <td>30670</td>\n",
              "    </tr>\n",
              "    <tr>\n",
              "      <th>12776</th>\n",
              "      <td>2180</td>\n",
              "    </tr>\n",
              "    <tr>\n",
              "      <th>76092</th>\n",
              "      <td>26669</td>\n",
              "    </tr>\n",
              "    <tr>\n",
              "      <th>98360</th>\n",
              "      <td>12221</td>\n",
              "    </tr>\n",
              "    <tr>\n",
              "      <th>49464</th>\n",
              "      <td>27481</td>\n",
              "    </tr>\n",
              "  </tbody>\n",
              "</table>\n",
              "</div>"
            ],
            "text/plain": [
              "               2010 Census Population\n",
              "Zip Code ZCTA                        \n",
              "66407                             479\n",
              "72732                            4716\n",
              "50579                            2405\n",
              "46241                           30670\n",
              "12776                            2180\n",
              "76092                           26669\n",
              "98360                           12221\n",
              "49464                           27481"
            ]
          },
          "metadata": {
            "tags": []
          },
          "execution_count": 17
        }
      ]
    },
    {
      "cell_type": "code",
      "metadata": {
        "id": "9YrojdT8MWsa"
      },
      "source": [],
      "execution_count": null,
      "outputs": []
    },
    {
      "cell_type": "code",
      "metadata": {
        "ExecuteTime": {
          "end_time": "2021-01-03T13:01:00.853720Z",
          "start_time": "2021-01-03T13:01:00.828761Z"
        },
        "id": "_SrB6R-7MWsa",
        "colab": {
          "base_uri": "https://localhost:8080/",
          "height": 204
        },
        "outputId": "8ec3d454-609c-4995-c115-b0b98c502f66"
      },
      "source": [
        "population = pd.read_csv(\"population_00.csv\", index_col=0)\n",
        "population"
      ],
      "execution_count": null,
      "outputs": [
        {
          "output_type": "execute_result",
          "data": {
            "text/html": [
              "<div>\n",
              "<style scoped>\n",
              "    .dataframe tbody tr th:only-of-type {\n",
              "        vertical-align: middle;\n",
              "    }\n",
              "\n",
              "    .dataframe tbody tr th {\n",
              "        vertical-align: top;\n",
              "    }\n",
              "\n",
              "    .dataframe thead th {\n",
              "        text-align: right;\n",
              "    }\n",
              "</style>\n",
              "<table border=\"1\" class=\"dataframe\">\n",
              "  <thead>\n",
              "    <tr style=\"text-align: right;\">\n",
              "      <th></th>\n",
              "      <th>2010 Census Population</th>\n",
              "    </tr>\n",
              "    <tr>\n",
              "      <th>Zip Code ZCTA</th>\n",
              "      <th></th>\n",
              "    </tr>\n",
              "  </thead>\n",
              "  <tbody>\n",
              "    <tr>\n",
              "      <th>57538</th>\n",
              "      <td>322</td>\n",
              "    </tr>\n",
              "    <tr>\n",
              "      <th>59916</th>\n",
              "      <td>130</td>\n",
              "    </tr>\n",
              "    <tr>\n",
              "      <th>37660</th>\n",
              "      <td>40038</td>\n",
              "    </tr>\n",
              "    <tr>\n",
              "      <th>2860</th>\n",
              "      <td>45199</td>\n",
              "    </tr>\n",
              "  </tbody>\n",
              "</table>\n",
              "</div>"
            ],
            "text/plain": [
              "               2010 Census Population\n",
              "Zip Code ZCTA                        \n",
              "57538                             322\n",
              "59916                             130\n",
              "37660                           40038\n",
              "2860                            45199"
            ]
          },
          "metadata": {
            "tags": []
          },
          "execution_count": 18
        }
      ]
    },
    {
      "cell_type": "code",
      "metadata": {
        "ExecuteTime": {
          "end_time": "2021-01-03T13:01:26.573515Z",
          "start_time": "2021-01-03T13:01:26.554566Z"
        },
        "id": "0coF6GFjMWsb",
        "colab": {
          "base_uri": "https://localhost:8080/",
          "height": 204
        },
        "outputId": "08e9620c-3ef2-40d6-d087-df6f6f943931"
      },
      "source": [
        "unemployment = pd.read_csv(\"unemployment.csv\", index_col=0)\n",
        "unemployment"
      ],
      "execution_count": null,
      "outputs": [
        {
          "output_type": "execute_result",
          "data": {
            "text/html": [
              "<div>\n",
              "<style scoped>\n",
              "    .dataframe tbody tr th:only-of-type {\n",
              "        vertical-align: middle;\n",
              "    }\n",
              "\n",
              "    .dataframe tbody tr th {\n",
              "        vertical-align: top;\n",
              "    }\n",
              "\n",
              "    .dataframe thead th {\n",
              "        text-align: right;\n",
              "    }\n",
              "</style>\n",
              "<table border=\"1\" class=\"dataframe\">\n",
              "  <thead>\n",
              "    <tr style=\"text-align: right;\">\n",
              "      <th></th>\n",
              "      <th>Unemployment</th>\n",
              "      <th>Participants</th>\n",
              "    </tr>\n",
              "    <tr>\n",
              "      <th>Zip</th>\n",
              "      <th></th>\n",
              "      <th></th>\n",
              "    </tr>\n",
              "  </thead>\n",
              "  <tbody>\n",
              "    <tr>\n",
              "      <th>2860</th>\n",
              "      <td>0.11</td>\n",
              "      <td>34447</td>\n",
              "    </tr>\n",
              "    <tr>\n",
              "      <th>46167</th>\n",
              "      <td>0.02</td>\n",
              "      <td>4800</td>\n",
              "    </tr>\n",
              "    <tr>\n",
              "      <th>1097</th>\n",
              "      <td>0.33</td>\n",
              "      <td>42</td>\n",
              "    </tr>\n",
              "    <tr>\n",
              "      <th>80808</th>\n",
              "      <td>0.07</td>\n",
              "      <td>4310</td>\n",
              "    </tr>\n",
              "  </tbody>\n",
              "</table>\n",
              "</div>"
            ],
            "text/plain": [
              "       Unemployment  Participants\n",
              "Zip                              \n",
              "2860           0.11         34447\n",
              "46167          0.02          4800\n",
              "1097           0.33            42\n",
              "80808          0.07          4310"
            ]
          },
          "metadata": {
            "tags": []
          },
          "execution_count": 19
        }
      ]
    },
    {
      "cell_type": "code",
      "metadata": {
        "ExecuteTime": {
          "end_time": "2021-01-03T13:04:18.920476Z",
          "start_time": "2021-01-03T13:04:18.895414Z"
        },
        "id": "-GsvnRYOMWsb",
        "colab": {
          "base_uri": "https://localhost:8080/",
          "height": 297
        },
        "outputId": "8cd781e6-fe37-48bc-b1f8-b2b54a9657c9"
      },
      "source": [
        "population.append(unemployment)"
      ],
      "execution_count": null,
      "outputs": [
        {
          "output_type": "execute_result",
          "data": {
            "text/html": [
              "<div>\n",
              "<style scoped>\n",
              "    .dataframe tbody tr th:only-of-type {\n",
              "        vertical-align: middle;\n",
              "    }\n",
              "\n",
              "    .dataframe tbody tr th {\n",
              "        vertical-align: top;\n",
              "    }\n",
              "\n",
              "    .dataframe thead th {\n",
              "        text-align: right;\n",
              "    }\n",
              "</style>\n",
              "<table border=\"1\" class=\"dataframe\">\n",
              "  <thead>\n",
              "    <tr style=\"text-align: right;\">\n",
              "      <th></th>\n",
              "      <th>2010 Census Population</th>\n",
              "      <th>Unemployment</th>\n",
              "      <th>Participants</th>\n",
              "    </tr>\n",
              "  </thead>\n",
              "  <tbody>\n",
              "    <tr>\n",
              "      <th>57538</th>\n",
              "      <td>322.0</td>\n",
              "      <td>NaN</td>\n",
              "      <td>NaN</td>\n",
              "    </tr>\n",
              "    <tr>\n",
              "      <th>59916</th>\n",
              "      <td>130.0</td>\n",
              "      <td>NaN</td>\n",
              "      <td>NaN</td>\n",
              "    </tr>\n",
              "    <tr>\n",
              "      <th>37660</th>\n",
              "      <td>40038.0</td>\n",
              "      <td>NaN</td>\n",
              "      <td>NaN</td>\n",
              "    </tr>\n",
              "    <tr>\n",
              "      <th>2860</th>\n",
              "      <td>45199.0</td>\n",
              "      <td>NaN</td>\n",
              "      <td>NaN</td>\n",
              "    </tr>\n",
              "    <tr>\n",
              "      <th>2860</th>\n",
              "      <td>NaN</td>\n",
              "      <td>0.11</td>\n",
              "      <td>34447.0</td>\n",
              "    </tr>\n",
              "    <tr>\n",
              "      <th>46167</th>\n",
              "      <td>NaN</td>\n",
              "      <td>0.02</td>\n",
              "      <td>4800.0</td>\n",
              "    </tr>\n",
              "    <tr>\n",
              "      <th>1097</th>\n",
              "      <td>NaN</td>\n",
              "      <td>0.33</td>\n",
              "      <td>42.0</td>\n",
              "    </tr>\n",
              "    <tr>\n",
              "      <th>80808</th>\n",
              "      <td>NaN</td>\n",
              "      <td>0.07</td>\n",
              "      <td>4310.0</td>\n",
              "    </tr>\n",
              "  </tbody>\n",
              "</table>\n",
              "</div>"
            ],
            "text/plain": [
              "       2010 Census Population  Unemployment  Participants\n",
              "57538                   322.0           NaN           NaN\n",
              "59916                   130.0           NaN           NaN\n",
              "37660                 40038.0           NaN           NaN\n",
              "2860                  45199.0           NaN           NaN\n",
              "2860                      NaN          0.11       34447.0\n",
              "46167                     NaN          0.02        4800.0\n",
              "1097                      NaN          0.33          42.0\n",
              "80808                     NaN          0.07        4310.0"
            ]
          },
          "metadata": {
            "tags": []
          },
          "execution_count": 20
        }
      ]
    },
    {
      "cell_type": "code",
      "metadata": {
        "ExecuteTime": {
          "end_time": "2021-01-03T13:04:58.648313Z",
          "start_time": "2021-01-03T13:04:58.625374Z"
        },
        "id": "rj1rpg3-MWsb",
        "colab": {
          "base_uri": "https://localhost:8080/",
          "height": 297
        },
        "outputId": "9c947b89-ae52-4168-b0b8-ca997c144669"
      },
      "source": [
        "#Concact at row level\n",
        "pd.concat([population, unemployment])"
      ],
      "execution_count": null,
      "outputs": [
        {
          "output_type": "execute_result",
          "data": {
            "text/html": [
              "<div>\n",
              "<style scoped>\n",
              "    .dataframe tbody tr th:only-of-type {\n",
              "        vertical-align: middle;\n",
              "    }\n",
              "\n",
              "    .dataframe tbody tr th {\n",
              "        vertical-align: top;\n",
              "    }\n",
              "\n",
              "    .dataframe thead th {\n",
              "        text-align: right;\n",
              "    }\n",
              "</style>\n",
              "<table border=\"1\" class=\"dataframe\">\n",
              "  <thead>\n",
              "    <tr style=\"text-align: right;\">\n",
              "      <th></th>\n",
              "      <th>2010 Census Population</th>\n",
              "      <th>Unemployment</th>\n",
              "      <th>Participants</th>\n",
              "    </tr>\n",
              "  </thead>\n",
              "  <tbody>\n",
              "    <tr>\n",
              "      <th>57538</th>\n",
              "      <td>322.0</td>\n",
              "      <td>NaN</td>\n",
              "      <td>NaN</td>\n",
              "    </tr>\n",
              "    <tr>\n",
              "      <th>59916</th>\n",
              "      <td>130.0</td>\n",
              "      <td>NaN</td>\n",
              "      <td>NaN</td>\n",
              "    </tr>\n",
              "    <tr>\n",
              "      <th>37660</th>\n",
              "      <td>40038.0</td>\n",
              "      <td>NaN</td>\n",
              "      <td>NaN</td>\n",
              "    </tr>\n",
              "    <tr>\n",
              "      <th>2860</th>\n",
              "      <td>45199.0</td>\n",
              "      <td>NaN</td>\n",
              "      <td>NaN</td>\n",
              "    </tr>\n",
              "    <tr>\n",
              "      <th>2860</th>\n",
              "      <td>NaN</td>\n",
              "      <td>0.11</td>\n",
              "      <td>34447.0</td>\n",
              "    </tr>\n",
              "    <tr>\n",
              "      <th>46167</th>\n",
              "      <td>NaN</td>\n",
              "      <td>0.02</td>\n",
              "      <td>4800.0</td>\n",
              "    </tr>\n",
              "    <tr>\n",
              "      <th>1097</th>\n",
              "      <td>NaN</td>\n",
              "      <td>0.33</td>\n",
              "      <td>42.0</td>\n",
              "    </tr>\n",
              "    <tr>\n",
              "      <th>80808</th>\n",
              "      <td>NaN</td>\n",
              "      <td>0.07</td>\n",
              "      <td>4310.0</td>\n",
              "    </tr>\n",
              "  </tbody>\n",
              "</table>\n",
              "</div>"
            ],
            "text/plain": [
              "       2010 Census Population  Unemployment  Participants\n",
              "57538                   322.0           NaN           NaN\n",
              "59916                   130.0           NaN           NaN\n",
              "37660                 40038.0           NaN           NaN\n",
              "2860                  45199.0           NaN           NaN\n",
              "2860                      NaN          0.11       34447.0\n",
              "46167                     NaN          0.02        4800.0\n",
              "1097                      NaN          0.33          42.0\n",
              "80808                     NaN          0.07        4310.0"
            ]
          },
          "metadata": {
            "tags": []
          },
          "execution_count": 21
        }
      ]
    },
    {
      "cell_type": "code",
      "metadata": {
        "ExecuteTime": {
          "end_time": "2021-01-03T13:05:12.291777Z",
          "start_time": "2021-01-03T13:05:12.277813Z"
        },
        "id": "7fg_LUxuMWsc",
        "colab": {
          "base_uri": "https://localhost:8080/",
          "height": 297
        },
        "outputId": "eaac9165-8005-4891-d885-05a1542f511b"
      },
      "source": [
        "#Concact at row level\n",
        "pd.concat([population, unemployment], axis=0)"
      ],
      "execution_count": null,
      "outputs": [
        {
          "output_type": "execute_result",
          "data": {
            "text/html": [
              "<div>\n",
              "<style scoped>\n",
              "    .dataframe tbody tr th:only-of-type {\n",
              "        vertical-align: middle;\n",
              "    }\n",
              "\n",
              "    .dataframe tbody tr th {\n",
              "        vertical-align: top;\n",
              "    }\n",
              "\n",
              "    .dataframe thead th {\n",
              "        text-align: right;\n",
              "    }\n",
              "</style>\n",
              "<table border=\"1\" class=\"dataframe\">\n",
              "  <thead>\n",
              "    <tr style=\"text-align: right;\">\n",
              "      <th></th>\n",
              "      <th>2010 Census Population</th>\n",
              "      <th>Unemployment</th>\n",
              "      <th>Participants</th>\n",
              "    </tr>\n",
              "  </thead>\n",
              "  <tbody>\n",
              "    <tr>\n",
              "      <th>57538</th>\n",
              "      <td>322.0</td>\n",
              "      <td>NaN</td>\n",
              "      <td>NaN</td>\n",
              "    </tr>\n",
              "    <tr>\n",
              "      <th>59916</th>\n",
              "      <td>130.0</td>\n",
              "      <td>NaN</td>\n",
              "      <td>NaN</td>\n",
              "    </tr>\n",
              "    <tr>\n",
              "      <th>37660</th>\n",
              "      <td>40038.0</td>\n",
              "      <td>NaN</td>\n",
              "      <td>NaN</td>\n",
              "    </tr>\n",
              "    <tr>\n",
              "      <th>2860</th>\n",
              "      <td>45199.0</td>\n",
              "      <td>NaN</td>\n",
              "      <td>NaN</td>\n",
              "    </tr>\n",
              "    <tr>\n",
              "      <th>2860</th>\n",
              "      <td>NaN</td>\n",
              "      <td>0.11</td>\n",
              "      <td>34447.0</td>\n",
              "    </tr>\n",
              "    <tr>\n",
              "      <th>46167</th>\n",
              "      <td>NaN</td>\n",
              "      <td>0.02</td>\n",
              "      <td>4800.0</td>\n",
              "    </tr>\n",
              "    <tr>\n",
              "      <th>1097</th>\n",
              "      <td>NaN</td>\n",
              "      <td>0.33</td>\n",
              "      <td>42.0</td>\n",
              "    </tr>\n",
              "    <tr>\n",
              "      <th>80808</th>\n",
              "      <td>NaN</td>\n",
              "      <td>0.07</td>\n",
              "      <td>4310.0</td>\n",
              "    </tr>\n",
              "  </tbody>\n",
              "</table>\n",
              "</div>"
            ],
            "text/plain": [
              "       2010 Census Population  Unemployment  Participants\n",
              "57538                   322.0           NaN           NaN\n",
              "59916                   130.0           NaN           NaN\n",
              "37660                 40038.0           NaN           NaN\n",
              "2860                  45199.0           NaN           NaN\n",
              "2860                      NaN          0.11       34447.0\n",
              "46167                     NaN          0.02        4800.0\n",
              "1097                      NaN          0.33          42.0\n",
              "80808                     NaN          0.07        4310.0"
            ]
          },
          "metadata": {
            "tags": []
          },
          "execution_count": 22
        }
      ]
    },
    {
      "cell_type": "code",
      "metadata": {
        "ExecuteTime": {
          "end_time": "2021-01-03T13:05:47.907309Z",
          "start_time": "2021-01-03T13:05:47.882373Z"
        },
        "id": "xqfClz6GMWsc",
        "colab": {
          "base_uri": "https://localhost:8080/",
          "height": 266
        },
        "outputId": "ce6fb509-e68b-4d47-ddbb-3b9771c11b77"
      },
      "source": [
        "#Concact at column level\n",
        "pd.concat([population, unemployment], axis=1)"
      ],
      "execution_count": null,
      "outputs": [
        {
          "output_type": "execute_result",
          "data": {
            "text/html": [
              "<div>\n",
              "<style scoped>\n",
              "    .dataframe tbody tr th:only-of-type {\n",
              "        vertical-align: middle;\n",
              "    }\n",
              "\n",
              "    .dataframe tbody tr th {\n",
              "        vertical-align: top;\n",
              "    }\n",
              "\n",
              "    .dataframe thead th {\n",
              "        text-align: right;\n",
              "    }\n",
              "</style>\n",
              "<table border=\"1\" class=\"dataframe\">\n",
              "  <thead>\n",
              "    <tr style=\"text-align: right;\">\n",
              "      <th></th>\n",
              "      <th>2010 Census Population</th>\n",
              "      <th>Unemployment</th>\n",
              "      <th>Participants</th>\n",
              "    </tr>\n",
              "  </thead>\n",
              "  <tbody>\n",
              "    <tr>\n",
              "      <th>1097</th>\n",
              "      <td>NaN</td>\n",
              "      <td>0.33</td>\n",
              "      <td>42.0</td>\n",
              "    </tr>\n",
              "    <tr>\n",
              "      <th>2860</th>\n",
              "      <td>45199.0</td>\n",
              "      <td>0.11</td>\n",
              "      <td>34447.0</td>\n",
              "    </tr>\n",
              "    <tr>\n",
              "      <th>37660</th>\n",
              "      <td>40038.0</td>\n",
              "      <td>NaN</td>\n",
              "      <td>NaN</td>\n",
              "    </tr>\n",
              "    <tr>\n",
              "      <th>46167</th>\n",
              "      <td>NaN</td>\n",
              "      <td>0.02</td>\n",
              "      <td>4800.0</td>\n",
              "    </tr>\n",
              "    <tr>\n",
              "      <th>57538</th>\n",
              "      <td>322.0</td>\n",
              "      <td>NaN</td>\n",
              "      <td>NaN</td>\n",
              "    </tr>\n",
              "    <tr>\n",
              "      <th>59916</th>\n",
              "      <td>130.0</td>\n",
              "      <td>NaN</td>\n",
              "      <td>NaN</td>\n",
              "    </tr>\n",
              "    <tr>\n",
              "      <th>80808</th>\n",
              "      <td>NaN</td>\n",
              "      <td>0.07</td>\n",
              "      <td>4310.0</td>\n",
              "    </tr>\n",
              "  </tbody>\n",
              "</table>\n",
              "</div>"
            ],
            "text/plain": [
              "       2010 Census Population  Unemployment  Participants\n",
              "1097                      NaN          0.33          42.0\n",
              "2860                  45199.0          0.11       34447.0\n",
              "37660                 40038.0           NaN           NaN\n",
              "46167                     NaN          0.02        4800.0\n",
              "57538                   322.0           NaN           NaN\n",
              "59916                   130.0           NaN           NaN\n",
              "80808                     NaN          0.07        4310.0"
            ]
          },
          "metadata": {
            "tags": []
          },
          "execution_count": 23
        }
      ]
    },
    {
      "cell_type": "code",
      "metadata": {
        "id": "HOjwaJvKMWsc"
      },
      "source": [],
      "execution_count": null,
      "outputs": []
    },
    {
      "cell_type": "code",
      "metadata": {
        "ExecuteTime": {
          "end_time": "2021-01-03T13:11:20.872479Z",
          "start_time": "2021-01-03T13:11:20.868412Z"
        },
        "id": "LxarkaJwMWsc"
      },
      "source": [
        "#Multi-Indexes"
      ],
      "execution_count": null,
      "outputs": []
    },
    {
      "cell_type": "code",
      "metadata": {
        "ExecuteTime": {
          "end_time": "2021-01-03T13:11:58.025305Z",
          "start_time": "2021-01-03T13:11:58.004361Z"
        },
        "id": "OAVnmOxLMWsc",
        "colab": {
          "base_uri": "https://localhost:8080/",
          "height": 173
        },
        "outputId": "d7634f66-b9d8-483f-a4bf-b5456fb39466"
      },
      "source": [
        "q1_2013 = pd.read_csv(\"q1_rainfall_2013.csv\", index_col=0)\n",
        "q1_2013"
      ],
      "execution_count": null,
      "outputs": [
        {
          "output_type": "execute_result",
          "data": {
            "text/html": [
              "<div>\n",
              "<style scoped>\n",
              "    .dataframe tbody tr th:only-of-type {\n",
              "        vertical-align: middle;\n",
              "    }\n",
              "\n",
              "    .dataframe tbody tr th {\n",
              "        vertical-align: top;\n",
              "    }\n",
              "\n",
              "    .dataframe thead th {\n",
              "        text-align: right;\n",
              "    }\n",
              "</style>\n",
              "<table border=\"1\" class=\"dataframe\">\n",
              "  <thead>\n",
              "    <tr style=\"text-align: right;\">\n",
              "      <th></th>\n",
              "      <th>Precipitation</th>\n",
              "    </tr>\n",
              "    <tr>\n",
              "      <th>Month</th>\n",
              "      <th></th>\n",
              "    </tr>\n",
              "  </thead>\n",
              "  <tbody>\n",
              "    <tr>\n",
              "      <th>Jan</th>\n",
              "      <td>0.096129</td>\n",
              "    </tr>\n",
              "    <tr>\n",
              "      <th>Feb</th>\n",
              "      <td>0.067143</td>\n",
              "    </tr>\n",
              "    <tr>\n",
              "      <th>Mar</th>\n",
              "      <td>0.061613</td>\n",
              "    </tr>\n",
              "  </tbody>\n",
              "</table>\n",
              "</div>"
            ],
            "text/plain": [
              "       Precipitation\n",
              "Month               \n",
              "Jan         0.096129\n",
              "Feb         0.067143\n",
              "Mar         0.061613"
            ]
          },
          "metadata": {
            "tags": []
          },
          "execution_count": 24
        }
      ]
    },
    {
      "cell_type": "code",
      "metadata": {
        "ExecuteTime": {
          "end_time": "2021-01-03T13:12:24.595127Z",
          "start_time": "2021-01-03T13:12:24.569161Z"
        },
        "id": "QtAogzJ2MWsd",
        "colab": {
          "base_uri": "https://localhost:8080/",
          "height": 173
        },
        "outputId": "7f70a430-b456-4c2f-c60c-27edb129c6a9"
      },
      "source": [
        "q1_2014 = pd.read_csv(\"q1_rainfall_2014.csv\", index_col=0)\n",
        "q1_2014"
      ],
      "execution_count": null,
      "outputs": [
        {
          "output_type": "execute_result",
          "data": {
            "text/html": [
              "<div>\n",
              "<style scoped>\n",
              "    .dataframe tbody tr th:only-of-type {\n",
              "        vertical-align: middle;\n",
              "    }\n",
              "\n",
              "    .dataframe tbody tr th {\n",
              "        vertical-align: top;\n",
              "    }\n",
              "\n",
              "    .dataframe thead th {\n",
              "        text-align: right;\n",
              "    }\n",
              "</style>\n",
              "<table border=\"1\" class=\"dataframe\">\n",
              "  <thead>\n",
              "    <tr style=\"text-align: right;\">\n",
              "      <th></th>\n",
              "      <th>Precipitation</th>\n",
              "    </tr>\n",
              "    <tr>\n",
              "      <th>Month</th>\n",
              "      <th></th>\n",
              "    </tr>\n",
              "  </thead>\n",
              "  <tbody>\n",
              "    <tr>\n",
              "      <th>Jan</th>\n",
              "      <td>0.050323</td>\n",
              "    </tr>\n",
              "    <tr>\n",
              "      <th>Feb</th>\n",
              "      <td>0.082143</td>\n",
              "    </tr>\n",
              "    <tr>\n",
              "      <th>Mar</th>\n",
              "      <td>0.709680</td>\n",
              "    </tr>\n",
              "  </tbody>\n",
              "</table>\n",
              "</div>"
            ],
            "text/plain": [
              "       Precipitation\n",
              "Month               \n",
              "Jan         0.050323\n",
              "Feb         0.082143\n",
              "Mar         0.709680"
            ]
          },
          "metadata": {
            "tags": []
          },
          "execution_count": 25
        }
      ]
    },
    {
      "cell_type": "code",
      "metadata": {
        "ExecuteTime": {
          "end_time": "2021-01-03T13:13:01.082257Z",
          "start_time": "2021-01-03T13:13:01.071290Z"
        },
        "id": "s783zMOhMWse"
      },
      "source": [
        "q1_1314 = pd.concat([q1_2013, q1_2014])\n",
        "q1_1314"
      ],
      "execution_count": null,
      "outputs": []
    },
    {
      "cell_type": "code",
      "metadata": {
        "ExecuteTime": {
          "end_time": "2021-01-03T13:13:25.295217Z",
          "start_time": "2021-01-03T13:13:25.282250Z"
        },
        "id": "U1WEbBFfMWse"
      },
      "source": [
        "q1_1314 = pd.concat([q1_2013, q1_2014], keys=[2013,2014])\n",
        "q1_1314"
      ],
      "execution_count": null,
      "outputs": []
    },
    {
      "cell_type": "code",
      "metadata": {
        "ExecuteTime": {
          "end_time": "2021-01-03T13:14:44.274113Z",
          "start_time": "2021-01-03T13:14:44.250175Z"
        },
        "id": "h-gV75PXMWsf"
      },
      "source": [
        "q1_1314.loc[2013]"
      ],
      "execution_count": null,
      "outputs": []
    },
    {
      "cell_type": "code",
      "metadata": {
        "id": "iH4MkL6hMWsg"
      },
      "source": [],
      "execution_count": null,
      "outputs": []
    },
    {
      "cell_type": "code",
      "metadata": {
        "id": "Tjl4n-HCMWsi"
      },
      "source": [],
      "execution_count": null,
      "outputs": []
    },
    {
      "cell_type": "code",
      "metadata": {
        "ExecuteTime": {
          "end_time": "2021-01-03T13:17:53.402063Z",
          "start_time": "2021-01-03T13:17:53.388144Z"
        },
        "id": "AmpPXaiwMWsi"
      },
      "source": [
        "q1_1314 = pd.concat([q1_2013, q1_2014], axis=\"columns\")\n",
        "q1_1314"
      ],
      "execution_count": null,
      "outputs": []
    },
    {
      "cell_type": "code",
      "metadata": {
        "ExecuteTime": {
          "end_time": "2021-01-03T13:18:21.445919Z",
          "start_time": "2021-01-03T13:18:21.426015Z"
        },
        "id": "QYZbg1waMWsk"
      },
      "source": [
        "q1_1314 = pd.concat([q1_2013, q1_2014], keys=[2013,2014], axis=1)\n",
        "q1_1314"
      ],
      "execution_count": null,
      "outputs": []
    },
    {
      "cell_type": "code",
      "metadata": {
        "ExecuteTime": {
          "end_time": "2021-01-03T13:18:33.190298Z",
          "start_time": "2021-01-03T13:18:33.171345Z"
        },
        "id": "tDEAVL9jMWsk"
      },
      "source": [
        "q1_1314[2013]"
      ],
      "execution_count": null,
      "outputs": []
    },
    {
      "cell_type": "code",
      "metadata": {
        "ExecuteTime": {
          "end_time": "2021-01-03T13:20:06.753714Z",
          "start_time": "2021-01-03T13:20:06.732770Z"
        },
        "id": "msTTSWFGMWsk"
      },
      "source": [
        "dict_q1 = {2013:q1_2013, 2014:q1_2014}\n",
        "dict_q1"
      ],
      "execution_count": null,
      "outputs": []
    },
    {
      "cell_type": "code",
      "metadata": {
        "ExecuteTime": {
          "end_time": "2021-01-03T13:20:53.483118Z",
          "start_time": "2021-01-03T13:20:53.460130Z"
        },
        "id": "E0RQBlXzMWsl"
      },
      "source": [
        "rain_1314 = pd.concat(dict_q1, axis=1)\n",
        "rain_1314"
      ],
      "execution_count": null,
      "outputs": []
    },
    {
      "cell_type": "code",
      "metadata": {
        "id": "ybsKtdJaMWsl"
      },
      "source": [],
      "execution_count": null,
      "outputs": []
    },
    {
      "cell_type": "code",
      "metadata": {
        "id": "mlFC-p5wMWsl"
      },
      "source": [
        "### Inner and Outer Joins"
      ],
      "execution_count": null,
      "outputs": []
    },
    {
      "cell_type": "code",
      "metadata": {
        "id": "bWh05c9GMWsm"
      },
      "source": [],
      "execution_count": null,
      "outputs": []
    },
    {
      "cell_type": "code",
      "metadata": {
        "id": "TSh4T2b1MWsm"
      },
      "source": [
        "# np.arange"
      ],
      "execution_count": null,
      "outputs": []
    },
    {
      "cell_type": "code",
      "metadata": {
        "ExecuteTime": {
          "end_time": "2021-01-03T13:29:11.028260Z",
          "start_time": "2021-01-03T13:29:11.019237Z"
        },
        "id": "c1C1FGZKMWso"
      },
      "source": [
        "np.arange(4,12,2)"
      ],
      "execution_count": null,
      "outputs": []
    },
    {
      "cell_type": "code",
      "metadata": {
        "ExecuteTime": {
          "end_time": "2021-01-03T13:29:40.583858Z",
          "start_time": "2021-01-03T13:29:40.568885Z"
        },
        "id": "qFjdh4ueMWsp"
      },
      "source": [
        "np.arange(8)"
      ],
      "execution_count": null,
      "outputs": []
    },
    {
      "cell_type": "code",
      "metadata": {
        "ExecuteTime": {
          "end_time": "2021-01-03T13:30:17.571113Z",
          "start_time": "2021-01-03T13:30:17.557152Z"
        },
        "id": "cd3G48N3MWsp"
      },
      "source": [
        "np.arange(8).reshape(2,4)"
      ],
      "execution_count": null,
      "outputs": []
    },
    {
      "cell_type": "code",
      "metadata": {
        "ExecuteTime": {
          "end_time": "2021-01-03T13:30:29.507580Z",
          "start_time": "2021-01-03T13:30:29.490668Z"
        },
        "id": "OUSE-1KeMWsp"
      },
      "source": [
        "np.arange(8).reshape(2,4) + 0.1"
      ],
      "execution_count": null,
      "outputs": []
    },
    {
      "cell_type": "code",
      "metadata": {
        "id": "o5F6pwtGMWsp"
      },
      "source": [],
      "execution_count": null,
      "outputs": []
    },
    {
      "cell_type": "code",
      "metadata": {
        "ExecuteTime": {
          "end_time": "2021-01-03T13:31:03.448354Z",
          "start_time": "2021-01-03T13:31:03.433434Z"
        },
        "id": "52oOLVYNMWsp"
      },
      "source": [
        "A= np.arange(8).reshape(2,4) + 0.1\n",
        "A"
      ],
      "execution_count": null,
      "outputs": []
    },
    {
      "cell_type": "code",
      "metadata": {
        "ExecuteTime": {
          "end_time": "2021-01-03T13:31:04.025423Z",
          "start_time": "2021-01-03T13:31:04.018393Z"
        },
        "id": "BRBAjRfdMWsq"
      },
      "source": [
        "B = np.arange(6).reshape(2,3) + 0.2\n",
        "B"
      ],
      "execution_count": null,
      "outputs": []
    },
    {
      "cell_type": "code",
      "metadata": {
        "ExecuteTime": {
          "end_time": "2021-01-03T13:31:04.570761Z",
          "start_time": "2021-01-03T13:31:04.563776Z"
        },
        "id": "kcDVpK1MMWsq"
      },
      "source": [
        "C = np.arange(12).reshape(3,4) + 0.3\n",
        "C"
      ],
      "execution_count": null,
      "outputs": []
    },
    {
      "cell_type": "code",
      "metadata": {
        "id": "yTfnV473MWsq"
      },
      "source": [],
      "execution_count": null,
      "outputs": []
    },
    {
      "cell_type": "code",
      "metadata": {
        "id": "tAQiJPUqMWsq"
      },
      "source": [],
      "execution_count": null,
      "outputs": []
    },
    {
      "cell_type": "code",
      "metadata": {
        "ExecuteTime": {
          "end_time": "2021-01-03T13:37:01.025517Z",
          "start_time": "2021-01-03T13:37:01.015592Z"
        },
        "id": "O99z86KyMWsq"
      },
      "source": [
        "#Stacking arrays Horizontally (#Rows should be same)\n",
        "\n",
        "np.hstack([A,B])"
      ],
      "execution_count": null,
      "outputs": []
    },
    {
      "cell_type": "code",
      "metadata": {
        "ExecuteTime": {
          "end_time": "2021-01-03T13:37:57.705938Z",
          "start_time": "2021-01-03T13:37:57.686988Z"
        },
        "id": "4yPww9qNMWsq"
      },
      "source": [
        "np.concatenate([A,B], axis=1)"
      ],
      "execution_count": null,
      "outputs": []
    },
    {
      "cell_type": "code",
      "metadata": {
        "ExecuteTime": {
          "end_time": "2021-01-03T13:42:13.277861Z",
          "start_time": "2021-01-03T13:42:13.256918Z"
        },
        "id": "rPwQ9PjdMWsq"
      },
      "source": [
        "# trying to add A,C with different #rows\n",
        "np.concatenate([A,C], axis=1)"
      ],
      "execution_count": null,
      "outputs": []
    },
    {
      "cell_type": "code",
      "metadata": {
        "ExecuteTime": {
          "end_time": "2021-01-03T13:39:28.272071Z",
          "start_time": "2021-01-03T13:39:28.252126Z"
        },
        "id": "nrEHj8SQMWsr"
      },
      "source": [
        "#Stacking arrays Vertically (#Columns should be same)\n",
        "\n",
        "np.vstack([A,C])"
      ],
      "execution_count": null,
      "outputs": []
    },
    {
      "cell_type": "code",
      "metadata": {
        "ExecuteTime": {
          "end_time": "2021-01-03T13:39:51.377750Z",
          "start_time": "2021-01-03T13:39:51.363788Z"
        },
        "id": "aXzeZ3V-MWsr"
      },
      "source": [
        "np.concatenate([A,C], axis=0)"
      ],
      "execution_count": null,
      "outputs": []
    },
    {
      "cell_type": "code",
      "metadata": {
        "ExecuteTime": {
          "end_time": "2021-01-03T13:42:50.746613Z",
          "start_time": "2021-01-03T13:42:50.722678Z"
        },
        "id": "HZ1YPwzvMWsr"
      },
      "source": [
        "# trying to add B,C with different #columns\n",
        "np.concatenate([B,C], axis=0)"
      ],
      "execution_count": null,
      "outputs": []
    },
    {
      "cell_type": "code",
      "metadata": {
        "id": "nCUygT2cMWsr"
      },
      "source": [],
      "execution_count": null,
      "outputs": []
    },
    {
      "cell_type": "code",
      "metadata": {
        "id": "xTYptnKrMWsr"
      },
      "source": [],
      "execution_count": null,
      "outputs": []
    },
    {
      "cell_type": "code",
      "metadata": {
        "id": "pARyA-L-MWsr"
      },
      "source": [],
      "execution_count": null,
      "outputs": []
    },
    {
      "cell_type": "code",
      "metadata": {
        "ExecuteTime": {
          "end_time": "2021-01-03T13:52:32.377379Z",
          "start_time": "2021-01-03T13:52:32.368442Z"
        },
        "id": "fwUZhyBzMWsr"
      },
      "source": [
        "population"
      ],
      "execution_count": null,
      "outputs": []
    },
    {
      "cell_type": "code",
      "metadata": {
        "ExecuteTime": {
          "end_time": "2021-01-03T13:52:37.285737Z",
          "start_time": "2021-01-03T13:52:37.275723Z"
        },
        "id": "e6NYj43XMWsr"
      },
      "source": [
        "unemployment"
      ],
      "execution_count": null,
      "outputs": []
    },
    {
      "cell_type": "code",
      "metadata": {
        "ExecuteTime": {
          "end_time": "2021-01-03T13:53:13.712004Z",
          "start_time": "2021-01-03T13:53:13.688068Z"
        },
        "id": "hTZGdojVMWsr"
      },
      "source": [
        "pd.concat([population, unemployment], axis=1)"
      ],
      "execution_count": null,
      "outputs": []
    },
    {
      "cell_type": "code",
      "metadata": {
        "ExecuteTime": {
          "end_time": "2021-01-03T13:53:35.556168Z",
          "start_time": "2021-01-03T13:53:35.534186Z"
        },
        "id": "ECfAZveTMWsr"
      },
      "source": [
        "pd.concat([population, unemployment], axis=1, join=\"outer\")"
      ],
      "execution_count": null,
      "outputs": []
    },
    {
      "cell_type": "code",
      "metadata": {
        "ExecuteTime": {
          "end_time": "2021-01-03T13:54:54.986491Z",
          "start_time": "2021-01-03T13:54:54.965496Z"
        },
        "id": "FJlH0_UlMWsr"
      },
      "source": [
        "pd.concat([population, unemployment], axis=1, join=\"inner\")"
      ],
      "execution_count": null,
      "outputs": []
    },
    {
      "cell_type": "code",
      "metadata": {
        "id": "s0z8D3gWMWss"
      },
      "source": [],
      "execution_count": null,
      "outputs": []
    },
    {
      "cell_type": "code",
      "metadata": {
        "ExecuteTime": {
          "end_time": "2021-01-03T13:56:25.181814Z",
          "start_time": "2021-01-03T13:56:25.168848Z"
        },
        "id": "yUIDaBT8MWss"
      },
      "source": [
        "pd.concat([population, unemployment], axis=0, join=\"inner\")"
      ],
      "execution_count": null,
      "outputs": []
    },
    {
      "cell_type": "code",
      "metadata": {
        "ExecuteTime": {
          "end_time": "2021-01-03T13:57:13.749709Z",
          "start_time": "2021-01-03T13:57:13.732714Z"
        },
        "id": "rL6QuD6mMWss"
      },
      "source": [
        "pd.concat([population, unemployment], axis=0, join=\"outer\")"
      ],
      "execution_count": null,
      "outputs": []
    },
    {
      "cell_type": "code",
      "metadata": {
        "id": "T44wWfM4MWss"
      },
      "source": [],
      "execution_count": null,
      "outputs": []
    }
  ]
}